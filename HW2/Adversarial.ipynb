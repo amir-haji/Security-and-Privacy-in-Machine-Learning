{
 "cells": [
  {
   "cell_type": "markdown",
   "metadata": {
    "id": "ed2x0xG-8pbk"
   },
   "source": [
    "In this notebook, you will explore adversarial attacks and training methods in deep learning. First, you will train a simple model, ResNet18, on the CIFAR-10 dataset. Next, you will learn about two different adversarial attacks: FGSM (Fast Gradient Sign Method), PGD (Projected Gradient Descent) and UAP (Universal adversarial perturbations). To enhance your understanding, you will implement the PGD and UAP attack from scratch, while the FGSM attack will be implemented using a library. After this, you will use the FGSM attack to generate adversarial examples and then perform adversarial training on the model using the CIFAR-10 dataset. Finally, you will compare the performance and robustness of the adversarially trained model with the original model.\n",
    "\n",
    "\n",
    "\n",
    "Good luck!"
   ]
  },
  {
   "cell_type": "markdown",
   "metadata": {
    "id": "T8dNCs-E8pbm"
   },
   "source": [
    "## outline\n",
    "\n",
    "- Train Resnet on CIFAR10\n",
    "\n",
    "- FGSM Attack using torchattacks\n",
    "\n",
    "- PGD Attack from scratch\n",
    "\n",
    "- UAP Attack from scratch\n",
    "\n",
    "- Visualization\n",
    "\n",
    "- Adversarial Training\n"
   ]
  },
  {
   "cell_type": "markdown",
   "metadata": {
    "id": "0pXHaCTZ8pbm"
   },
   "source": [
    "Name: AmirHossein Haji Mohammad Rezaei\n",
    "\n",
    "\n",
    "\n",
    "Student Number: 99109252"
   ]
  },
  {
   "cell_type": "code",
   "execution_count": 1,
   "metadata": {
    "execution": {
     "iopub.execute_input": "2024-11-05T18:45:38.579734Z",
     "iopub.status.busy": "2024-11-05T18:45:38.579390Z",
     "iopub.status.idle": "2024-11-05T18:45:43.788068Z",
     "shell.execute_reply": "2024-11-05T18:45:43.787291Z",
     "shell.execute_reply.started": "2024-11-05T18:45:38.579696Z"
    },
    "id": "WdCv35138pbm",
    "trusted": true
   },
   "outputs": [],
   "source": [
    "import torch\n",
    "\n",
    "import torchvision\n",
    "\n",
    "import torchvision.transforms as transforms\n",
    "\n",
    "from torchvision.models import resnet18\n",
    "\n",
    "import torch.nn as nn\n",
    "\n",
    "import torch.nn.functional as F\n",
    "\n",
    "import torch.optim as optim\n",
    "\n",
    "import numpy as np\n",
    "\n",
    "from torch.autograd import Variable\n",
    "\n",
    "from tqdm import tqdm\n",
    "\n",
    "import matplotlib.pyplot as plt"
   ]
  },
  {
   "cell_type": "code",
   "execution_count": 2,
   "metadata": {
    "colab": {
     "base_uri": "https://localhost:8080/"
    },
    "execution": {
     "iopub.execute_input": "2024-11-05T18:46:55.047244Z",
     "iopub.status.busy": "2024-11-05T18:46:55.046261Z",
     "iopub.status.idle": "2024-11-05T18:46:55.107792Z",
     "shell.execute_reply": "2024-11-05T18:46:55.106904Z",
     "shell.execute_reply.started": "2024-11-05T18:46:55.047204Z"
    },
    "id": "2040ksyl8pbn",
    "outputId": "011dcd2e-6056-4d65-eae1-5eb8dfa5b925",
    "trusted": true
   },
   "outputs": [
    {
     "name": "stdout",
     "output_type": "stream",
     "text": [
      "cuda:0\n"
     ]
    }
   ],
   "source": [
    "device = 'cuda:0' if torch.cuda.is_available() else 'cpu'\n",
    "\n",
    "print(device)"
   ]
  },
  {
   "cell_type": "code",
   "execution_count": 3,
   "metadata": {
    "execution": {
     "iopub.execute_input": "2024-11-05T18:46:55.753926Z",
     "iopub.status.busy": "2024-11-05T18:46:55.752983Z",
     "iopub.status.idle": "2024-11-05T18:47:09.035644Z",
     "shell.execute_reply": "2024-11-05T18:47:09.034520Z",
     "shell.execute_reply.started": "2024-11-05T18:46:55.753876Z"
    },
    "trusted": true
   },
   "outputs": [],
   "source": [
    "%%capture\n",
    "! pip install gdown"
   ]
  },
  {
   "cell_type": "code",
   "execution_count": 4,
   "metadata": {
    "execution": {
     "iopub.execute_input": "2024-11-05T18:47:09.037983Z",
     "iopub.status.busy": "2024-11-05T18:47:09.037645Z",
     "iopub.status.idle": "2024-11-05T18:47:20.817788Z",
     "shell.execute_reply": "2024-11-05T18:47:20.816511Z",
     "shell.execute_reply.started": "2024-11-05T18:47:09.037946Z"
    },
    "trusted": true
   },
   "outputs": [
    {
     "name": "stdout",
     "output_type": "stream",
     "text": [
      "Downloading...\n",
      "From (original): https://drive.google.com/uc?id=1MxHUo30vxLk7RETvF6Laxl7qo4uzXNz7\n",
      "From (redirected): https://drive.google.com/uc?id=1MxHUo30vxLk7RETvF6Laxl7qo4uzXNz7&confirm=t&uuid=e5c67781-ccd4-4ab4-aa8c-a57934f6a8a7\n",
      "To: /kaggle/working/resnet18_cifar10_model_pretrained.pth\n",
      "100%|██████████████████████████████████████| 44.8M/44.8M [00:00<00:00, 59.3MB/s]\n",
      "Downloading...\n",
      "From (original): https://drive.google.com/uc?id=1Lk2NBUAJ5RI6S-E0RZ0NuyeOz_GdbKus\n",
      "From (redirected): https://drive.google.com/uc?id=1Lk2NBUAJ5RI6S-E0RZ0NuyeOz_GdbKus&confirm=t&uuid=04fb53f5-e361-49c3-b34d-b9baa75a63bd\n",
      "To: /kaggle/working/resnet18_cifar10_model_adv_trained.pth\n",
      "100%|██████████████████████████████████████| 44.8M/44.8M [00:00<00:00, 72.0MB/s]\n"
     ]
    }
   ],
   "source": [
    "! gdown 1MxHUo30vxLk7RETvF6Laxl7qo4uzXNz7\n",
    "! gdown 1Lk2NBUAJ5RI6S-E0RZ0NuyeOz_GdbKus"
   ]
  },
  {
   "cell_type": "code",
   "execution_count": 3,
   "metadata": {
    "colab": {
     "base_uri": "https://localhost:8080/"
    },
    "id": "NfvVXy6x9-_Z",
    "outputId": "5b3b1de1-e47e-41b9-d708-ad2a26878039"
   },
   "outputs": [
    {
     "name": "stdout",
     "output_type": "stream",
     "text": [
      "Mounted at /content/drive\n"
     ]
    }
   ],
   "source": [
    "from google.colab import drive\n",
    "\n",
    "drive.mount('/content/drive')"
   ]
  },
  {
   "cell_type": "markdown",
   "metadata": {
    "id": "j0XhKKVF8pbn"
   },
   "source": [
    "## Train Resnet on CIFAR10 (15 pts)"
   ]
  },
  {
   "cell_type": "code",
   "execution_count": 5,
   "metadata": {
    "colab": {
     "base_uri": "https://localhost:8080/"
    },
    "execution": {
     "iopub.execute_input": "2024-11-05T18:47:27.688024Z",
     "iopub.status.busy": "2024-11-05T18:47:27.687601Z",
     "iopub.status.idle": "2024-11-05T18:47:32.956557Z",
     "shell.execute_reply": "2024-11-05T18:47:32.955554Z",
     "shell.execute_reply.started": "2024-11-05T18:47:27.687984Z"
    },
    "id": "-OFw0Twc8pbo",
    "outputId": "33423539-6126-42be-aa62-bde75c46a5a7",
    "trusted": true
   },
   "outputs": [
    {
     "name": "stdout",
     "output_type": "stream",
     "text": [
      "Downloading https://www.cs.toronto.edu/~kriz/cifar-10-python.tar.gz to ./data/cifar-10-python.tar.gz\n"
     ]
    },
    {
     "name": "stderr",
     "output_type": "stream",
     "text": [
      "100%|██████████| 170498071/170498071 [00:01<00:00, 90797430.12it/s] \n"
     ]
    },
    {
     "name": "stdout",
     "output_type": "stream",
     "text": [
      "Extracting ./data/cifar-10-python.tar.gz to ./data\n",
      "Files already downloaded and verified\n"
     ]
    }
   ],
   "source": [
    "# Prepare Cifar10 data\n",
    "\n",
    "batch_size = 128\n",
    "\n",
    "train_transform = transforms.Compose([\n",
    "\n",
    "    transforms.RandomCrop(32, padding=4),\n",
    "\n",
    "    transforms.RandomHorizontalFlip(),\n",
    "\n",
    "    transforms.ToTensor(),\n",
    "\n",
    "])\n",
    "\n",
    "\n",
    "\n",
    "test_transform = transforms.Compose([\n",
    "\n",
    "    transforms.ToTensor(),\n",
    "\n",
    "])\n",
    "\n",
    "\n",
    "\n",
    "##############################################################################\n",
    "\n",
    "# Prepare training and test datasets and dataloaders                         #\n",
    "\n",
    "##############################################################################\n",
    "\n",
    "trainset = torchvision.datasets.CIFAR10(root='./data', train=True, download=True, transform=train_transform)\n",
    "\n",
    "trainloader = torch.utils.data.DataLoader(trainset, batch_size = batch_size, shuffle=True, num_workers=2)\n",
    "\n",
    "testset = torchvision.datasets.CIFAR10(root='./data', train=False, download=True, transform=test_transform)\n",
    "\n",
    "testloader = torch.utils.data.DataLoader(testset, batch_size = batch_size, shuffle = False, num_workers=2)\n",
    "\n",
    "################################ End #########################################\n",
    "\n",
    "\n",
    "\n",
    "classes = ('plane', 'car', 'bird', 'cat', 'deer', 'dog', 'frog', 'horse', 'ship', 'truck')"
   ]
  },
  {
   "cell_type": "code",
   "execution_count": 7,
   "metadata": {
    "execution": {
     "iopub.execute_input": "2024-11-05T18:47:51.328736Z",
     "iopub.status.busy": "2024-11-05T18:47:51.328233Z",
     "iopub.status.idle": "2024-11-05T18:47:51.849856Z",
     "shell.execute_reply": "2024-11-05T18:47:51.848632Z",
     "shell.execute_reply.started": "2024-11-05T18:47:51.328675Z"
    },
    "id": "Ixb-FhFu8pbo",
    "trusted": true
   },
   "outputs": [],
   "source": [
    "# model architecture\n",
    "\n",
    "class resnet(nn.Module):\n",
    "\n",
    "  def __init__(self, num_cls):\n",
    "\n",
    "    super().__init__()\n",
    "\n",
    "    self.conv = nn.Sequential(*list(resnet18(weights=None).children())[:-2])\n",
    "\n",
    "    self.fc = nn.Linear(512, num_cls)\n",
    "\n",
    "\n",
    "\n",
    "  def forward(self, x):\n",
    "\n",
    "    x = self.conv(x)\n",
    "\n",
    "    x = torch.flatten(x, start_dim=1)\n",
    "\n",
    "    logits = self.fc(x)\n",
    "\n",
    "    return logits\n",
    "\n",
    "\n",
    "\n",
    "##############################################################################\n",
    "\n",
    "# Initialize model and move to device                                        #\n",
    "\n",
    "##############################################################################\n",
    "\n",
    "model = resnet(10)\n",
    "\n",
    "model = model.to(device)\n",
    "\n",
    "\n",
    "\n",
    "################################ End #########################################"
   ]
  },
  {
   "cell_type": "code",
   "execution_count": null,
   "metadata": {
    "id": "ZSmiWFxR8pbo"
   },
   "outputs": [],
   "source": [
    "learning_rate = 0.01\n",
    "\n",
    "criterion = nn.CrossEntropyLoss()\n",
    "\n",
    "optimizer = optim.SGD(model.parameters(), lr=learning_rate, momentum=0.9)\n",
    "\n",
    "epochs = 50"
   ]
  },
  {
   "cell_type": "code",
   "execution_count": null,
   "metadata": {
    "colab": {
     "base_uri": "https://localhost:8080/"
    },
    "id": "IUBspKOo8pbp",
    "outputId": "38e1e7b3-0b83-4933-c209-74af8b91c526"
   },
   "outputs": [
    {
     "name": "stderr",
     "output_type": "stream",
     "text": [
      "100%|██████████| 391/391 [00:19<00:00, 20.09it/s]"
     ]
    },
    {
     "name": "stdout",
     "output_type": "stream",
     "text": [
      "train: epoch 1: acc: 0.39004, avg loss: 0.013097192764282227\n"
     ]
    },
    {
     "name": "stderr",
     "output_type": "stream",
     "text": [
      "\n",
      "100%|██████████| 391/391 [00:23<00:00, 16.47it/s]"
     ]
    },
    {
     "name": "stdout",
     "output_type": "stream",
     "text": [
      "train: epoch 2: acc: 0.51168, avg loss: 0.0105732585811615\n"
     ]
    },
    {
     "name": "stderr",
     "output_type": "stream",
     "text": [
      "\n",
      "100%|██████████| 391/391 [00:25<00:00, 15.12it/s]"
     ]
    },
    {
     "name": "stdout",
     "output_type": "stream",
     "text": [
      "train: epoch 3: acc: 0.58054, avg loss: 0.009217275425195693\n"
     ]
    },
    {
     "name": "stderr",
     "output_type": "stream",
     "text": [
      "\n",
      "100%|██████████| 391/391 [00:22<00:00, 17.46it/s]"
     ]
    },
    {
     "name": "stdout",
     "output_type": "stream",
     "text": [
      "train: epoch 4: acc: 0.62308, avg loss: 0.008381111637353897\n"
     ]
    },
    {
     "name": "stderr",
     "output_type": "stream",
     "text": [
      "\n",
      "100%|██████████| 391/391 [00:22<00:00, 17.37it/s]"
     ]
    },
    {
     "name": "stdout",
     "output_type": "stream",
     "text": [
      "train: epoch 5: acc: 0.65878, avg loss: 0.007596314824819565\n"
     ]
    },
    {
     "name": "stderr",
     "output_type": "stream",
     "text": [
      "\n",
      "100%|██████████| 391/391 [00:20<00:00, 18.83it/s]"
     ]
    },
    {
     "name": "stdout",
     "output_type": "stream",
     "text": [
      "train: epoch 6: acc: 0.68172, avg loss: 0.007096137274503708\n"
     ]
    },
    {
     "name": "stderr",
     "output_type": "stream",
     "text": [
      "\n",
      "100%|██████████| 391/391 [00:22<00:00, 17.54it/s]"
     ]
    },
    {
     "name": "stdout",
     "output_type": "stream",
     "text": [
      "train: epoch 7: acc: 0.69868, avg loss: 0.006692055608034134\n"
     ]
    },
    {
     "name": "stderr",
     "output_type": "stream",
     "text": [
      "\n",
      "100%|██████████| 391/391 [00:19<00:00, 19.81it/s]"
     ]
    },
    {
     "name": "stdout",
     "output_type": "stream",
     "text": [
      "train: epoch 8: acc: 0.7135, avg loss: 0.0063227084004879\n"
     ]
    },
    {
     "name": "stderr",
     "output_type": "stream",
     "text": [
      "\n",
      "100%|██████████| 391/391 [00:19<00:00, 19.87it/s]"
     ]
    },
    {
     "name": "stdout",
     "output_type": "stream",
     "text": [
      "train: epoch 9: acc: 0.73054, avg loss: 0.006034232228994369\n"
     ]
    },
    {
     "name": "stderr",
     "output_type": "stream",
     "text": [
      "\n",
      "100%|██████████| 391/391 [00:21<00:00, 18.52it/s]"
     ]
    },
    {
     "name": "stdout",
     "output_type": "stream",
     "text": [
      "train: epoch 10: acc: 0.7412, avg loss: 0.005758461245894432\n"
     ]
    },
    {
     "name": "stderr",
     "output_type": "stream",
     "text": [
      "\n",
      "100%|██████████| 391/391 [00:20<00:00, 18.65it/s]"
     ]
    },
    {
     "name": "stdout",
     "output_type": "stream",
     "text": [
      "train: epoch 11: acc: 0.7472, avg loss: 0.005609434719085694\n"
     ]
    },
    {
     "name": "stderr",
     "output_type": "stream",
     "text": [
      "\n",
      "100%|██████████| 391/391 [00:21<00:00, 18.25it/s]"
     ]
    },
    {
     "name": "stdout",
     "output_type": "stream",
     "text": [
      "train: epoch 12: acc: 0.75902, avg loss: 0.005350838454961777\n"
     ]
    },
    {
     "name": "stderr",
     "output_type": "stream",
     "text": [
      "\n",
      "100%|██████████| 391/391 [00:19<00:00, 20.02it/s]"
     ]
    },
    {
     "name": "stdout",
     "output_type": "stream",
     "text": [
      "train: epoch 13: acc: 0.76768, avg loss: 0.005187806292176246\n"
     ]
    },
    {
     "name": "stderr",
     "output_type": "stream",
     "text": [
      "\n",
      "100%|██████████| 391/391 [00:20<00:00, 19.51it/s]"
     ]
    },
    {
     "name": "stdout",
     "output_type": "stream",
     "text": [
      "train: epoch 14: acc: 0.77696, avg loss: 0.004995610237717629\n"
     ]
    },
    {
     "name": "stderr",
     "output_type": "stream",
     "text": [
      "\n",
      "100%|██████████| 391/391 [00:20<00:00, 19.38it/s]"
     ]
    },
    {
     "name": "stdout",
     "output_type": "stream",
     "text": [
      "train: epoch 15: acc: 0.78414, avg loss: 0.004822525497078896\n"
     ]
    },
    {
     "name": "stderr",
     "output_type": "stream",
     "text": [
      "\n",
      "100%|██████████| 391/391 [00:19<00:00, 20.41it/s]"
     ]
    },
    {
     "name": "stdout",
     "output_type": "stream",
     "text": [
      "train: epoch 16: acc: 0.78836, avg loss: 0.004693668930530548\n"
     ]
    },
    {
     "name": "stderr",
     "output_type": "stream",
     "text": [
      "\n",
      "100%|██████████| 391/391 [00:20<00:00, 19.19it/s]"
     ]
    },
    {
     "name": "stdout",
     "output_type": "stream",
     "text": [
      "train: epoch 17: acc: 0.7942, avg loss: 0.004565188035368919\n"
     ]
    },
    {
     "name": "stderr",
     "output_type": "stream",
     "text": [
      "\n",
      "100%|██████████| 391/391 [00:19<00:00, 20.37it/s]"
     ]
    },
    {
     "name": "stdout",
     "output_type": "stream",
     "text": [
      "train: epoch 18: acc: 0.80198, avg loss: 0.004454627704620361\n"
     ]
    },
    {
     "name": "stderr",
     "output_type": "stream",
     "text": [
      "\n",
      "100%|██████████| 391/391 [00:19<00:00, 20.49it/s]"
     ]
    },
    {
     "name": "stdout",
     "output_type": "stream",
     "text": [
      "train: epoch 19: acc: 0.80558, avg loss: 0.004276521943807602\n"
     ]
    },
    {
     "name": "stderr",
     "output_type": "stream",
     "text": [
      "\n",
      "100%|██████████| 391/391 [00:20<00:00, 19.07it/s]"
     ]
    },
    {
     "name": "stdout",
     "output_type": "stream",
     "text": [
      "train: epoch 20: acc: 0.81158, avg loss: 0.004208467884063721\n"
     ]
    },
    {
     "name": "stderr",
     "output_type": "stream",
     "text": [
      "\n",
      "100%|██████████| 391/391 [00:19<00:00, 20.44it/s]"
     ]
    },
    {
     "name": "stdout",
     "output_type": "stream",
     "text": [
      "train: epoch 21: acc: 0.8169, avg loss: 0.004049222275018692\n"
     ]
    },
    {
     "name": "stderr",
     "output_type": "stream",
     "text": [
      "\n",
      "100%|██████████| 391/391 [00:19<00:00, 19.71it/s]"
     ]
    },
    {
     "name": "stdout",
     "output_type": "stream",
     "text": [
      "train: epoch 22: acc: 0.82002, avg loss: 0.0039829204124212265\n"
     ]
    },
    {
     "name": "stderr",
     "output_type": "stream",
     "text": [
      "\n",
      "100%|██████████| 391/391 [00:21<00:00, 18.14it/s]"
     ]
    },
    {
     "name": "stdout",
     "output_type": "stream",
     "text": [
      "train: epoch 23: acc: 0.8251, avg loss: 0.0038766641372442244\n"
     ]
    },
    {
     "name": "stderr",
     "output_type": "stream",
     "text": [
      "\n",
      "100%|██████████| 391/391 [00:19<00:00, 20.09it/s]"
     ]
    },
    {
     "name": "stdout",
     "output_type": "stream",
     "text": [
      "train: epoch 24: acc: 0.82946, avg loss: 0.003802574478983879\n"
     ]
    },
    {
     "name": "stderr",
     "output_type": "stream",
     "text": [
      "\n",
      "100%|██████████| 391/391 [00:20<00:00, 19.48it/s]"
     ]
    },
    {
     "name": "stdout",
     "output_type": "stream",
     "text": [
      "train: epoch 25: acc: 0.83376, avg loss: 0.0036945787328481676\n"
     ]
    },
    {
     "name": "stderr",
     "output_type": "stream",
     "text": [
      "\n",
      "100%|██████████| 391/391 [00:19<00:00, 20.46it/s]"
     ]
    },
    {
     "name": "stdout",
     "output_type": "stream",
     "text": [
      "train: epoch 26: acc: 0.83744, avg loss: 0.00360153515458107\n"
     ]
    },
    {
     "name": "stderr",
     "output_type": "stream",
     "text": [
      "\n",
      "100%|██████████| 391/391 [00:20<00:00, 19.06it/s]"
     ]
    },
    {
     "name": "stdout",
     "output_type": "stream",
     "text": [
      "train: epoch 27: acc: 0.84058, avg loss: 0.0035123960727453233\n"
     ]
    },
    {
     "name": "stderr",
     "output_type": "stream",
     "text": [
      "\n",
      "100%|██████████| 391/391 [00:19<00:00, 20.49it/s]"
     ]
    },
    {
     "name": "stdout",
     "output_type": "stream",
     "text": [
      "train: epoch 28: acc: 0.84566, avg loss: 0.003422995916008949\n"
     ]
    },
    {
     "name": "stderr",
     "output_type": "stream",
     "text": [
      "\n",
      "100%|██████████| 391/391 [00:19<00:00, 20.50it/s]"
     ]
    },
    {
     "name": "stdout",
     "output_type": "stream",
     "text": [
      "train: epoch 29: acc: 0.84628, avg loss: 0.00336723935097456\n"
     ]
    },
    {
     "name": "stderr",
     "output_type": "stream",
     "text": [
      "\n",
      "100%|██████████| 391/391 [00:20<00:00, 19.29it/s]"
     ]
    },
    {
     "name": "stdout",
     "output_type": "stream",
     "text": [
      "train: epoch 30: acc: 0.85184, avg loss: 0.0033000553640723227\n"
     ]
    },
    {
     "name": "stderr",
     "output_type": "stream",
     "text": [
      "\n",
      "100%|██████████| 391/391 [00:19<00:00, 20.43it/s]"
     ]
    },
    {
     "name": "stdout",
     "output_type": "stream",
     "text": [
      "train: epoch 31: acc: 0.8529, avg loss: 0.0032449266040325167\n"
     ]
    },
    {
     "name": "stderr",
     "output_type": "stream",
     "text": [
      "\n",
      "100%|██████████| 391/391 [00:20<00:00, 19.44it/s]"
     ]
    },
    {
     "name": "stdout",
     "output_type": "stream",
     "text": [
      "train: epoch 32: acc: 0.85742, avg loss: 0.003165033703446388\n"
     ]
    },
    {
     "name": "stderr",
     "output_type": "stream",
     "text": [
      "\n",
      "100%|██████████| 391/391 [00:19<00:00, 20.25it/s]"
     ]
    },
    {
     "name": "stdout",
     "output_type": "stream",
     "text": [
      "train: epoch 33: acc: 0.86044, avg loss: 0.0030647962161898614\n"
     ]
    },
    {
     "name": "stderr",
     "output_type": "stream",
     "text": [
      "\n",
      "100%|██████████| 391/391 [00:18<00:00, 20.62it/s]"
     ]
    },
    {
     "name": "stdout",
     "output_type": "stream",
     "text": [
      "train: epoch 34: acc: 0.86252, avg loss: 0.003038249246776104\n"
     ]
    },
    {
     "name": "stderr",
     "output_type": "stream",
     "text": [
      "\n",
      "100%|██████████| 391/391 [00:21<00:00, 17.91it/s]"
     ]
    },
    {
     "name": "stdout",
     "output_type": "stream",
     "text": [
      "train: epoch 35: acc: 0.86592, avg loss: 0.002962933846414089\n"
     ]
    },
    {
     "name": "stderr",
     "output_type": "stream",
     "text": [
      "\n",
      "100%|██████████| 391/391 [00:18<00:00, 20.61it/s]"
     ]
    },
    {
     "name": "stdout",
     "output_type": "stream",
     "text": [
      "train: epoch 36: acc: 0.8703, avg loss: 0.002867932147681713\n"
     ]
    },
    {
     "name": "stderr",
     "output_type": "stream",
     "text": [
      "\n",
      "100%|██████████| 391/391 [00:20<00:00, 19.20it/s]"
     ]
    },
    {
     "name": "stdout",
     "output_type": "stream",
     "text": [
      "train: epoch 37: acc: 0.87102, avg loss: 0.0028066121119260786\n"
     ]
    },
    {
     "name": "stderr",
     "output_type": "stream",
     "text": [
      "\n",
      "100%|██████████| 391/391 [00:19<00:00, 20.56it/s]"
     ]
    },
    {
     "name": "stdout",
     "output_type": "stream",
     "text": [
      "train: epoch 38: acc: 0.87346, avg loss: 0.0027488498598337175\n"
     ]
    },
    {
     "name": "stderr",
     "output_type": "stream",
     "text": [
      "\n",
      "100%|██████████| 391/391 [00:19<00:00, 20.56it/s]"
     ]
    },
    {
     "name": "stdout",
     "output_type": "stream",
     "text": [
      "train: epoch 39: acc: 0.87804, avg loss: 0.002701359825730324\n"
     ]
    },
    {
     "name": "stderr",
     "output_type": "stream",
     "text": [
      "\n",
      "100%|██████████| 391/391 [00:20<00:00, 19.19it/s]"
     ]
    },
    {
     "name": "stdout",
     "output_type": "stream",
     "text": [
      "train: epoch 40: acc: 0.8792, avg loss: 0.0026582517501711846\n"
     ]
    },
    {
     "name": "stderr",
     "output_type": "stream",
     "text": [
      "\n",
      "100%|██████████| 391/391 [00:18<00:00, 20.64it/s]\n"
     ]
    },
    {
     "name": "stdout",
     "output_type": "stream",
     "text": [
      "train: epoch 41: acc: 0.8829, avg loss: 0.002586333097219467\n"
     ]
    },
    {
     "name": "stderr",
     "output_type": "stream",
     "text": [
      "100%|██████████| 391/391 [00:19<00:00, 19.83it/s]"
     ]
    },
    {
     "name": "stdout",
     "output_type": "stream",
     "text": [
      "train: epoch 42: acc: 0.88522, avg loss: 0.0025359632673859597\n"
     ]
    },
    {
     "name": "stderr",
     "output_type": "stream",
     "text": [
      "\n",
      "100%|██████████| 391/391 [00:19<00:00, 20.09it/s]"
     ]
    },
    {
     "name": "stdout",
     "output_type": "stream",
     "text": [
      "train: epoch 43: acc: 0.88654, avg loss: 0.00250106143951416\n"
     ]
    },
    {
     "name": "stderr",
     "output_type": "stream",
     "text": [
      "\n",
      "100%|██████████| 391/391 [00:18<00:00, 20.72it/s]"
     ]
    },
    {
     "name": "stdout",
     "output_type": "stream",
     "text": [
      "train: epoch 44: acc: 0.89164, avg loss: 0.0023737574073672296\n"
     ]
    },
    {
     "name": "stderr",
     "output_type": "stream",
     "text": [
      "\n",
      "100%|██████████| 391/391 [00:20<00:00, 19.31it/s]"
     ]
    },
    {
     "name": "stdout",
     "output_type": "stream",
     "text": [
      "train: epoch 45: acc: 0.89198, avg loss: 0.0023731420111656187\n"
     ]
    },
    {
     "name": "stderr",
     "output_type": "stream",
     "text": [
      "\n",
      "100%|██████████| 391/391 [00:18<00:00, 20.77it/s]"
     ]
    },
    {
     "name": "stdout",
     "output_type": "stream",
     "text": [
      "train: epoch 46: acc: 0.89456, avg loss: 0.002319363898336887\n"
     ]
    },
    {
     "name": "stderr",
     "output_type": "stream",
     "text": [
      "\n",
      "100%|██████████| 391/391 [00:20<00:00, 18.66it/s]"
     ]
    },
    {
     "name": "stdout",
     "output_type": "stream",
     "text": [
      "train: epoch 47: acc: 0.89436, avg loss: 0.0023102713972330095\n"
     ]
    },
    {
     "name": "stderr",
     "output_type": "stream",
     "text": [
      "\n",
      "100%|██████████| 391/391 [00:19<00:00, 19.78it/s]"
     ]
    },
    {
     "name": "stdout",
     "output_type": "stream",
     "text": [
      "train: epoch 48: acc: 0.8972, avg loss: 0.002254551303386688\n"
     ]
    },
    {
     "name": "stderr",
     "output_type": "stream",
     "text": [
      "\n",
      "100%|██████████| 391/391 [00:19<00:00, 20.44it/s]"
     ]
    },
    {
     "name": "stdout",
     "output_type": "stream",
     "text": [
      "train: epoch 49: acc: 0.9004, avg loss: 0.0021768567195534706\n"
     ]
    },
    {
     "name": "stderr",
     "output_type": "stream",
     "text": [
      "\n",
      "100%|██████████| 391/391 [00:20<00:00, 19.17it/s]"
     ]
    },
    {
     "name": "stdout",
     "output_type": "stream",
     "text": [
      "train: epoch 50: acc: 0.9016, avg loss: 0.0021418313321471213\n"
     ]
    },
    {
     "name": "stderr",
     "output_type": "stream",
     "text": [
      "\n"
     ]
    }
   ],
   "source": [
    "##############################################################################\n",
    "\n",
    "# Implement train loop and log training loss after each epoch                #\n",
    "\n",
    "##############################################################################\n",
    "\n",
    "\n",
    "\n",
    "def train(model, dataloader, criterion, optimizer, epoch):\n",
    "\n",
    "  model.train()\n",
    "\n",
    "\n",
    "\n",
    "  num_correct = 0\n",
    "\n",
    "  total_loss = 0\n",
    "\n",
    "  total = 0\n",
    "\n",
    "\n",
    "\n",
    "  with tqdm(iterable=enumerate(dataloader), total=len(dataloader)) as pbar:\n",
    "\n",
    "    for i, (img, label) in pbar:\n",
    "\n",
    "      img = img.to(device)\n",
    "\n",
    "      label = label.to(device)\n",
    "\n",
    "\n",
    "\n",
    "      optimizer.zero_grad()\n",
    "\n",
    "      out = model(img)\n",
    "\n",
    "      loss = criterion(out, label)\n",
    "\n",
    "      loss.backward()\n",
    "\n",
    "      optimizer.step()\n",
    "\n",
    "\n",
    "\n",
    "      num_correct += torch.sum(torch.softmax(out, dim=1).argmax(dim=1) == label).item()\n",
    "\n",
    "      total_loss += loss.item()\n",
    "\n",
    "      total += img.shape[0]\n",
    "\n",
    "\n",
    "\n",
    "  acc = num_correct / total\n",
    "\n",
    "  avg_loss = total_loss / total\n",
    "\n",
    "\n",
    "\n",
    "  print(f'train: epoch {epoch}: acc: {acc}, avg loss: {avg_loss}')\n",
    "\n",
    "\n",
    "\n",
    "\n",
    "\n",
    "for epoch in range(1, epochs + 1):\n",
    "\n",
    "  train(model, trainloader, criterion, optimizer, epoch)\n",
    "\n",
    "################################ End #########################################"
   ]
  },
  {
   "cell_type": "code",
   "execution_count": null,
   "metadata": {
    "colab": {
     "base_uri": "https://localhost:8080/"
    },
    "id": "1GCsi_8M8pbp",
    "outputId": "20b2d4ae-dc7b-4184-d0f5-ef78d6d6ee26"
   },
   "outputs": [
    {
     "name": "stderr",
     "output_type": "stream",
     "text": [
      "100%|██████████| 79/79 [00:02<00:00, 38.79it/s]"
     ]
    },
    {
     "name": "stdout",
     "output_type": "stream",
     "text": [
      "test accuracy: 0.8029\n"
     ]
    },
    {
     "name": "stderr",
     "output_type": "stream",
     "text": [
      "\n"
     ]
    }
   ],
   "source": [
    "##############################################################################\n",
    "\n",
    "# Evaluate the trained model on test set and print test accuracy             #\n",
    "\n",
    "##############################################################################\n",
    "\n",
    "def test(model, dataloader):\n",
    "\n",
    "  model.eval()\n",
    "\n",
    "\n",
    "\n",
    "  num_correct = 0\n",
    "\n",
    "  total = 0\n",
    "\n",
    "\n",
    "\n",
    "  with tqdm(iterable=enumerate(dataloader), total=len(dataloader)) as pbar:\n",
    "\n",
    "    for i, (img, label) in pbar:\n",
    "\n",
    "      img = img.to(device)\n",
    "\n",
    "      label = label.to(device)\n",
    "\n",
    "\n",
    "\n",
    "      out = model(img)\n",
    "\n",
    "\n",
    "\n",
    "      num_correct += torch.sum(torch.softmax(out, dim=1).argmax(dim=1) == label).item()\n",
    "\n",
    "      total += img.shape[0]\n",
    "\n",
    "\n",
    "\n",
    "  acc = num_correct / total\n",
    "\n",
    "  print(f'test accuracy: {acc}')\n",
    "\n",
    "\n",
    "\n",
    "\n",
    "\n",
    "\n",
    "\n",
    "\n",
    "\n",
    "test(model, testloader)\n",
    "\n",
    "\n",
    "\n",
    "################################ End #########################################"
   ]
  },
  {
   "cell_type": "code",
   "execution_count": null,
   "metadata": {
    "id": "hTFdyxZo8pbp"
   },
   "outputs": [],
   "source": [
    "# Save model\n",
    "\n",
    "model.eval()\n",
    "\n",
    "model_name = \"/content/drive/MyDrive/resnet18_cifar10_model_pretrained.pth\"\n",
    "\n",
    "model_PATH = f\"{model_name}\"\n",
    "\n",
    "torch.save(model.state_dict(), model_PATH)"
   ]
  },
  {
   "cell_type": "code",
   "execution_count": 8,
   "metadata": {
    "colab": {
     "base_uri": "https://localhost:8080/"
    },
    "execution": {
     "iopub.execute_input": "2024-11-05T18:47:56.930456Z",
     "iopub.status.busy": "2024-11-05T18:47:56.930053Z",
     "iopub.status.idle": "2024-11-05T18:47:56.988741Z",
     "shell.execute_reply": "2024-11-05T18:47:56.987749Z",
     "shell.execute_reply.started": "2024-11-05T18:47:56.930419Z"
    },
    "id": "sQ8Ns5JQnd8a",
    "outputId": "334965b6-8ef5-49d3-ea10-1aedfd7d7017",
    "trusted": true
   },
   "outputs": [
    {
     "name": "stderr",
     "output_type": "stream",
     "text": [
      "/tmp/ipykernel_30/110467163.py:1: FutureWarning: You are using `torch.load` with `weights_only=False` (the current default value), which uses the default pickle module implicitly. It is possible to construct malicious pickle data which will execute arbitrary code during unpickling (See https://github.com/pytorch/pytorch/blob/main/SECURITY.md#untrusted-models for more details). In a future release, the default value for `weights_only` will be flipped to `True`. This limits the functions that could be executed during unpickling. Arbitrary objects will no longer be allowed to be loaded via this mode unless they are explicitly allowlisted by the user via `torch.serialization.add_safe_globals`. We recommend you start setting `weights_only=True` for any use case where you don't have full control of the loaded file. Please open an issue on GitHub for any issues related to this experimental feature.\n",
      "  model.load_state_dict(torch.load(\"/kaggle/working/resnet18_cifar10_model_pretrained.pth\"))\n"
     ]
    }
   ],
   "source": [
    "model.load_state_dict(torch.load(\"/kaggle/working/resnet18_cifar10_model_pretrained.pth\"))\n",
    "\n",
    "model = model.eval()"
   ]
  },
  {
   "cell_type": "code",
   "execution_count": 9,
   "metadata": {
    "colab": {
     "base_uri": "https://localhost:8080/"
    },
    "execution": {
     "iopub.execute_input": "2024-11-01T15:46:43.741713Z",
     "iopub.status.busy": "2024-11-01T15:46:43.741334Z",
     "iopub.status.idle": "2024-11-01T15:46:46.165061Z",
     "shell.execute_reply": "2024-11-01T15:46:46.163843Z",
     "shell.execute_reply.started": "2024-11-01T15:46:43.741677Z"
    },
    "id": "DSD34-OLnoAL",
    "outputId": "4e862c9d-4887-4096-d193-601d200cc6f4",
    "trusted": true
   },
   "outputs": [
    {
     "name": "stderr",
     "output_type": "stream",
     "text": [
      "100%|██████████| 79/79 [00:02<00:00, 33.28it/s]"
     ]
    },
    {
     "name": "stdout",
     "output_type": "stream",
     "text": [
      "test accuracy: 0.8029\n"
     ]
    },
    {
     "name": "stderr",
     "output_type": "stream",
     "text": [
      "\n"
     ]
    }
   ],
   "source": [
    "def test(model, dataloader):\n",
    "\n",
    "  model.eval()\n",
    "\n",
    "\n",
    "\n",
    "  num_correct = 0\n",
    "\n",
    "  total = 0\n",
    "\n",
    "\n",
    "\n",
    "  with tqdm(iterable=enumerate(dataloader), total=len(dataloader)) as pbar:\n",
    "\n",
    "    for i, (img, label) in pbar:\n",
    "\n",
    "      img = img.to(device)\n",
    "\n",
    "      label = label.to(device)\n",
    "\n",
    "\n",
    "\n",
    "      out = model(img)\n",
    "\n",
    "\n",
    "\n",
    "      num_correct += torch.sum(torch.softmax(out, dim=1).argmax(dim=1) == label).item()\n",
    "\n",
    "      total += img.shape[0]\n",
    "\n",
    "\n",
    "\n",
    "  acc = num_correct / total\n",
    "\n",
    "  print(f'test accuracy: {acc}')\n",
    "\n",
    "\n",
    "\n",
    "test(model, testloader)"
   ]
  },
  {
   "cell_type": "markdown",
   "metadata": {
    "id": "C4HXtkSm8pbp"
   },
   "source": [
    "## FGSM Attack using torchattacks (10 pts)"
   ]
  },
  {
   "cell_type": "markdown",
   "metadata": {
    "id": "QMPrMj088pbp"
   },
   "source": [
    "In this section you should run FGSM attack using torchattacks library (https://adversarial-attacks-pytorch.readthedocs.io/en/latest/index.html).\n",
    "\n",
    "\n",
    "\n",
    "Run the attack for $\\epsilon \\in \\{\\frac{1}{255}, \\frac{4}{255}, \\frac{8}{255},\\}$ report the performance of the model on untargeted FGSM attack on the test data."
   ]
  },
  {
   "cell_type": "code",
   "execution_count": 9,
   "metadata": {
    "execution": {
     "iopub.execute_input": "2024-11-05T18:48:03.884938Z",
     "iopub.status.busy": "2024-11-05T18:48:03.884549Z",
     "iopub.status.idle": "2024-11-05T18:48:16.951139Z",
     "shell.execute_reply": "2024-11-05T18:48:16.950035Z",
     "shell.execute_reply.started": "2024-11-05T18:48:03.884900Z"
    },
    "id": "UeamYfIjHQW5",
    "trusted": true
   },
   "outputs": [],
   "source": [
    "%%capture\n",
    "\n",
    "! pip install torchattacks"
   ]
  },
  {
   "cell_type": "code",
   "execution_count": 10,
   "metadata": {
    "colab": {
     "base_uri": "https://localhost:8080/"
    },
    "execution": {
     "iopub.execute_input": "2024-11-05T18:48:22.879362Z",
     "iopub.status.busy": "2024-11-05T18:48:22.878950Z",
     "iopub.status.idle": "2024-11-05T18:48:27.239862Z",
     "shell.execute_reply": "2024-11-05T18:48:27.238891Z",
     "shell.execute_reply.started": "2024-11-05T18:48:22.879322Z"
    },
    "id": "6AjGBAUh8pbp",
    "outputId": "412787ab-6e6e-405d-b195-43ffcadcdc10",
    "trusted": true
   },
   "outputs": [
    {
     "name": "stderr",
     "output_type": "stream",
     "text": [
      "100%|██████████| 79/79 [00:03<00:00, 20.87it/s]"
     ]
    },
    {
     "name": "stdout",
     "output_type": "stream",
     "text": [
      "accuracy of fgsm attack with epsilon=1/255: 0.5762\n"
     ]
    },
    {
     "name": "stderr",
     "output_type": "stream",
     "text": [
      "\n"
     ]
    }
   ],
   "source": [
    "##############################################################################\n",
    "\n",
    "# run untargeted FGSM attack for epsilon = 1/255 and report its accuracy     #\n",
    "\n",
    "##############################################################################\n",
    "\n",
    "import torchattacks\n",
    "\n",
    "def FGSM_attack(model, dataloader, eps):\n",
    "  model.eval()\n",
    "    \n",
    "  attack = torchattacks.FGSM(model, eps=eps)\n",
    "\n",
    "  num_correct = 0\n",
    "  total = 0\n",
    "\n",
    "  with tqdm(iterable=enumerate(dataloader), total=len(dataloader)) as pbar:\n",
    "    for i, (img, label) in pbar:\n",
    "      img = img.to(device)\n",
    "      label = label.to(device)\n",
    "\n",
    "      adv_images = attack(img, label)\n",
    "        \n",
    "      out = model(adv_images)\n",
    "\n",
    "      num_correct += torch.sum(torch.softmax(out, dim=1).argmax(dim=1) == label).item()\n",
    "      total += img.shape[0]\n",
    "\n",
    "  acc = num_correct / total\n",
    "  print(f'accuracy of fgsm attack with epsilon={int(eps * 255)}/{255}: {acc}')\n",
    "\n",
    "\n",
    "\n",
    "\n",
    "\n",
    "\n",
    "\n",
    "FGSM_attack(model, testloader, 1/255)\n",
    "\n",
    "################################ End #########################################"
   ]
  },
  {
   "cell_type": "code",
   "execution_count": null,
   "metadata": {
    "colab": {
     "base_uri": "https://localhost:8080/"
    },
    "id": "fttn8CB08pbp",
    "outputId": "436f1948-2939-4b9d-a92b-17fe70b1cf64"
   },
   "outputs": [
    {
     "name": "stderr",
     "output_type": "stream",
     "text": [
      "100%|██████████| 79/79 [00:02<00:00, 27.28it/s]"
     ]
    },
    {
     "name": "stdout",
     "output_type": "stream",
     "text": [
      "accuracy of fgsm attack with epsilon=4/255: 0.1681\n"
     ]
    },
    {
     "name": "stderr",
     "output_type": "stream",
     "text": [
      "\n"
     ]
    }
   ],
   "source": [
    "##############################################################################\n",
    "\n",
    "# run untargeted FGSM attack for epsilon = 4/255 and report its accuracy     #\n",
    "\n",
    "##############################################################################\n",
    "\n",
    "FGSM_attack(model, testloader, 4/255)\n",
    "\n",
    "\n",
    "\n",
    "################################ End #########################################"
   ]
  },
  {
   "cell_type": "code",
   "execution_count": null,
   "metadata": {
    "colab": {
     "base_uri": "https://localhost:8080/"
    },
    "id": "6JQZadU28pbp",
    "outputId": "cb65e686-7cf4-4b81-e61e-e4f1f42da80d"
   },
   "outputs": [
    {
     "name": "stderr",
     "output_type": "stream",
     "text": [
      "100%|██████████| 79/79 [00:03<00:00, 20.67it/s]"
     ]
    },
    {
     "name": "stdout",
     "output_type": "stream",
     "text": [
      "accuracy of fgsm attack with epsilon=8/255: 0.0539\n"
     ]
    },
    {
     "name": "stderr",
     "output_type": "stream",
     "text": [
      "\n"
     ]
    }
   ],
   "source": [
    "##############################################################################\n",
    "\n",
    "# run untargeted FGSM attack for epsilon = 8/255 and report its accuracy     #\n",
    "\n",
    "##############################################################################\n",
    "\n",
    "FGSM_attack(model, testloader, 8/255)\n",
    "\n",
    "\n",
    "\n",
    "################################ End #########################################"
   ]
  },
  {
   "cell_type": "markdown",
   "metadata": {
    "id": "WaWkSDdq8pbp"
   },
   "source": [
    "## PGD Attack from scratch (15 pts)"
   ]
  },
  {
   "cell_type": "markdown",
   "metadata": {
    "id": "IBJc8Bjc8pbq"
   },
   "source": [
    "In this section you should implement PGD attack from scratch."
   ]
  },
  {
   "cell_type": "code",
   "execution_count": 13,
   "metadata": {
    "execution": {
     "iopub.execute_input": "2024-11-01T15:49:17.012390Z",
     "iopub.status.busy": "2024-11-01T15:49:17.012001Z",
     "iopub.status.idle": "2024-11-01T15:49:17.022630Z",
     "shell.execute_reply": "2024-11-01T15:49:17.021712Z",
     "shell.execute_reply.started": "2024-11-01T15:49:17.012351Z"
    },
    "id": "zYG9LeX28pbq",
    "trusted": true
   },
   "outputs": [],
   "source": [
    "class LinfPGDAttack(object):\n",
    "\n",
    "\n",
    "\n",
    "    def __init__(self, model, epsilon = 8/255, k = 2, alpha = 2/255):\n",
    "\n",
    "        self.model = model\n",
    "\n",
    "        self.epsilon = epsilon\n",
    "\n",
    "        self.steps = k\n",
    "\n",
    "        self.alpha = alpha\n",
    "\n",
    "\n",
    "\n",
    "    def __call__(self, image, label):\n",
    "\n",
    "\n",
    "\n",
    "        image = image.to(device)\n",
    "\n",
    "        label = label.to(device)\n",
    "\n",
    "\n",
    "\n",
    "        out = self.model(image)\n",
    "\n",
    "        _, pred = torch.max(out, 1)\n",
    "\n",
    "\n",
    "\n",
    "        perturbed_image = image.clone()\n",
    "\n",
    "        perturbed_image.to(device)\n",
    "\n",
    "\n",
    "\n",
    "        #if pred.item() == label.item():\n",
    "        ##############################################################################\n",
    "        # Implement a k step PGD attack of size alpha                                #\n",
    "        # while always staying within epsilon distance from the initial point        #\n",
    "        # Use cross entropy loss                                                     #\n",
    "        ##############################################################################\n",
    "        criterion = nn.CrossEntropyLoss()\n",
    "\n",
    "        for _ in range(self.steps):\n",
    "          perturbed_image.requires_grad = True\n",
    "          outputs = model(perturbed_image)\n",
    "\n",
    "          model.zero_grad()\n",
    "          loss = criterion(outputs, label).to(device)\n",
    "          loss.backward()\n",
    "\n",
    "          adv_images = perturbed_image + self.alpha*perturbed_image.grad.sign()\n",
    "          eta = torch.clamp(adv_images - image, min=-self.epsilon, max=self.epsilon)\n",
    "          perturbed_image = torch.clamp(image + eta, min=0, max=1).detach_()\n",
    "            ################################ End #########################################\n",
    "\n",
    "        return perturbed_image"
   ]
  },
  {
   "cell_type": "code",
   "execution_count": 14,
   "metadata": {
    "colab": {
     "base_uri": "https://localhost:8080/"
    },
    "execution": {
     "iopub.execute_input": "2024-11-01T15:49:21.437494Z",
     "iopub.status.busy": "2024-11-01T15:49:21.436715Z",
     "iopub.status.idle": "2024-11-01T15:49:55.331657Z",
     "shell.execute_reply": "2024-11-01T15:49:55.330557Z",
     "shell.execute_reply.started": "2024-11-01T15:49:21.437453Z"
    },
    "id": "2nA3gkbT8pbq",
    "outputId": "770f9de3-29d8-4f6b-9f80-42275ac9fb4c",
    "trusted": true
   },
   "outputs": [
    {
     "name": "stderr",
     "output_type": "stream",
     "text": [
      "100%|██████████| 79/79 [00:05<00:00, 13.61it/s]"
     ]
    },
    {
     "name": "stdout",
     "output_type": "stream",
     "text": [
      "\n",
      " accuracy of pgd attack with steps 2: 0.1121\n"
     ]
    },
    {
     "name": "stderr",
     "output_type": "stream",
     "text": [
      "\n",
      "100%|██████████| 79/79 [00:09<00:00,  8.26it/s]"
     ]
    },
    {
     "name": "stdout",
     "output_type": "stream",
     "text": [
      "\n",
      " accuracy of pgd attack with steps 4: 0.0131\n"
     ]
    },
    {
     "name": "stderr",
     "output_type": "stream",
     "text": [
      "\n",
      "100%|██████████| 79/79 [00:18<00:00,  4.29it/s]"
     ]
    },
    {
     "name": "stdout",
     "output_type": "stream",
     "text": [
      "\n",
      " accuracy of pgd attack with steps 8: 0.0033\n"
     ]
    },
    {
     "name": "stderr",
     "output_type": "stream",
     "text": [
      "\n"
     ]
    }
   ],
   "source": [
    "##############################################################################\n",
    "\n",
    "# Evaluate PGD attack on the trained model with k=2,4,8                      #\n",
    "\n",
    "##############################################################################\n",
    "\n",
    "\n",
    "\n",
    "k_list = [2,4,8]\n",
    "\n",
    "\n",
    "\n",
    "##############################################################################\n",
    "\n",
    "\n",
    "\n",
    "def PGD_attack(model, dataloader, steps):\n",
    "\n",
    "  model.eval()\n",
    "\n",
    "  attack = LinfPGDAttack(model, k=steps)\n",
    "\n",
    "\n",
    "\n",
    "  num_correct = 0\n",
    "\n",
    "  total = 0\n",
    "\n",
    "\n",
    "\n",
    "  with tqdm(iterable=enumerate(dataloader), total=len(dataloader)) as pbar:\n",
    "\n",
    "    for i, (img, label) in pbar:\n",
    "\n",
    "      img = img.to(device)\n",
    "\n",
    "      label = label.to(device)\n",
    "\n",
    "      adv_images = attack(img, label)\n",
    "\n",
    "\n",
    "\n",
    "      out = model(adv_images)\n",
    "\n",
    "\n",
    "\n",
    "      num_correct += torch.sum(torch.softmax(out, dim=1).argmax(dim=1) == label).item()\n",
    "\n",
    "      total += img.shape[0]\n",
    "\n",
    "\n",
    "\n",
    "  acc = num_correct / total\n",
    "\n",
    "  print(f'\\n accuracy of pgd attack with steps {steps}: {acc}')\n",
    "\n",
    "\n",
    "\n",
    "\n",
    "\n",
    "for step in k_list:\n",
    "\n",
    "  PGD_attack(model, testloader, step)\n",
    "\n",
    "################################ End #########################################"
   ]
  },
  {
   "cell_type": "markdown",
   "metadata": {
    "id": "mencXHd48pbq"
   },
   "source": [
    "## UAP Attack from scratch (15 pts)"
   ]
  },
  {
   "cell_type": "markdown",
   "metadata": {
    "id": "uukotdRZ8pbq"
   },
   "source": [
    "In this section you should implement UAP attack from scratch."
   ]
  },
  {
   "cell_type": "code",
   "execution_count": 21,
   "metadata": {
    "execution": {
     "iopub.execute_input": "2024-11-01T15:35:17.301725Z",
     "iopub.status.busy": "2024-11-01T15:35:17.301354Z",
     "iopub.status.idle": "2024-11-01T15:35:17.316723Z",
     "shell.execute_reply": "2024-11-01T15:35:17.315729Z",
     "shell.execute_reply.started": "2024-11-01T15:35:17.301693Z"
    },
    "id": "tNtLHKsm8pbq",
    "trusted": true
   },
   "outputs": [],
   "source": [
    "import torchattacks\n",
    "\n",
    "\n",
    "\n",
    "class UAPAttack(object):\n",
    "\n",
    "\n",
    "\n",
    "    def __init__(self, model, epsilon=8/255, delta=2/255, max_iters=10, data_loader=None):\n",
    "\n",
    "        self.model = model\n",
    "\n",
    "        self.epsilon = epsilon\n",
    "\n",
    "        self.delta = delta\n",
    "\n",
    "        self.max_iters = max_iters\n",
    "\n",
    "        self.data_loader = data_loader\n",
    "\n",
    "\n",
    "\n",
    "        # Initialize universal perturbation to zero\n",
    "\n",
    "        self.uap = torch.zeros(1, 3, 32, 32, device=device, requires_grad=True)\n",
    "\n",
    "\n",
    "\n",
    "\n",
    "\n",
    "    def generate_uap(self):\n",
    "\n",
    "        \"\"\"\n",
    "\n",
    "        Generate Universal Adversarial Perturbation (UAP) using the dataset.\n",
    "\n",
    "        \"\"\"\n",
    "\n",
    "        for iter in range(self.max_iters):\n",
    "\n",
    "            correct = 0\n",
    "\n",
    "            total = 0\n",
    "\n",
    "\n",
    "\n",
    "            for images, labels in self.data_loader:\n",
    "\n",
    "                images, labels = images.to(device), labels.to(device)\n",
    "\n",
    "\n",
    "\n",
    "                # Add the current universal perturbation to the images\n",
    "\n",
    "                perturbed_images = torch.clamp(images + self.uap, 0, 1)\n",
    "\n",
    "\n",
    "\n",
    "                # Perform forward pass with perturbed images\n",
    "\n",
    "                outputs = self.model(perturbed_images)\n",
    "\n",
    "                _, preds = torch.max(outputs, 1)\n",
    "\n",
    "\n",
    "\n",
    "                ##############################################################################\n",
    "\n",
    "                # Implement misclassification logic                                          #\n",
    "\n",
    "                # Find misclassified images and calculate the gradient                       #\n",
    "\n",
    "                # Update the universal perturbation using the calculated gradient            #\n",
    "\n",
    "                ##############################################################################\n",
    "\n",
    "                total += labels.size(0)\n",
    "\n",
    "                correct += (preds != labels).sum().item()\n",
    "\n",
    "\n",
    "\n",
    "\n",
    "\n",
    "                loss = nn.CrossEntropyLoss()(outputs, labels)\n",
    "\n",
    "                loss.backward()\n",
    "\n",
    "\n",
    "\n",
    "                self.uap.data += self.uap.grad.sign() * self.epsilon\n",
    "\n",
    "\n",
    "\n",
    "                ################################ End #########################################\n",
    "\n",
    "\n",
    "\n",
    "                # Project the universal perturbation to the epsilon ball\n",
    "\n",
    "                ##############################################################################\n",
    "\n",
    "                # Implement projection logic to keep UAP within epsilon bounds               #\n",
    "\n",
    "                ##############################################################################\n",
    "\n",
    "                self.uap.data = torch.clamp(self.uap.data, -self.epsilon, self.epsilon)\n",
    "\n",
    "                self.uap.grad.zero_()\n",
    "\n",
    "\n",
    "\n",
    "            success_rate = correct / total\n",
    "\n",
    "            print(f\"Iteration {iter}/{self.max_iters} - Success Rate: {success_rate * 100:.2f}%\")\n",
    "\n",
    "\n",
    "\n",
    "            if success_rate >= 1 - self.delta:\n",
    "\n",
    "                print(\"Target misclassification rate achieved.\")\n",
    "\n",
    "                break\n",
    "\n",
    "\n",
    "\n",
    "                ################################ End #########################################\n",
    "\n",
    "\n",
    "\n",
    "        return self.uap\n",
    "\n",
    "\n",
    "\n",
    "    def __call__(self, image):\n",
    "\n",
    "        \"\"\"\n",
    "\n",
    "        Apply the universal perturbation to a given image.\n",
    "\n",
    "        \"\"\"\n",
    "\n",
    "        image = image.to(device)\n",
    "\n",
    "        perturbed_image = torch.clamp(image + self.uap, 0, 1)\n",
    "\n",
    "        return perturbed_image"
   ]
  },
  {
   "cell_type": "code",
   "execution_count": 22,
   "metadata": {
    "colab": {
     "base_uri": "https://localhost:8080/"
    },
    "execution": {
     "iopub.execute_input": "2024-11-01T15:35:22.202022Z",
     "iopub.status.busy": "2024-11-01T15:35:22.201646Z",
     "iopub.status.idle": "2024-11-01T15:35:49.573382Z",
     "shell.execute_reply": "2024-11-01T15:35:49.572339Z",
     "shell.execute_reply.started": "2024-11-01T15:35:22.201987Z"
    },
    "id": "fGtx95sF8pbq",
    "outputId": "c4010eb9-06dd-499f-eddc-540b0a78cedb",
    "trusted": true
   },
   "outputs": [
    {
     "name": "stdout",
     "output_type": "stream",
     "text": [
      "Iteration 0/10 - Success Rate: 44.84%\n",
      "Iteration 1/10 - Success Rate: 47.61%\n",
      "Iteration 2/10 - Success Rate: 47.69%\n",
      "Iteration 3/10 - Success Rate: 48.13%\n",
      "Iteration 4/10 - Success Rate: 48.38%\n",
      "Iteration 5/10 - Success Rate: 48.35%\n",
      "Iteration 6/10 - Success Rate: 48.44%\n",
      "Iteration 7/10 - Success Rate: 48.18%\n",
      "Iteration 8/10 - Success Rate: 48.12%\n",
      "Iteration 9/10 - Success Rate: 48.18%\n"
     ]
    },
    {
     "name": "stderr",
     "output_type": "stream",
     "text": [
      "100%|██████████| 79/79 [00:01<00:00, 69.38it/s]"
     ]
    },
    {
     "name": "stdout",
     "output_type": "stream",
     "text": [
      "\n",
      " accuracy of UAP attack with max iters=10: 0.5795\n"
     ]
    },
    {
     "name": "stderr",
     "output_type": "stream",
     "text": [
      "\n"
     ]
    }
   ],
   "source": [
    "##############################################################################\n",
    "\n",
    "# Evaluate UAP attack on the trained model with max_iters = 10               #\n",
    "\n",
    "##############################################################################\n",
    "\n",
    "\n",
    "\n",
    "max_iters = 10\n",
    "\n",
    "\n",
    "\n",
    "##############################################################################\n",
    "\n",
    "\n",
    "\n",
    "attack = UAPAttack(model, max_iters=max_iters, data_loader=testloader)\n",
    "\n",
    "attack.generate_uap()\n",
    "\n",
    "\n",
    "\n",
    "def UAP_attack(model, dataloader, attack):\n",
    "\n",
    "  model.eval()\n",
    "\n",
    "\n",
    "\n",
    "  num_correct = 0\n",
    "\n",
    "  total = 0\n",
    "\n",
    "\n",
    "\n",
    "  with tqdm(iterable=enumerate(dataloader), total=len(dataloader)) as pbar:\n",
    "\n",
    "    for i, (img, label) in pbar:\n",
    "\n",
    "      img = img.to(device)\n",
    "\n",
    "      label = label.to(device)\n",
    "\n",
    "      adv_images = attack(img)\n",
    "\n",
    "\n",
    "\n",
    "      out = model(adv_images)\n",
    "\n",
    "\n",
    "\n",
    "      num_correct += torch.sum(torch.softmax(out, dim=1).argmax(dim=1) == label).item()\n",
    "\n",
    "      total += img.shape[0]\n",
    "\n",
    "\n",
    "\n",
    "  acc = num_correct / total\n",
    "\n",
    "  print(f'\\n accuracy of UAP attack with max iters=10: {acc}')\n",
    "\n",
    "\n",
    "\n",
    "UAP_attack(model, testloader, attack)\n",
    "\n",
    "################################ End #########################################"
   ]
  },
  {
   "cell_type": "markdown",
   "metadata": {
    "id": "NiXrH63C8pbr"
   },
   "source": [
    "## Visualization (10 pts)"
   ]
  },
  {
   "cell_type": "markdown",
   "metadata": {
    "id": "BCdHvLVN8pbr"
   },
   "source": [
    "Implement a function to plot the original image, the perturbed imaged and their predicted labels by the model"
   ]
  },
  {
   "cell_type": "code",
   "execution_count": 58,
   "metadata": {
    "id": "5XcZXuYs8pbr"
   },
   "outputs": [],
   "source": [
    "##############################################################################\n",
    "\n",
    "# Implement the function described                                           #\n",
    "\n",
    "##############################################################################\n",
    "\n",
    "def attack_visualize(model, dataloader, attack, attack_type = None, num_samples = 3):\n",
    "\n",
    "  x = next(iter(dataloader))[:num_samples]\n",
    "\n",
    "  imgs, labels = x\n",
    "\n",
    "  imgs = imgs.to(device)\n",
    "\n",
    "  labels = labels.to(device)\n",
    "\n",
    "\n",
    "\n",
    "  if attack_type != 'UAP':\n",
    "\n",
    "    adv_imgs = attack(imgs, labels)\n",
    "\n",
    "  else:\n",
    "\n",
    "    adv_imgs = attack(imgs)\n",
    "\n",
    "\n",
    "\n",
    "  out = model(adv_imgs)\n",
    "\n",
    "  _, preds = torch.max(out, dim=1)\n",
    "\n",
    "\n",
    "\n",
    "  fig = plt.figure(figsize = (3 * 2, num_samples * 2))\n",
    "\n",
    "  for i in range(num_samples):\n",
    "\n",
    "    fig.add_subplot(num_samples, 2, 2*i + 1)\n",
    "\n",
    "    plt.imshow(imgs[i].cpu().detach().permute(1, 2, 0).numpy())\n",
    "\n",
    "    plt.title(f'truth label: {classes[labels[i]]}')\n",
    "\n",
    "    plt.axis('off')\n",
    "\n",
    "\n",
    "\n",
    "    fig.add_subplot(num_samples, 2, 2*i + 2)\n",
    "\n",
    "    plt.imshow(adv_imgs[i].cpu().detach().permute(1, 2, 0).numpy())\n",
    "\n",
    "    plt.title(f'adv pred label: {classes[preds[i]]}')\n",
    "\n",
    "    plt.axis('off')\n",
    "\n",
    "\n",
    "\n",
    "\n",
    "\n",
    "################################ End #########################################"
   ]
  },
  {
   "cell_type": "code",
   "execution_count": null,
   "metadata": {
    "colab": {
     "base_uri": "https://localhost:8080/",
     "height": 521
    },
    "id": "fLi__5Cb8pbr",
    "outputId": "81d363c3-f14e-4a37-bb5f-be80e0dcdb50"
   },
   "outputs": [
    {
     "data": {
      "image/png": "[encoded data removed]",
      "text/plain": [
       "<Figure size 600x600 with 6 Axes>"
      ]
     },
     "metadata": {},
     "output_type": "display_data"
    }
   ],
   "source": [
    "##############################################################################\n",
    "\n",
    "# Choose 3 random images from testset and run FGSM attack and visualize      #\n",
    "\n",
    "##############################################################################\n",
    "\n",
    "\n",
    "\n",
    "attack = torchattacks.FGSM(model, eps=4 / 255)\n",
    "\n",
    "testloader = torch.utils.data.DataLoader(testset, batch_size = batch_size, shuffle = True, num_workers=2)\n",
    "\n",
    "attack_visualize(model, testloader, attack, 'FGSM')\n",
    "\n",
    "\n",
    "\n",
    "\n",
    "\n",
    "\n",
    "\n",
    "\n",
    "\n",
    "\n",
    "\n",
    "################################ End #########################################"
   ]
  },
  {
   "cell_type": "code",
   "execution_count": null,
   "metadata": {
    "colab": {
     "base_uri": "https://localhost:8080/",
     "height": 521
    },
    "id": "ta2jvu178pbr",
    "outputId": "8a61fde8-25c1-4496-9d2d-15a6b716b532"
   },
   "outputs": [
    {
     "data": {
      "image/png": "[encoded data removed]",
      "text/plain": [
       "<Figure size 600x600 with 6 Axes>"
      ]
     },
     "metadata": {},
     "output_type": "display_data"
    }
   ],
   "source": [
    "##############################################################################\n",
    "\n",
    "# Choose 3 random images from testset and run PGD attack and visualize      #\n",
    "\n",
    "##############################################################################\n",
    "\n",
    "\n",
    "\n",
    "LinfPGDAttack(model, k=4)\n",
    "\n",
    "testloader = torch.utils.data.DataLoader(testset, batch_size = batch_size, shuffle = True, num_workers=2)\n",
    "\n",
    "attack_visualize(model, testloader, attack, 'PGD')\n",
    "\n",
    "\n",
    "\n",
    "\n",
    "\n",
    "\n",
    "\n",
    "\n",
    "\n",
    "\n",
    "\n",
    "################################ End #########################################"
   ]
  },
  {
   "cell_type": "code",
   "execution_count": 59,
   "metadata": {
    "colab": {
     "base_uri": "https://localhost:8080/",
     "height": 695
    },
    "id": "wzGdM76C8pbr",
    "outputId": "10d1555b-f7e4-4e5a-d605-1fe3d05a9816"
   },
   "outputs": [
    {
     "name": "stdout",
     "output_type": "stream",
     "text": [
      "Iteration 0/10 - Success Rate: 45.39%\n",
      "Iteration 1/10 - Success Rate: 47.71%\n",
      "Iteration 2/10 - Success Rate: 47.72%\n",
      "Iteration 3/10 - Success Rate: 47.64%\n",
      "Iteration 4/10 - Success Rate: 47.51%\n",
      "Iteration 5/10 - Success Rate: 47.82%\n",
      "Iteration 6/10 - Success Rate: 47.67%\n",
      "Iteration 7/10 - Success Rate: 47.45%\n",
      "Iteration 8/10 - Success Rate: 48.08%\n",
      "Iteration 9/10 - Success Rate: 48.01%\n"
     ]
    },
    {
     "data": {
      "image/png": "[encoded data removed]",
      "text/plain": [
       "<Figure size 600x600 with 6 Axes>"
      ]
     },
     "metadata": {},
     "output_type": "display_data"
    }
   ],
   "source": [
    "##############################################################################\n",
    "\n",
    "# Choose 3 random images from testset and run UAP attack and visualize       #\n",
    "\n",
    "##############################################################################\n",
    "\n",
    "\n",
    "\n",
    "attack = UAPAttack(model, data_loader=testloader)\n",
    "\n",
    "attack.generate_uap()\n",
    "\n",
    "testloader = torch.utils.data.DataLoader(testset, batch_size = batch_size, shuffle = True, num_workers=2)\n",
    "\n",
    "attack_visualize(model, testloader, attack, 'UAP')\n",
    "\n",
    "\n",
    "\n",
    "\n",
    "\n",
    "\n",
    "\n",
    "################################ End #########################################"
   ]
  },
  {
   "cell_type": "markdown",
   "metadata": {
    "id": "KR83Ekc18pbr"
   },
   "source": [
    "## Adversarial Training (35 pts)"
   ]
  },
  {
   "cell_type": "markdown",
   "metadata": {
    "id": "AcrZcZol8pbr"
   },
   "source": [
    "In this section you are going to adversarially train your model and see the results."
   ]
  },
  {
   "cell_type": "code",
   "execution_count": 66,
   "metadata": {
    "colab": {
     "base_uri": "https://localhost:8080/"
    },
    "id": "NaE6EFZr8pbr",
    "outputId": "19815f6d-2519-4c10-ba4e-673f7e68cbcc"
   },
   "outputs": [
    {
     "name": "stderr",
     "output_type": "stream",
     "text": [
      "100%|██████████| 391/391 [00:25<00:00, 15.16it/s]"
     ]
    },
    {
     "name": "stdout",
     "output_type": "stream",
     "text": [
      "adversarial train: epoch 1: acc: 0.37096, avg loss: 0.013601022942066193\n"
     ]
    },
    {
     "name": "stderr",
     "output_type": "stream",
     "text": [
      "\n",
      "100%|██████████| 391/391 [00:25<00:00, 15.10it/s]"
     ]
    },
    {
     "name": "stdout",
     "output_type": "stream",
     "text": [
      "adversarial train: epoch 2: acc: 0.46442, avg loss: 0.011497463569641113\n"
     ]
    },
    {
     "name": "stderr",
     "output_type": "stream",
     "text": [
      "\n",
      "100%|██████████| 391/391 [00:24<00:00, 16.12it/s]"
     ]
    },
    {
     "name": "stdout",
     "output_type": "stream",
     "text": [
      "adversarial train: epoch 3: acc: 0.50812, avg loss: 0.010606251938343048\n"
     ]
    },
    {
     "name": "stderr",
     "output_type": "stream",
     "text": [
      "\n",
      "100%|██████████| 391/391 [00:25<00:00, 15.26it/s]"
     ]
    },
    {
     "name": "stdout",
     "output_type": "stream",
     "text": [
      "adversarial train: epoch 4: acc: 0.53954, avg loss: 0.009966691021919251\n"
     ]
    },
    {
     "name": "stderr",
     "output_type": "stream",
     "text": [
      "\n",
      "100%|██████████| 391/391 [00:25<00:00, 15.47it/s]"
     ]
    },
    {
     "name": "stdout",
     "output_type": "stream",
     "text": [
      "adversarial train: epoch 5: acc: 0.5705, avg loss: 0.009399370826482773\n"
     ]
    },
    {
     "name": "stderr",
     "output_type": "stream",
     "text": [
      "\n",
      "100%|██████████| 391/391 [00:24<00:00, 16.02it/s]"
     ]
    },
    {
     "name": "stdout",
     "output_type": "stream",
     "text": [
      "adversarial train: epoch 6: acc: 0.59986, avg loss: 0.008841429373025895\n"
     ]
    },
    {
     "name": "stderr",
     "output_type": "stream",
     "text": [
      "\n",
      "100%|██████████| 391/391 [00:25<00:00, 15.32it/s]"
     ]
    },
    {
     "name": "stdout",
     "output_type": "stream",
     "text": [
      "adversarial train: epoch 7: acc: 0.62738, avg loss: 0.008293061654567719\n"
     ]
    },
    {
     "name": "stderr",
     "output_type": "stream",
     "text": [
      "\n",
      "100%|██████████| 391/391 [00:25<00:00, 15.58it/s]\n"
     ]
    },
    {
     "name": "stdout",
     "output_type": "stream",
     "text": [
      "adversarial train: epoch 8: acc: 0.6749, avg loss: 0.007378402514457703\n"
     ]
    },
    {
     "name": "stderr",
     "output_type": "stream",
     "text": [
      "100%|██████████| 391/391 [00:24<00:00, 15.95it/s]"
     ]
    },
    {
     "name": "stdout",
     "output_type": "stream",
     "text": [
      "adversarial train: epoch 9: acc: 0.70828, avg loss: 0.006627090961933136\n"
     ]
    },
    {
     "name": "stderr",
     "output_type": "stream",
     "text": [
      "\n",
      "100%|██████████| 391/391 [00:25<00:00, 15.24it/s]"
     ]
    },
    {
     "name": "stdout",
     "output_type": "stream",
     "text": [
      "adversarial train: epoch 10: acc: 0.73416, avg loss: 0.006182757705450058\n"
     ]
    },
    {
     "name": "stderr",
     "output_type": "stream",
     "text": [
      "\n",
      "100%|██████████| 391/391 [00:25<00:00, 15.59it/s]"
     ]
    },
    {
     "name": "stdout",
     "output_type": "stream",
     "text": [
      "adversarial train: epoch 11: acc: 0.75458, avg loss: 0.0057101759052276616\n"
     ]
    },
    {
     "name": "stderr",
     "output_type": "stream",
     "text": [
      "\n",
      "100%|██████████| 391/391 [00:24<00:00, 15.80it/s]"
     ]
    },
    {
     "name": "stdout",
     "output_type": "stream",
     "text": [
      "adversarial train: epoch 12: acc: 0.77334, avg loss: 0.005265385174751282\n"
     ]
    },
    {
     "name": "stderr",
     "output_type": "stream",
     "text": [
      "\n",
      "100%|██████████| 391/391 [00:25<00:00, 15.21it/s]"
     ]
    },
    {
     "name": "stdout",
     "output_type": "stream",
     "text": [
      "adversarial train: epoch 13: acc: 0.78642, avg loss: 0.004960324816703796\n"
     ]
    },
    {
     "name": "stderr",
     "output_type": "stream",
     "text": [
      "\n",
      "100%|██████████| 391/391 [00:25<00:00, 15.60it/s]"
     ]
    },
    {
     "name": "stdout",
     "output_type": "stream",
     "text": [
      "adversarial train: epoch 14: acc: 0.80488, avg loss: 0.00453009217262268\n"
     ]
    },
    {
     "name": "stderr",
     "output_type": "stream",
     "text": [
      "\n",
      "100%|██████████| 391/391 [00:24<00:00, 15.88it/s]"
     ]
    },
    {
     "name": "stdout",
     "output_type": "stream",
     "text": [
      "adversarial train: epoch 15: acc: 0.8128, avg loss: 0.004351980237960815\n"
     ]
    },
    {
     "name": "stderr",
     "output_type": "stream",
     "text": [
      "\n",
      "100%|██████████| 391/391 [00:25<00:00, 15.18it/s]"
     ]
    },
    {
     "name": "stdout",
     "output_type": "stream",
     "text": [
      "adversarial train: epoch 16: acc: 0.82552, avg loss: 0.00410799999833107\n"
     ]
    },
    {
     "name": "stderr",
     "output_type": "stream",
     "text": [
      "\n",
      "100%|██████████| 391/391 [00:24<00:00, 15.70it/s]"
     ]
    },
    {
     "name": "stdout",
     "output_type": "stream",
     "text": [
      "adversarial train: epoch 17: acc: 0.83088, avg loss: 0.0039144251722097395\n"
     ]
    },
    {
     "name": "stderr",
     "output_type": "stream",
     "text": [
      "\n",
      "100%|██████████| 391/391 [00:24<00:00, 15.64it/s]"
     ]
    },
    {
     "name": "stdout",
     "output_type": "stream",
     "text": [
      "adversarial train: epoch 18: acc: 0.8378, avg loss: 0.003742078865766525\n"
     ]
    },
    {
     "name": "stderr",
     "output_type": "stream",
     "text": [
      "\n",
      "100%|██████████| 391/391 [00:25<00:00, 15.13it/s]"
     ]
    },
    {
     "name": "stdout",
     "output_type": "stream",
     "text": [
      "adversarial train: epoch 19: acc: 0.8486, avg loss: 0.0035497983676195145\n"
     ]
    },
    {
     "name": "stderr",
     "output_type": "stream",
     "text": [
      "\n",
      "100%|██████████| 391/391 [00:24<00:00, 15.86it/s]"
     ]
    },
    {
     "name": "stdout",
     "output_type": "stream",
     "text": [
      "adversarial train: epoch 20: acc: 0.85406, avg loss: 0.0034012404215335848\n"
     ]
    },
    {
     "name": "stderr",
     "output_type": "stream",
     "text": [
      "\n",
      "100%|██████████| 391/391 [00:25<00:00, 15.48it/s]"
     ]
    },
    {
     "name": "stdout",
     "output_type": "stream",
     "text": [
      "adversarial train: epoch 21: acc: 0.85896, avg loss: 0.0032732867524027823\n"
     ]
    },
    {
     "name": "stderr",
     "output_type": "stream",
     "text": [
      "\n",
      "100%|██████████| 391/391 [00:25<00:00, 15.11it/s]"
     ]
    },
    {
     "name": "stdout",
     "output_type": "stream",
     "text": [
      "adversarial train: epoch 22: acc: 0.86188, avg loss: 0.003206048017144203\n"
     ]
    },
    {
     "name": "stderr",
     "output_type": "stream",
     "text": [
      "\n",
      "100%|██████████| 391/391 [00:24<00:00, 15.91it/s]"
     ]
    },
    {
     "name": "stdout",
     "output_type": "stream",
     "text": [
      "adversarial train: epoch 23: acc: 0.86898, avg loss: 0.0030472116795182227\n"
     ]
    },
    {
     "name": "stderr",
     "output_type": "stream",
     "text": [
      "\n",
      "100%|██████████| 391/391 [00:25<00:00, 15.37it/s]"
     ]
    },
    {
     "name": "stdout",
     "output_type": "stream",
     "text": [
      "adversarial train: epoch 24: acc: 0.87418, avg loss: 0.0029566078037023542\n"
     ]
    },
    {
     "name": "stderr",
     "output_type": "stream",
     "text": [
      "\n",
      "100%|██████████| 391/391 [00:25<00:00, 15.32it/s]"
     ]
    },
    {
     "name": "stdout",
     "output_type": "stream",
     "text": [
      "adversarial train: epoch 25: acc: 0.88012, avg loss: 0.0028459935620427134\n"
     ]
    },
    {
     "name": "stderr",
     "output_type": "stream",
     "text": [
      "\n",
      "100%|██████████| 391/391 [00:24<00:00, 15.99it/s]"
     ]
    },
    {
     "name": "stdout",
     "output_type": "stream",
     "text": [
      "adversarial train: epoch 26: acc: 0.8836, avg loss: 0.002732760863006115\n"
     ]
    },
    {
     "name": "stderr",
     "output_type": "stream",
     "text": [
      "\n",
      "100%|██████████| 391/391 [00:25<00:00, 15.26it/s]"
     ]
    },
    {
     "name": "stdout",
     "output_type": "stream",
     "text": [
      "adversarial train: epoch 27: acc: 0.88456, avg loss: 0.0027033272287249567\n"
     ]
    },
    {
     "name": "stderr",
     "output_type": "stream",
     "text": [
      "\n",
      "100%|██████████| 391/391 [00:25<00:00, 15.21it/s]"
     ]
    },
    {
     "name": "stdout",
     "output_type": "stream",
     "text": [
      "adversarial train: epoch 28: acc: 0.8894, avg loss: 0.0026154518631100656\n"
     ]
    },
    {
     "name": "stderr",
     "output_type": "stream",
     "text": [
      "\n",
      "100%|██████████| 391/391 [00:24<00:00, 15.97it/s]"
     ]
    },
    {
     "name": "stdout",
     "output_type": "stream",
     "text": [
      "adversarial train: epoch 29: acc: 0.89086, avg loss: 0.002525923925936222\n"
     ]
    },
    {
     "name": "stderr",
     "output_type": "stream",
     "text": [
      "\n",
      "100%|██████████| 391/391 [00:25<00:00, 15.32it/s]"
     ]
    },
    {
     "name": "stdout",
     "output_type": "stream",
     "text": [
      "adversarial train: epoch 30: acc: 0.89806, avg loss: 0.0024060358226299285\n"
     ]
    },
    {
     "name": "stderr",
     "output_type": "stream",
     "text": [
      "\n",
      "100%|██████████| 391/391 [00:25<00:00, 15.21it/s]"
     ]
    },
    {
     "name": "stdout",
     "output_type": "stream",
     "text": [
      "adversarial train: epoch 31: acc: 0.89754, avg loss: 0.002396409828066826\n"
     ]
    },
    {
     "name": "stderr",
     "output_type": "stream",
     "text": [
      "\n",
      "100%|██████████| 391/391 [00:24<00:00, 15.98it/s]"
     ]
    },
    {
     "name": "stdout",
     "output_type": "stream",
     "text": [
      "adversarial train: epoch 32: acc: 0.9001, avg loss: 0.002349844906926155\n"
     ]
    },
    {
     "name": "stderr",
     "output_type": "stream",
     "text": [
      "\n",
      "100%|██████████| 391/391 [00:25<00:00, 15.18it/s]"
     ]
    },
    {
     "name": "stdout",
     "output_type": "stream",
     "text": [
      "adversarial train: epoch 33: acc: 0.90226, avg loss: 0.0022792742627859115\n"
     ]
    },
    {
     "name": "stderr",
     "output_type": "stream",
     "text": [
      "\n",
      "100%|██████████| 391/391 [00:25<00:00, 15.34it/s]"
     ]
    },
    {
     "name": "stdout",
     "output_type": "stream",
     "text": [
      "adversarial train: epoch 34: acc: 0.90466, avg loss: 0.0022345773681998254\n"
     ]
    },
    {
     "name": "stderr",
     "output_type": "stream",
     "text": [
      "\n",
      "100%|██████████| 391/391 [00:24<00:00, 16.07it/s]"
     ]
    },
    {
     "name": "stdout",
     "output_type": "stream",
     "text": [
      "adversarial train: epoch 35: acc: 0.90536, avg loss: 0.0021895728546380997\n"
     ]
    },
    {
     "name": "stderr",
     "output_type": "stream",
     "text": [
      "\n",
      "100%|██████████| 391/391 [00:25<00:00, 15.31it/s]"
     ]
    },
    {
     "name": "stdout",
     "output_type": "stream",
     "text": [
      "adversarial train: epoch 36: acc: 0.90896, avg loss: 0.002115158261358738\n"
     ]
    },
    {
     "name": "stderr",
     "output_type": "stream",
     "text": [
      "\n",
      "100%|██████████| 391/391 [00:25<00:00, 15.45it/s]"
     ]
    },
    {
     "name": "stdout",
     "output_type": "stream",
     "text": [
      "adversarial train: epoch 37: acc: 0.91174, avg loss: 0.0020815489503741265\n"
     ]
    },
    {
     "name": "stderr",
     "output_type": "stream",
     "text": [
      "\n",
      "100%|██████████| 391/391 [00:24<00:00, 16.04it/s]"
     ]
    },
    {
     "name": "stdout",
     "output_type": "stream",
     "text": [
      "adversarial train: epoch 38: acc: 0.9128, avg loss: 0.0020189978738129138\n"
     ]
    },
    {
     "name": "stderr",
     "output_type": "stream",
     "text": [
      "\n",
      "100%|██████████| 391/391 [00:25<00:00, 15.25it/s]"
     ]
    },
    {
     "name": "stdout",
     "output_type": "stream",
     "text": [
      "adversarial train: epoch 39: acc: 0.91422, avg loss: 0.001998531935364008\n"
     ]
    },
    {
     "name": "stderr",
     "output_type": "stream",
     "text": [
      "\n",
      "100%|██████████| 391/391 [00:25<00:00, 15.64it/s]"
     ]
    },
    {
     "name": "stdout",
     "output_type": "stream",
     "text": [
      "adversarial train: epoch 40: acc: 0.91556, avg loss: 0.001974735810160637\n"
     ]
    },
    {
     "name": "stderr",
     "output_type": "stream",
     "text": [
      "\n",
      "100%|██████████| 391/391 [00:24<00:00, 16.09it/s]"
     ]
    },
    {
     "name": "stdout",
     "output_type": "stream",
     "text": [
      "adversarial train: epoch 41: acc: 0.91572, avg loss: 0.0019511348168551922\n"
     ]
    },
    {
     "name": "stderr",
     "output_type": "stream",
     "text": [
      "\n",
      "100%|██████████| 391/391 [00:25<00:00, 15.25it/s]"
     ]
    },
    {
     "name": "stdout",
     "output_type": "stream",
     "text": [
      "adversarial train: epoch 42: acc: 0.91878, avg loss: 0.0019061377950012684\n"
     ]
    },
    {
     "name": "stderr",
     "output_type": "stream",
     "text": [
      "\n",
      "100%|██████████| 391/391 [00:24<00:00, 15.67it/s]"
     ]
    },
    {
     "name": "stdout",
     "output_type": "stream",
     "text": [
      "adversarial train: epoch 43: acc: 0.92092, avg loss: 0.0018515477494895458\n"
     ]
    },
    {
     "name": "stderr",
     "output_type": "stream",
     "text": [
      "\n",
      "100%|██████████| 391/391 [00:24<00:00, 16.01it/s]"
     ]
    },
    {
     "name": "stdout",
     "output_type": "stream",
     "text": [
      "adversarial train: epoch 44: acc: 0.92246, avg loss: 0.001788509367853403\n"
     ]
    },
    {
     "name": "stderr",
     "output_type": "stream",
     "text": [
      "\n",
      "100%|██████████| 391/391 [00:25<00:00, 15.19it/s]"
     ]
    },
    {
     "name": "stdout",
     "output_type": "stream",
     "text": [
      "adversarial train: epoch 45: acc: 0.92476, avg loss: 0.0017567219984531402\n"
     ]
    },
    {
     "name": "stderr",
     "output_type": "stream",
     "text": [
      "\n",
      "100%|██████████| 391/391 [00:24<00:00, 15.76it/s]"
     ]
    },
    {
     "name": "stdout",
     "output_type": "stream",
     "text": [
      "adversarial train: epoch 46: acc: 0.92366, avg loss: 0.0017652043382823468\n"
     ]
    },
    {
     "name": "stderr",
     "output_type": "stream",
     "text": [
      "\n",
      "100%|██████████| 391/391 [00:25<00:00, 15.63it/s]"
     ]
    },
    {
     "name": "stdout",
     "output_type": "stream",
     "text": [
      "adversarial train: epoch 47: acc: 0.92472, avg loss: 0.001750935896486044\n"
     ]
    },
    {
     "name": "stderr",
     "output_type": "stream",
     "text": [
      "\n",
      "100%|██████████| 391/391 [00:25<00:00, 15.29it/s]"
     ]
    },
    {
     "name": "stdout",
     "output_type": "stream",
     "text": [
      "adversarial train: epoch 48: acc: 0.92546, avg loss: 0.0017102133445441722\n"
     ]
    },
    {
     "name": "stderr",
     "output_type": "stream",
     "text": [
      "\n",
      "100%|██████████| 391/391 [00:24<00:00, 15.81it/s]"
     ]
    },
    {
     "name": "stdout",
     "output_type": "stream",
     "text": [
      "adversarial train: epoch 49: acc: 0.93054, avg loss: 0.0016393706430494785\n"
     ]
    },
    {
     "name": "stderr",
     "output_type": "stream",
     "text": [
      "\n",
      "100%|██████████| 391/391 [00:25<00:00, 15.48it/s]"
     ]
    },
    {
     "name": "stdout",
     "output_type": "stream",
     "text": [
      "adversarial train: epoch 50: acc: 0.9298, avg loss: 0.0016272385343909263\n"
     ]
    },
    {
     "name": "stderr",
     "output_type": "stream",
     "text": [
      "\n"
     ]
    }
   ],
   "source": [
    "##############################################################################\n",
    "\n",
    "# Load a new resnet model for adversarial training                           #\n",
    "\n",
    "# Train the model on perturbed images from                                   #\n",
    "\n",
    "# untargeted FGSM attack with epsilon = 8/255 on train dataset               #\n",
    "\n",
    "# Also use the following setup for training the model                        #\n",
    "\n",
    "##############################################################################\n",
    "\n",
    "import torchattacks\n",
    "\n",
    "\n",
    "\n",
    "adv_model = resnet(10)\n",
    "\n",
    "adv_model.to(device)\n",
    "\n",
    "\n",
    "\n",
    "learning_rate = 0.01\n",
    "\n",
    "criterion = nn.CrossEntropyLoss()\n",
    "\n",
    "optimizer = optim.SGD(adv_model.parameters(), lr=learning_rate, momentum=0.9)\n",
    "\n",
    "epochs = 50\n",
    "\n",
    "\n",
    "\n",
    "\n",
    "\n",
    "def adv_train(model, attack, dataloader, criterion, optimizer, epoch):\n",
    "\n",
    "  model.train()\n",
    "\n",
    "\n",
    "\n",
    "  num_correct = 0\n",
    "\n",
    "  total_loss = 0\n",
    "\n",
    "  total = 0\n",
    "\n",
    "\n",
    "\n",
    "  with tqdm(iterable=enumerate(dataloader), total=len(dataloader)) as pbar:\n",
    "\n",
    "    for i, (img, label) in pbar:\n",
    "\n",
    "      img = img.to(device)\n",
    "\n",
    "      label = label.to(device)\n",
    "\n",
    "\n",
    "\n",
    "      adv_img = attack(img, label)\n",
    "\n",
    "\n",
    "\n",
    "      optimizer.zero_grad()\n",
    "\n",
    "      out = model(adv_img)\n",
    "\n",
    "      loss = criterion(out, label)\n",
    "\n",
    "      loss.backward()\n",
    "\n",
    "      optimizer.step()\n",
    "\n",
    "\n",
    "\n",
    "      num_correct += torch.sum(torch.softmax(out, dim=1).argmax(dim=1) == label).item()\n",
    "\n",
    "      total_loss += loss.item()\n",
    "\n",
    "      total += img.shape[0]\n",
    "\n",
    "\n",
    "\n",
    "  acc = num_correct / total\n",
    "\n",
    "  avg_loss = total_loss / total\n",
    "\n",
    "\n",
    "\n",
    "  print(f'adversarial train: epoch {epoch}: acc: {acc}, avg loss: {avg_loss}')\n",
    "\n",
    "\n",
    "\n",
    "\n",
    "\n",
    "attack = torchattacks.FGSM(model, eps=8/255)\n",
    "\n",
    "for epoch in range(1, epochs + 1):\n",
    "\n",
    "  adv_train(adv_model, attack, trainloader, criterion, optimizer, epoch)\n",
    "\n",
    "\n",
    "\n",
    "################################ End #########################################"
   ]
  },
  {
   "cell_type": "code",
   "execution_count": 67,
   "metadata": {
    "id": "hFU1lyoOAps7"
   },
   "outputs": [],
   "source": [
    "# Save model\n",
    "\n",
    "adv_model.eval()\n",
    "\n",
    "model_name = \"/content/drive/MyDrive/resnet18_cifar10_model_adv_trained.pth\"\n",
    "\n",
    "model_PATH = f\"{model_name}\"\n",
    "\n",
    "torch.save(adv_model.state_dict(), model_PATH)"
   ]
  },
  {
   "cell_type": "code",
   "execution_count": 11,
   "metadata": {
    "execution": {
     "iopub.execute_input": "2024-11-05T18:49:08.080909Z",
     "iopub.status.busy": "2024-11-05T18:49:08.080173Z",
     "iopub.status.idle": "2024-11-05T18:49:08.368829Z",
     "shell.execute_reply": "2024-11-05T18:49:08.367723Z",
     "shell.execute_reply.started": "2024-11-05T18:49:08.080862Z"
    },
    "trusted": true
   },
   "outputs": [
    {
     "name": "stderr",
     "output_type": "stream",
     "text": [
      "/tmp/ipykernel_30/2844530016.py:2: FutureWarning: You are using `torch.load` with `weights_only=False` (the current default value), which uses the default pickle module implicitly. It is possible to construct malicious pickle data which will execute arbitrary code during unpickling (See https://github.com/pytorch/pytorch/blob/main/SECURITY.md#untrusted-models for more details). In a future release, the default value for `weights_only` will be flipped to `True`. This limits the functions that could be executed during unpickling. Arbitrary objects will no longer be allowed to be loaded via this mode unless they are explicitly allowlisted by the user via `torch.serialization.add_safe_globals`. We recommend you start setting `weights_only=True` for any use case where you don't have full control of the loaded file. Please open an issue on GitHub for any issues related to this experimental feature.\n",
      "  adv_model.load_state_dict(torch.load('/kaggle/working/resnet18_cifar10_model_adv_trained.pth'))\n"
     ]
    }
   ],
   "source": [
    "adv_model = resnet(10)\n",
    "adv_model.load_state_dict(torch.load('/kaggle/working/resnet18_cifar10_model_adv_trained.pth'))\n",
    "adv_model.eval()\n",
    "adv_model = adv_model.to(device)"
   ]
  },
  {
   "cell_type": "code",
   "execution_count": 15,
   "metadata": {
    "colab": {
     "base_uri": "https://localhost:8080/"
    },
    "execution": {
     "iopub.execute_input": "2024-11-01T15:30:31.729436Z",
     "iopub.status.busy": "2024-11-01T15:30:31.728559Z",
     "iopub.status.idle": "2024-11-01T15:30:32.898115Z",
     "shell.execute_reply": "2024-11-01T15:30:32.896991Z",
     "shell.execute_reply.started": "2024-11-01T15:30:31.729395Z"
    },
    "id": "uJzdwMzV8pbr",
    "outputId": "8625cad8-ef68-4ffa-abbb-c8f0b49116f0",
    "trusted": true
   },
   "outputs": [
    {
     "name": "stderr",
     "output_type": "stream",
     "text": [
      "100%|██████████| 79/79 [00:01<00:00, 70.17it/s]"
     ]
    },
    {
     "name": "stdout",
     "output_type": "stream",
     "text": [
      "test accuracy: 0.5801\n"
     ]
    },
    {
     "name": "stderr",
     "output_type": "stream",
     "text": [
      "\n"
     ]
    }
   ],
   "source": [
    "##############################################################################\n",
    "\n",
    "# Evaluate the new model on the test dataset                                 #\n",
    "\n",
    "##############################################################################\n",
    "\n",
    "\n",
    "\n",
    "test(adv_model, testloader)\n",
    "\n",
    "\n",
    "\n",
    "################################ End #########################################"
   ]
  },
  {
   "cell_type": "code",
   "execution_count": 14,
   "metadata": {
    "colab": {
     "base_uri": "https://localhost:8080/"
    },
    "execution": {
     "iopub.execute_input": "2024-11-05T18:50:30.309468Z",
     "iopub.status.busy": "2024-11-05T18:50:30.309055Z",
     "iopub.status.idle": "2024-11-05T18:50:32.832875Z",
     "shell.execute_reply": "2024-11-05T18:50:32.831795Z",
     "shell.execute_reply.started": "2024-11-05T18:50:30.309427Z"
    },
    "id": "T1LKMTs58pbr",
    "outputId": "3d4e7752-f182-4641-a246-d9fa723a1494",
    "trusted": true
   },
   "outputs": [
    {
     "name": "stderr",
     "output_type": "stream",
     "text": [
      "100%|██████████| 79/79 [00:02<00:00, 32.02it/s]"
     ]
    },
    {
     "name": "stdout",
     "output_type": "stream",
     "text": [
      "accuracy of fgsm attack with epsilon=8/255: 0.8798\n"
     ]
    },
    {
     "name": "stderr",
     "output_type": "stream",
     "text": [
      "\n"
     ]
    }
   ],
   "source": [
    "##############################################################################\n",
    "\n",
    "# Run FGSM attack on the adversarially trained model with epsilon = 8/255    #\n",
    "\n",
    "##############################################################################\n",
    "import torchattacks \n",
    "\n",
    "def FGSM_adv_attack(model, attack, dataloader, eps):\n",
    "  model.eval()\n",
    "\n",
    "  num_correct = 0\n",
    "  total = 0\n",
    "\n",
    "  with tqdm(iterable=enumerate(dataloader), total=len(dataloader)) as pbar:\n",
    "    for i, (img, label) in pbar:\n",
    "      img = img.to(device)\n",
    "      label = label.to(device)\n",
    "\n",
    "      adv_images = attack(img, label)\n",
    "        \n",
    "      out = model(adv_images)\n",
    "\n",
    "      num_correct += torch.sum(torch.softmax(out, dim=1).argmax(dim=1) == label).item()\n",
    "      total += img.shape[0]\n",
    "\n",
    "  acc = num_correct / total\n",
    "  print(f'accuracy of fgsm attack with epsilon={int(eps * 255)}/{255}: {acc}')\n",
    "\n",
    "# FGSM adversarial sample created by original model\n",
    "\n",
    "attack = torchattacks.FGSM(model, eps=8/255)\n",
    "FGSM_adv_attack(adv_model, attack, testloader, 8/255)\n",
    "\n",
    "\n",
    "\n",
    "################################ End #########################################"
   ]
  },
  {
   "cell_type": "code",
   "execution_count": 15,
   "metadata": {
    "execution": {
     "iopub.execute_input": "2024-11-05T18:50:32.835989Z",
     "iopub.status.busy": "2024-11-05T18:50:32.835489Z",
     "iopub.status.idle": "2024-11-05T18:50:35.249040Z",
     "shell.execute_reply": "2024-11-05T18:50:35.246969Z",
     "shell.execute_reply.started": "2024-11-05T18:50:32.835942Z"
    },
    "trusted": true
   },
   "outputs": [
    {
     "name": "stderr",
     "output_type": "stream",
     "text": [
      "100%|██████████| 79/79 [00:02<00:00, 33.45it/s]"
     ]
    },
    {
     "name": "stdout",
     "output_type": "stream",
     "text": [
      "accuracy of fgsm attack with epsilon=8/255: 0.0002\n"
     ]
    },
    {
     "name": "stderr",
     "output_type": "stream",
     "text": [
      "\n"
     ]
    }
   ],
   "source": [
    "# FGSM adversarial sample created by adversarial model\n",
    "attack = torchattacks.FGSM(adv_model, eps=8/255)\n",
    "FGSM_adv_attack(adv_model, attack, testloader, 8/255)"
   ]
  },
  {
   "cell_type": "code",
   "execution_count": 73,
   "metadata": {
    "colab": {
     "base_uri": "https://localhost:8080/"
    },
    "id": "nyAIvg028pbs",
    "outputId": "e385d6d9-7740-4881-9893-effc75a57a43"
   },
   "outputs": [
    {
     "name": "stderr",
     "output_type": "stream",
     "text": [
      "100%|██████████| 79/79 [00:10<00:00,  7.41it/s]"
     ]
    },
    {
     "name": "stdout",
     "output_type": "stream",
     "text": [
      "\n",
      " accuracy of pgd attack with steps 4: 0.8582\n"
     ]
    },
    {
     "name": "stderr",
     "output_type": "stream",
     "text": [
      "\n"
     ]
    }
   ],
   "source": [
    "##############################################################################\n",
    "\n",
    "#  Run PGD attack on the adversarially trained model with k=4                #\n",
    "\n",
    "##############################################################################\n",
    "\n",
    "\n",
    "\n",
    "PGD_attack(adv_model, testloader, 4)\n",
    "\n",
    "\n",
    "\n",
    "################################ End #########################################"
   ]
  },
  {
   "cell_type": "code",
   "execution_count": 24,
   "metadata": {
    "colab": {
     "base_uri": "https://localhost:8080/"
    },
    "execution": {
     "iopub.execute_input": "2024-11-01T15:36:39.669933Z",
     "iopub.status.busy": "2024-11-01T15:36:39.669488Z",
     "iopub.status.idle": "2024-11-01T15:37:06.714211Z",
     "shell.execute_reply": "2024-11-01T15:37:06.713094Z",
     "shell.execute_reply.started": "2024-11-01T15:36:39.669884Z"
    },
    "id": "FQRAQqp_8pbs",
    "outputId": "871d3e5d-38c6-4bc2-a3e2-fc0ab0377214",
    "trusted": true
   },
   "outputs": [
    {
     "name": "stdout",
     "output_type": "stream",
     "text": [
      "Iteration 0/10 - Success Rate: 44.84%\n",
      "Iteration 1/10 - Success Rate: 47.61%\n",
      "Iteration 2/10 - Success Rate: 47.69%\n",
      "Iteration 3/10 - Success Rate: 48.13%\n",
      "Iteration 4/10 - Success Rate: 48.38%\n",
      "Iteration 5/10 - Success Rate: 48.35%\n",
      "Iteration 6/10 - Success Rate: 48.44%\n",
      "Iteration 7/10 - Success Rate: 48.18%\n",
      "Iteration 8/10 - Success Rate: 48.12%\n",
      "Iteration 9/10 - Success Rate: 48.18%\n"
     ]
    },
    {
     "name": "stderr",
     "output_type": "stream",
     "text": [
      "100%|██████████| 79/79 [00:01<00:00, 67.62it/s]"
     ]
    },
    {
     "name": "stdout",
     "output_type": "stream",
     "text": [
      "\n",
      " accuracy of UAP attack with max iters=10: 0.5293\n"
     ]
    },
    {
     "name": "stderr",
     "output_type": "stream",
     "text": [
      "\n"
     ]
    }
   ],
   "source": [
    "##############################################################################\n",
    "\n",
    "#  Run UAP attack on the adversarially trained model with max_iters = 10     #\n",
    "\n",
    "##############################################################################\n",
    "\n",
    "\n",
    "\n",
    "attack = UAPAttack(model, max_iters=max_iters, data_loader=testloader)\n",
    "\n",
    "attack.generate_uap()\n",
    "\n",
    "UAP_attack(adv_model, testloader, attack)\n",
    "\n",
    "\n",
    "\n",
    "################################ End #########################################"
   ]
  },
  {
   "cell_type": "code",
   "execution_count": 25,
   "metadata": {
    "execution": {
     "iopub.execute_input": "2024-11-01T15:37:31.669130Z",
     "iopub.status.busy": "2024-11-01T15:37:31.668317Z",
     "iopub.status.idle": "2024-11-01T15:37:59.185771Z",
     "shell.execute_reply": "2024-11-01T15:37:59.184534Z",
     "shell.execute_reply.started": "2024-11-01T15:37:31.669089Z"
    },
    "trusted": true
   },
   "outputs": [
    {
     "name": "stdout",
     "output_type": "stream",
     "text": [
      "Iteration 0/10 - Success Rate: 89.28%\n",
      "Iteration 1/10 - Success Rate: 89.97%\n",
      "Iteration 2/10 - Success Rate: 89.96%\n",
      "Iteration 3/10 - Success Rate: 89.97%\n",
      "Iteration 4/10 - Success Rate: 89.96%\n",
      "Iteration 5/10 - Success Rate: 89.97%\n",
      "Iteration 6/10 - Success Rate: 89.96%\n",
      "Iteration 7/10 - Success Rate: 89.98%\n",
      "Iteration 8/10 - Success Rate: 89.96%\n",
      "Iteration 9/10 - Success Rate: 89.96%\n"
     ]
    },
    {
     "name": "stderr",
     "output_type": "stream",
     "text": [
      "100%|██████████| 79/79 [00:01<00:00, 61.03it/s]"
     ]
    },
    {
     "name": "stdout",
     "output_type": "stream",
     "text": [
      "\n",
      " accuracy of UAP attack with max iters=10: 0.1003\n"
     ]
    },
    {
     "name": "stderr",
     "output_type": "stream",
     "text": [
      "\n"
     ]
    }
   ],
   "source": [
    "attack = UAPAttack(adv_model, max_iters=max_iters, data_loader=testloader)\n",
    "\n",
    "attack.generate_uap()\n",
    "\n",
    "UAP_attack(adv_model, testloader, attack)"
   ]
  },
  {
   "cell_type": "markdown",
   "metadata": {
    "id": "itN1U1xr8pbs"
   },
   "source": [
    "Answer the following questions:\n",
    "\n",
    "- What happened to the accuracy of the adversarially trained model?\n",
    "\n",
    "Answer: The aacuracy of adversarially trained model decreased on original test set compared to the model trained on the original training set.\n",
    "\n",
    "- What do you conclude from the result of the FGSM attack on the adversarially trained model?\n",
    "\n",
    "Answer: adversarially trained model is robust against adversarial examples created by the original model.\n",
    "\n",
    "- What do you conclude from the result of the PGD attack on the adversarially trained model?\n",
    "\n",
    "Answer: the adversarially trained model is also robust against adversarial examples of PGD attack.\n",
    "\n",
    "- What do you conclude from the result of the UAP attack on the adversarially trained model?\n",
    "\n",
    "Answer: test accuracy under UAP noise created by original model doesn't decrease a lot. However, the adversarially trained model isn't robust against UAP attack when UAP is created by adversarial trained model. Therefore, this results in that adversarially trained model isn't robust to UAP attack.\n",
    "\n",
    "- What is you final conclusion?\n",
    "\n",
    "Answer: adversarially trained model on adversarial examples created by FGSM is robust to FGSM and PGD attack except the UAP attack"
   ]
  },
  {
   "cell_type": "markdown",
   "metadata": {},
   "source": []
  }
 ],
 "metadata": {
  "accelerator": "GPU",
  "colab": {
   "gpuType": "T4",
   "provenance": []
  },
  "kaggle": {
   "accelerator": "nvidiaTeslaT4",
   "dataSources": [],
   "dockerImageVersionId": 30787,
   "isGpuEnabled": true,
   "isInternetEnabled": true,
   "language": "python",
   "sourceType": "notebook"
  },
  "kernelspec": {
   "display_name": "Python 3",
   "language": "python",
   "name": "python3"
  },
  "language_info": {
   "codemirror_mode": {
    "name": "ipython",
    "version": 3
   },
   "file_extension": ".py",
   "mimetype": "text/x-python",
   "name": "python",
   "nbconvert_exporter": "python",
   "pygments_lexer": "ipython3",
   "version": "3.10.14"
  }
 },
 "nbformat": 4,
 "nbformat_minor": 4
}
