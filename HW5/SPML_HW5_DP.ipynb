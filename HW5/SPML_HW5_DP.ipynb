{
  "cells": [
    {
      "cell_type": "markdown",
      "metadata": {
        "id": "U5BpLnH_kZV-"
      },
      "source": [
        "<div style=\"text-align: center; font-family: 'Arial', sans-serif;\">\n",
        "    <h1 style=\"color: #2c3e50;\">Security and Privacy in Machine Learning</h1>\n",
        "    <h3 style=\"color: #34495e;\">Course Code: 40816</h3>\n",
        "    <h3 style=\"color: #7f8c8d;\">Instructor: Dr. Amir Mahdi Sadeghzadeh</h3>\n",
        "    <h3 style=\"color: #95a5a6;\">Sharif University of Technology, Iran</h3>\n",
        "    <h3 style=\"color: #bdc3c7;\">CE Department, Fall 2024</h3>\n",
        "    <h3 style=\"color: #d35400;\">Computer Assignment 5</h3>\n",
        "    <h4 style=\"color: #e67e22;\">Topic: Differential Privacy</h4>\n",
        "</div>\n"
      ]
    },
    {
      "cell_type": "markdown",
      "metadata": {
        "id": "DR4yl-m1kZV_"
      },
      "source": [
        "<div style=\"text-align: left; font-family: 'Arial', sans-serif; font-size: 14px;\">\n",
        "    <h2 style=\"color: #3498db;\">Introduction</h2>\n",
        "    <p>This notebook contains the implementation for Computer Assignment 5 on Differential Privacy. Follow the instructions carefully and ensure your code adheres to the provided guidelines.</p>\n",
        "</div>\n"
      ]
    },
    {
      "cell_type": "markdown",
      "metadata": {
        "id": "tKoxuY31kZV_"
      },
      "source": [
        "<div style=\"text-align: left; font-family: 'Arial', sans-serif; font-size: 14px;\">\n",
        "    <h2 style=\"color: #9b59b6;\">Personal Data</h2>\n",
        "    <p>Please enter your student number, first name, and last name in the following cell.</p>\n",
        "</div>"
      ]
    },
    {
      "cell_type": "code",
      "execution_count": 1,
      "metadata": {
        "id": "aMOBK6GJkZWA"
      },
      "outputs": [],
      "source": [
        "# Enter your personal details below\n",
        "student_number = \"99109252\"  # Replace with your student number\n",
        "first_name = \"AmirHossein\"      # Replace with your first name\n",
        "last_name = \"Haji Mohammad Rezaei\"       # Replace with your last name"
      ]
    },
    {
      "cell_type": "markdown",
      "metadata": {
        "id": "5v0-CFwtkZWA"
      },
      "source": [
        "<div style=\"text-align: font-family: 'Arial', sans-serif;\">\n",
        "    <h1 style=\"color: #2c3e50;\">Part 0: Introduction to Differential Privacy</h1>\n",
        "</div>"
      ]
    },
    {
      "cell_type": "markdown",
      "metadata": {
        "id": "aQZKs7J6kZWA"
      },
      "source": [
        "<div style=\"text-align: font-family: 'Arial', sans-serif;\">\n",
        "    <h2 style=\"color: #34495e;\">Question 0: Differential Privacy Definitions (5 Points)</h2>\n",
        "</div>"
      ]
    },
    {
      "cell_type": "markdown",
      "metadata": {
        "id": "9lmeTz1lkZWA"
      },
      "source": [
        "Provide a brief summary of Differential Privacy principles. Define $\\epsilon$-differential privacy and explain its significance in protecting individual data privacy.\n",
        "\n",
        "`My answer`:\n",
        "<p dir='rtl'>\n",
        "محرمانگی تفاضلی تعهد ریاضی از طوی نگه‌دارنده داده مانند یک پایگاه داده می‌باشد که به افراد قول می‌دهد زمانی که از دادگان در یک آموزش و یا مطالعه استفاده بشود، با استفاده از هرگونه داده اضافی دیگر، نمیتوان اطلاعاتی در مورد تنها یک نمونه خاص از مجموعه داده بدست آورد. به همین صورت، معادل این رفتار این است که رفتار خروجی پایگاه داده‌هایی که اختلاف جزئی دارند، محدود است. اگر یک الگوریتم تصادفی را بر دو مجموعه داده X و Y که حداگثر در یک عنصر اختلاف دارند در نظر بگیریم، احتمال خروجی آنها نسبت به پیشامد S برابر است با:\n",
        "</p>\n",
        "\n",
        "$$P(M(X) \\in S) \\le e^{\\epsilon}P(M(Y) \\in S) + \\delta$$\n",
        "\n",
        "<p dir='rtl'>\n",
        "در این حالت الگوریتم تصادفی M محرمانگی تفاضلی دارد. \n",
        "</p>\n"
      ]
    },
    {
      "cell_type": "markdown",
      "metadata": {
        "id": "W3Wze4oakZWA"
      },
      "source": [
        "<div style=\"text-align: font-family: 'Arial', sans-serif;\">\n",
        "    <h1 style=\"color: #2c3e50;\">Part 1: Mechanisms for Differential Privacy</h1>"
      ]
    },
    {
      "cell_type": "code",
      "execution_count": 2,
      "metadata": {
        "id": "wJcwY1OBkZWA"
      },
      "outputs": [],
      "source": [
        "import numpy as np\n",
        "import pandas as pd\n",
        "import matplotlib.pyplot as plt\n",
        "from sklearn.datasets import fetch_openml # need sklearn >= 0.22\n",
        "import scipy as sp\n",
        "from sklearn.model_selection import train_test_split, KFold\n",
        "from sklearn.preprocessing import Normalizer, StandardScaler\n",
        "from sklearn.linear_model import LogisticRegression\n",
        "from sklearn.model_selection import ParameterGrid\n",
        "from sklearn.svm import SVC\n",
        "from sklearn.metrics import log_loss\n",
        "from sklearn.preprocessing import LabelBinarizer"
      ]
    },
    {
      "cell_type": "markdown",
      "metadata": {
        "id": "aExHteK2kZWB"
      },
      "source": [
        "Below we provide a helper function to draw bar plots from pandas Series."
      ]
    },
    {
      "cell_type": "code",
      "execution_count": 3,
      "metadata": {
        "id": "JsL17Ez2kZWB"
      },
      "outputs": [],
      "source": [
        "def bar_plot_pandas(series1, series2=None, label1=\"Series 1\", label2=\"Series 2\", title=\"\"):\n",
        "    '''\n",
        "    Draws a bar plot of one Pandas Series, or two pandas Series with the same index\n",
        "\n",
        "    Parameters\n",
        "    ----------\n",
        "    series1 : Series of float\n",
        "        First input\n",
        "    series2 : Series of float, optional\n",
        "        Second input (with same index)\n",
        "    label1 : string, optional\n",
        "        Label for the first series\n",
        "    label2 : string, optional\n",
        "        Label for the second series\n",
        "    title : string, optional\n",
        "        Plot title\n",
        "    '''\n",
        "    if series2 is None:\n",
        "        series1.plot.bar()\n",
        "        plt.xlabel(\"Index\")\n",
        "        plt.ylabel(\"Values\")\n",
        "        plt.title(title if title else \"Bar Plot\")\n",
        "        plt.legend([label1])\n",
        "        plt.show()\n",
        "    else:\n",
        "        concat_series = pd.DataFrame({label1: series1, label2: series2}).reset_index()\n",
        "        concat_series.plot.bar(x=\"index\", y=[label1, label2], xlabel=\"\", title=title)\n",
        "        plt.xlabel(\"Index\")\n",
        "        plt.ylabel(\"Values\")\n",
        "        plt.title(title if title else \"Comparison Bar Plot\")\n",
        "        plt.legend([label1, label2])\n",
        "        plt.show()"
      ]
    },
    {
      "cell_type": "markdown",
      "metadata": {
        "id": "OEP2-vbVkZWB"
      },
      "source": [
        "<div style=\"text-align: font-family: 'Arial', sans-serif;\">\n",
        "    <h2 style=\"color: #2c3e50;\">Dataset</h2>\n",
        "</div>"
      ]
    },
    {
      "cell_type": "markdown",
      "metadata": {
        "id": "fkE-_LxzkZWB"
      },
      "source": [
        "We will be working with a dataset from the US Census (also known as the Adult dataset). You can read about the dataset [here](https://archive.ics.uci.edu/ml/datasets/census+income).\n",
        "\n",
        "The following line loads the dataset from [OpenML](https://www.openml.org/) with the `fetch_openml` method of `sklearn`. The option `as_frame=True` (**requires sklearn version >= 0.22**) loads the dataset in `pandas DataFrame` format: this keeps the attributes in their original form and will be more convenient to work with. If you prefer working with a numpy array (not recommended), set `as_frame=False`."
      ]
    },
    {
      "cell_type": "code",
      "execution_count": 4,
      "metadata": {
        "id": "M98HOfJfkZWB"
      },
      "outputs": [],
      "source": [
        "# Fetching the Adult dataset from OpenML\n",
        "dataset_handle = fetch_openml(name='adult', version=2, as_frame=True)\n",
        "dataset = dataset_handle.frame"
      ]
    },
    {
      "cell_type": "markdown",
      "metadata": {
        "id": "wZz3w7dbkZWB"
      },
      "source": [
        "Take a look at the dataset, in particular the number of rows (individuals), the number of columns (attributes) and what they represent."
      ]
    },
    {
      "cell_type": "code",
      "execution_count": 5,
      "metadata": {
        "colab": {
          "base_uri": "https://localhost:8080/"
        },
        "id": "Ze55_omvkZWB",
        "outputId": "145637df-089f-4fb7-eef6-309356dea194"
      },
      "outputs": [
        {
          "name": "stdout",
          "output_type": "stream",
          "text": [
            "Dataset contains 48842 rows (individuals) and 15 columns (attributes).\n",
            "\n",
            "Preview of the dataset:\n",
            "    age  workclass    fnlwgt     education  education-num      marital-status  \\\n",
            "0  25.0    Private  226802.0          11th            7.0       Never-married   \n",
            "1  38.0    Private   89814.0       HS-grad            9.0  Married-civ-spouse   \n",
            "2  28.0  Local-gov  336951.0    Assoc-acdm           12.0  Married-civ-spouse   \n",
            "3  44.0    Private  160323.0  Some-college           10.0  Married-civ-spouse   \n",
            "\n",
            "          occupation relationship   race   sex  capital-gain  capital-loss  \\\n",
            "0  Machine-op-inspct    Own-child  Black  Male           0.0           0.0   \n",
            "1    Farming-fishing      Husband  White  Male           0.0           0.0   \n",
            "2    Protective-serv      Husband  White  Male           0.0           0.0   \n",
            "3  Machine-op-inspct      Husband  Black  Male        7688.0           0.0   \n",
            "\n",
            "   hours-per-week native-country  class  \n",
            "0            40.0  United-States  <=50K  \n",
            "1            50.0  United-States  <=50K  \n",
            "2            40.0  United-States   >50K  \n",
            "3            40.0  United-States   >50K  \n"
          ]
        }
      ],
      "source": [
        "# Exploring the dataset\n",
        "n, d = dataset.shape  # Number of rows and columns\n",
        "print(f\"Dataset contains {n} rows (individuals) and {d} columns (attributes).\")\n",
        "print(\"\\nPreview of the dataset:\")\n",
        "print(dataset.head(4))"
      ]
    },
    {
      "cell_type": "markdown",
      "metadata": {
        "id": "F4WpcNndkZWB"
      },
      "source": [
        "<div style=\"text-align: font-family: 'Arial', sans-serif;\">\n",
        "    <h2 style=\"color: #2c3e50;\">Question 1 (non-private queries) (7 Points)</h2>\n",
        "</div>"
      ]
    },
    {
      "cell_type": "markdown",
      "metadata": {
        "id": "N4MPQ2dVkZWC"
      },
      "source": [
        "Implement a function for each of these types of queries (without privacy) and test them on the dataset:\n",
        "- **Simple count queries**: it takes as input a dataset (`DataFrame`), a categorical attribute (e.g., `\"sex\"`) and a value (e.g., `\"Male\"`), and returns how many rows in the dataset have the prescribed attribute value.\n",
        "- **Averaging queries**: it takes as input a dataset and a numeric attribute (e.g., `\"age\"`), and returns the average value of this attribute in the dataset.\n",
        "- **Histogram queries**: it takes as input a dataset and a categorical attribute (e.g., `\"sex\"`), and returns the histogram of counts for this attribute in the dataset (i.e., for each possible value of the attribute, how many rows have this value).\n",
        "\n",
        "Reminder: for a DataFrame `df`, we can access the column corresponding to an attribute `attr` by `df[attr]`. The method `value_counts()` allows to build a histogram of a column. To plot a pandas Series `s` as a histogram, you can use `s.plot.bar()`.\n",
        "\n",
        "Note: You can use the function `bar_plot_pandas` provided in the preamble to draw a bar plot of a pandas Series, which is useful to show histograms."
      ]
    },
    {
      "cell_type": "code",
      "execution_count": 6,
      "metadata": {
        "id": "f1JQAJ4ukZWC"
      },
      "outputs": [],
      "source": [
        "def count_query(df, attribute, value):\n",
        "    '''\n",
        "    Parameters\n",
        "    ----------\n",
        "    df : DataFrame\n",
        "        Dataset\n",
        "    attribute : string\n",
        "        Name of an attribute with categorical values\n",
        "    value : string or int\n",
        "        Value of attribute to count\n",
        "\n",
        "    Returns\n",
        "    -------\n",
        "    count : int\n",
        "        The number of records with `attribute=value` in dataset `df`\n",
        "    '''\n",
        "\n",
        "    # TO COMPLETE\n",
        "    return df[attribute].value_counts()[value]"
      ]
    },
    {
      "cell_type": "code",
      "execution_count": 7,
      "metadata": {
        "id": "AWjqqDemkZWC"
      },
      "outputs": [],
      "source": [
        "def average_query(df, attribute):\n",
        "    '''\n",
        "    Parameters\n",
        "    ----------\n",
        "    df : DataFrame\n",
        "        Dataset\n",
        "    attribute : string\n",
        "        Name of an attribute with numeric values\n",
        "\n",
        "    Returns\n",
        "    -------\n",
        "    average : float\n",
        "        The average value of `attribute` in dataset `df`\n",
        "    '''\n",
        "\n",
        "    return df[attribute].mean()"
      ]
    },
    {
      "cell_type": "code",
      "execution_count": 8,
      "metadata": {
        "id": "ZJ_F92HskZWC"
      },
      "outputs": [],
      "source": [
        "def histogram_query(df, attribute):\n",
        "    '''\n",
        "    Parameters\n",
        "    ----------\n",
        "    df : DataFrame\n",
        "        Dataset\n",
        "    attribute : string\n",
        "        Name of an attribute with categorical values\n",
        "\n",
        "    Returns\n",
        "    -------\n",
        "    histogram : array or Series of int\n",
        "        The histogram of `attribute`, i.e., the number of times each value of `attribute` appears in `df`\n",
        "    '''\n",
        "    return df[attribute].value_counts()"
      ]
    },
    {
      "cell_type": "markdown",
      "metadata": {
        "id": "29xbQe2BkZWC"
      },
      "source": [
        "<div style=\"text-align: font-family: 'Arial', sans-serif;\">\n",
        "    <h2 style=\"color: #2c3e50;\">Question 2 (Laplace mechanism) (10 Points)</h2>\n",
        "</div>"
      ]
    },
    {
      "cell_type": "markdown",
      "metadata": {
        "id": "kdvEDCHkkZWC"
      },
      "source": [
        "Implement the Laplace mechanism, i.e., a function which takes as input a (non-private) query output, the query's $\\ell_1$ sensitivity, the desired value of $\\epsilon$ and a random seed (for reproducibility), and returns a $\\epsilon$-differentially private estimate of the query. To draw Laplace noise, check `np.random.laplace`. The function should work with queries that output a scalar (like simple count and averaging queries), as well as those that output a vector (like histogram queries)."
      ]
    },
    {
      "cell_type": "code",
      "execution_count": 9,
      "metadata": {
        "id": "oXJQbqM6kZWC"
      },
      "outputs": [],
      "source": [
        "def laplace_mechanism(q, s1, eps, random_state=None):\n",
        "    '''\n",
        "    Parameters\n",
        "    ----------\n",
        "    q : float or array/Series of float\n",
        "        The non-private output of the query\n",
        "    s1 : float\n",
        "        The L1 sensitivity of the query\n",
        "    eps : float\n",
        "        Parameter epsilon of differential privacy\n",
        "    random_state : int, optional (default=None)\n",
        "        Random seed\n",
        "\n",
        "    Returns\n",
        "    -------\n",
        "    private_q : float or array/Series of float\n",
        "        An eps-DP evaluation of the query\n",
        "    '''\n",
        "\n",
        "    rng = np.random.RandomState(random_state)\n",
        "\n",
        "    # TO COMPLETE\n",
        "\n",
        "    scale = s1 / eps\n",
        "    if hasattr(q, 'shape'): # query output is multi-dimensional\n",
        "        noise = np.random.laplace(scale=scale, size=q.shape)\n",
        "        return np.ceil(q + noise)\n",
        "    else: # query output is a scalar\n",
        "        noise = np.random.laplace(scale=scale)\n",
        "        return q + noise"
      ]
    },
    {
      "cell_type": "markdown",
      "metadata": {
        "id": "oJyrOTtakZWC"
      },
      "source": [
        "<div style=\"text-align: font-family: 'Arial', sans-serif;\">\n",
        "    <h2 style=\"color: #2c3e50;\">Question 3 (Laplace mechanism on count queries) (8 Points)</h2>\n",
        "</div>"
      ]
    },
    {
      "cell_type": "markdown",
      "metadata": {
        "id": "2EBDFbkIkZWC"
      },
      "source": [
        "We would like to use the Laplace mechanism to:\n",
        "- privately count the number of males in the dataset\n",
        "- generate a private histogram of the `\"workclass\"` attribute\n",
        "\n",
        "What is the sensitivity of the query in each case? `Answer`: sensitivity of both of them is 1.\n",
        "\n",
        "Run the Laplace mechanism with different values of $\\epsilon$ and compute the $\\ell_1$-error with respect to the true (non-private) output to see the effect on the utility and compare with the formal error bound seen in the lecture. Recall that the mechanism is random, so unless you fix the seed you will get a different result at each execution. Visually compare the private and non-private histograms using the function `bar_plot_pandas` provided at the beginning of the notebook.\n",
        "\n",
        "Note: you may round the outputs of the private mechanism to make them integers if you like. This can be considered as post-processing and thus preserves DP (see Bonus Question 5 to go further on this aspect).\n",
        "\n",
        "`Answer`:\n",
        "<p dir='rtl'>\n",
        "برای مقایسه ظاهری بین مقادیر خروجی محرمانه و غیرمحرمانه، تفاوت خاصی وجود ندارد و ترتیب مقایر مختلف حفظ خواهد شد. با استفاده از متریک l1 میتوان متوجه شد که برای بودجه محرمانگی پایین، چون نیاز به استفاده از نویز با مقادیر بزرگتر است، مقدار خطا l1 بیشتر خواهد شد. درنتیجه، داده خروجی تغییرات بیشتری به داده اصلی خواهد داشت.\n",
        "</p>"
      ]
    },
    {
      "cell_type": "code",
      "execution_count": 13,
      "metadata": {
        "id": "3XEp9PTikZWD"
      },
      "outputs": [],
      "source": [
        "def l1_error(a, b):\n",
        "    '''\n",
        "    Parameters\n",
        "    ----------\n",
        "    a : float or array/Series of float\n",
        "        First input\n",
        "    b : float or array/Series of float\n",
        "        Second input\n",
        "\n",
        "    Returns\n",
        "    -------\n",
        "    l1_error : float\n",
        "        The L1 distance between `a` and `b`: ||a-b||_1\n",
        "    '''\n",
        "\n",
        "    if hasattr(a, 'shape'):\n",
        "      return np.sum(np.abs(a.to_numpy() - b.to_numpy()))\n",
        "    else:\n",
        "      return abs(a-b)\n",
        "\n",
        "# list of (query,sensitivity) tuples to loop over\n",
        "queries = [\n",
        "    (count_query(dataset, 'sex', 'Male'), 1),\n",
        "    (histogram_query(dataset, 'workclass'), 1)\n",
        "]"
      ]
    },
    {
      "cell_type": "code",
      "execution_count": 14,
      "metadata": {
        "colab": {
          "base_uri": "https://localhost:8080/"
        },
        "id": "XUUtaaZIsS9G",
        "outputId": "00ce1976-b8cd-4448-ffec-c58fd7990aff"
      },
      "outputs": [
        {
          "name": "stdout",
          "output_type": "stream",
          "text": [
            "non-private value 32650\n",
            "private value 32650.0 with ε = 1.0\n",
            "private value 32660.0 with ε = 0.1\n"
          ]
        }
      ],
      "source": [
        "q, s = queries[0]\n",
        "\n",
        "print(f'non-private value {q}')\n",
        "\n",
        "for eps in [1., .1]:\n",
        "  print(f'private value {laplace_mechanism(q, s, eps)} with ε = {eps}')"
      ]
    },
    {
      "cell_type": "code",
      "execution_count": 15,
      "metadata": {
        "colab": {
          "base_uri": "https://localhost:8080/",
          "height": 1000
        },
        "id": "rTyJMuhptOln",
        "outputId": "817e1f8b-011c-4068-9cc3-972352a48899"
      },
      "outputs": [
        {
          "data": {
            "image/png": "[encoded data removed]",
            "text/plain": [
              "<Figure size 432x288 with 1 Axes>"
            ]
          },
          "metadata": {
            "needs_background": "light"
          },
          "output_type": "display_data"
        },
        {
          "data": {
            "image/png": "[encoded data removed]",
            "text/plain": [
              "<Figure size 432x288 with 1 Axes>"
            ]
          },
          "metadata": {
            "needs_background": "light"
          },
          "output_type": "display_data"
        },
        {
          "data": {
            "image/png": "[encoded data removed]",
            "text/plain": [
              "<Figure size 432x288 with 1 Axes>"
            ]
          },
          "metadata": {
            "needs_background": "light"
          },
          "output_type": "display_data"
        }
      ],
      "source": [
        "q, s = queries[1]\n",
        "\n",
        "bar_plot_pandas(q, title='private values')\n",
        "\n",
        "for eps in [1., .1]:\n",
        "  q2 = laplace_mechanism(q, s, eps)\n",
        "  bar_plot_pandas(q2, title=f'private values with ε={eps} and l1_error = {l1_error(q2, q)}')"
      ]
    },
    {
      "cell_type": "markdown",
      "metadata": {
        "id": "tjBlQw-tkZWD"
      },
      "source": [
        "<div style=\"text-align: font-family: 'Arial', sans-serif;\">\n",
        "    <h2 style=\"color: #2c3e50;\">Question 4 (Gaussian mechanism and comparison with Laplace) (12 Points)</h2>\n",
        "</div>"
      ]
    },
    {
      "cell_type": "markdown",
      "metadata": {
        "id": "i7NYq3mZkZWD"
      },
      "source": [
        "Implement the Gaussian mechanism (to draw Gaussian noise, check `np.random.normal`). Make an experimental comparison with the Laplace mechanism by plotting the privacy-utility trade-off for a 1D query of your choice. For the Gaussian mechanism, study the influence of $\\delta$.\n",
        "\n",
        "‍‍`Answer`:\n",
        "<p dir='rtl'>\n",
        "اثر مقدار delta همانطور که در نمودار مشاهده می‌کنید جزئی می‌باشد و نسبت به پارامتر epsilon باعث ایجاد تغییرات کمتری در مقدار خروجی خواهد شد.\n",
        "</p>"
      ]
    },
    {
      "cell_type": "code",
      "execution_count": 16,
      "metadata": {
        "id": "UxnSPxCzkZWD"
      },
      "outputs": [],
      "source": [
        "def gaussian_mechanism(q, s2, eps, delta, random_state=None):\n",
        "    '''\n",
        "    Parameters\n",
        "    ----------\n",
        "    q : float or array/Series of float\n",
        "        The non-private output of the query\n",
        "    s2 : float\n",
        "        The L2 sensitivity of the query\n",
        "    eps : float\n",
        "        Parameter epsilon of differential privacy\n",
        "    delta : float\n",
        "        Parameter delta of differential privacy\n",
        "    random_state : int, optional (default=None)\n",
        "        Random seed\n",
        "\n",
        "    Returns\n",
        "    -------\n",
        "    private_q : float or array/Series of float\n",
        "        An (eps,delta)-DP evaluation of the query\n",
        "    '''\n",
        "\n",
        "    rng = np.random.RandomState(random_state)\n",
        "\n",
        "    # TO COMPLETE\n",
        "    c = 1 + 2 * np.log(1.25 / delta)\n",
        "    sigma = c * s2 / eps\n",
        "    if hasattr(q, 'shape'): # query output is multi-dimensional\n",
        "        noise = np.random.normal(scale=sigma, size=q.shape)\n",
        "        return np.ceil(q + noise)\n",
        "    else: # query output is a scalar\n",
        "        noise = np.random.laplace(scale=sigma)\n",
        "        return q + noise"
      ]
    },
    {
      "cell_type": "code",
      "execution_count": 17,
      "metadata": {
        "colab": {
          "base_uri": "https://localhost:8080/",
          "height": 466
        },
        "id": "uzXo6UKJkZWD",
        "outputId": "78b9130c-3452-4fc8-aef0-c2f447f25d9c"
      },
      "outputs": [
        {
          "data": {
            "text/plain": [
              "<matplotlib.legend.Legend at 0x15ff07640>"
            ]
          },
          "execution_count": 17,
          "metadata": {},
          "output_type": "execute_result"
        },
        {
          "data": {
            "image/png": "[encoded data removed]",
            "text/plain": [
              "<Figure size 432x288 with 1 Axes>"
            ]
          },
          "metadata": {
            "needs_background": "light"
          },
          "output_type": "display_data"
        }
      ],
      "source": [
        "q = histogram_query(dataset, 'sex')\n",
        "s = 1\n",
        "\n",
        "eps_list = np.linspace(0.01, 10.0, num=20)\n",
        "delta1 = 1. / n**2\n",
        "delta2 = 1. / n**4\n",
        "n_runs = 50\n",
        "\n",
        "error = np.zeros((len(eps_list), 3, n_runs))\n",
        "\n",
        "for i, eps in enumerate(eps_list):\n",
        "    for r in range(n_runs):\n",
        "        error[i, 0, r] = l1_error(q, laplace_mechanism(q, s, eps))\n",
        "        error[i, 1, r] = l1_error(q, gaussian_mechanism(q, s, eps, delta1))\n",
        "        error[i, 2, r] = l1_error(q, gaussian_mechanism(q, s, eps, delta2))\n",
        "        pass\n",
        "\n",
        "fig = plt.figure()\n",
        "ax = fig.add_subplot(1, 1, 1)\n",
        "ax.errorbar(eps_list, error[:, 0, :].mean(axis=1), error[:, 0, :].std(axis=1), label='Laplace mechanism')\n",
        "ax.errorbar(eps_list, error[:, 1, :].mean(axis=1), error[:, 1, :].std(axis=1),\n",
        "            label='Gaussian mechanism ($\\delta$=' + \"{:.2e}\".format(delta1) + ')')\n",
        "ax.errorbar(eps_list, error[:, 2, :].mean(axis=1), error[:, 2, :].std(axis=1),\n",
        "            label='Gaussian mechanism ($\\delta$=' + \"{:.2e}\".format(delta2) + ')')\n",
        "plt.xlabel(\"$\\epsilon$\")\n",
        "plt.ylabel(\"$\\ell_1$ error\")\n",
        "ax.set_yscale('log')\n",
        "ax.legend()"
      ]
    },
    {
      "cell_type": "markdown",
      "metadata": {
        "id": "KLoSS13gkZWD"
      },
      "source": [
        "<div style=\"text-align: font-family: 'Arial', sans-serif;\">\n",
        "    <h1 style=\"color: #2c3e50;\">Part 3: Applications of Differential Privacy</h1>\n",
        "</div>"
      ]
    },
    {
      "cell_type": "markdown",
      "metadata": {
        "id": "5vI0Nl9lkZWD"
      },
      "source": [
        "<div style=\"text-align: font-family: 'Arial', sans-serif;\">\n",
        "    <h2 style=\"color: #2c3e50;\">Question 5 (contingency tables and the \"paradox\" of parallel composition) (8 Points)</h2>\n",
        "</div>"
      ]
    },
    {
      "cell_type": "markdown",
      "metadata": {
        "id": "l3MfYj_SkZWE"
      },
      "source": [
        "We can go beyond histograms and build contingency tables across two (or even more) variables. Implement a function for such queries using `crosstab` from pandas, and use the Laplace mechanism to privately find out how people in the dataset break down according to the combination of `'gender'` and `'marital-status'`. You may need to adapt your implementation of Laplace to work with k-way tables (e.g., by using the method `applymap` together with a function that adds 1D Laplace noise).\n",
        "\n",
        "Pushing this reasoning further, it may seem that there is a paradox because parallel composition gets us more information \"for free\" (e.g., we can build a k-way table over a large number of attributes that could ultimately reveal very precise information about individuals in the dataset, without increasing the privacy loss). This contradicts the principle that asking more things should cost something. Explain why there is in fact no paradox and what is the cost that one pays in this case (if needed, you can see what happens when privately releasing contingency tables across many columns).\n",
        "\n",
        "`Answer`:\n",
        "<p dir='rtl'>\n",
        "نکته‌ای که در مورد این پارادوکس وجود دارد این است که با ایجاد جدول‌های چند‌متغیره، اضافه کردن نویز به آن باعث می‌شود که مفید بودن و دقت داده‌ها کاهش پیدا کند. به‌عبارتی، اگر جدول چند‌متغیره با تعداد زیادی متغیر ایجاد کنیم،‌جدولی sparse خواهیم داشت. در این حالت، با اینکه بودجه محرمانگی برحسب تعداد متغیر‌های استفاده‌شده، بین آنها تقسیم می‌شود، و در این حالت اضافه کردن نویز کم هم نیز همچنان باعث کاهش دقت داده‌ها خواهد شد.\n",
        "</p>"
      ]
    },
    {
      "cell_type": "code",
      "execution_count": 10,
      "metadata": {
        "id": "IO7zEfYYkZWE"
      },
      "outputs": [],
      "source": [
        "def table_query(df, row_attr_list, col_attr_list):\n",
        "    '''\n",
        "    Parameters\n",
        "    ----------\n",
        "    df : DataFrame\n",
        "        Dataset\n",
        "    row_attr_list : list\n",
        "        List of attributes\n",
        "    col_attr_list : list\n",
        "        List of attributes\n",
        "\n",
        "    Returns\n",
        "    -------\n",
        "    cross_table : DataFrame\n",
        "        Cross tabulation (contingency table) of `df` according to `row_attr_list` and `col_attr_list`\n",
        "    '''\n",
        "\n",
        "    cross_table = pd.crosstab(\n",
        "        index=[df[attr] for attr in row_attr_list],\n",
        "        columns=[df[attr] for attr in col_attr_list]\n",
        "    )\n",
        "\n",
        "    return cross_table"
      ]
    },
    {
      "cell_type": "code",
      "execution_count": 11,
      "metadata": {
        "id": "cqhMkkBRB2Q_"
      },
      "outputs": [],
      "source": [
        "cross_table = table_query(dataset, ['sex'], ['marital-status'])"
      ]
    },
    {
      "cell_type": "code",
      "execution_count": 12,
      "metadata": {
        "id": "-8ikU2IxCPRh"
      },
      "outputs": [],
      "source": [
        "noisy_table = cross_table.applymap(lambda x: laplace_mechanism(x, 1, 1)).apply(np.floor)"
      ]
    },
    {
      "cell_type": "code",
      "execution_count": 13,
      "metadata": {
        "colab": {
          "base_uri": "https://localhost:8080/",
          "height": 143
        },
        "id": "q4eW0mrhDGas",
        "outputId": "7370806d-bc05-4ddf-ef52-d03653994e51"
      },
      "outputs": [
        {
          "data": {
            "text/html": [
              "<div>\n",
              "<style scoped>\n",
              "    .dataframe tbody tr th:only-of-type {\n",
              "        vertical-align: middle;\n",
              "    }\n",
              "\n",
              "    .dataframe tbody tr th {\n",
              "        vertical-align: top;\n",
              "    }\n",
              "\n",
              "    .dataframe thead th {\n",
              "        text-align: right;\n",
              "    }\n",
              "</style>\n",
              "<table border=\"1\" class=\"dataframe\">\n",
              "  <thead>\n",
              "    <tr style=\"text-align: right;\">\n",
              "      <th>marital-status</th>\n",
              "      <th>Married-civ-spouse</th>\n",
              "      <th>Divorced</th>\n",
              "      <th>Never-married</th>\n",
              "      <th>Separated</th>\n",
              "      <th>Widowed</th>\n",
              "      <th>Married-spouse-absent</th>\n",
              "      <th>Married-AF-spouse</th>\n",
              "    </tr>\n",
              "    <tr>\n",
              "      <th>sex</th>\n",
              "      <th></th>\n",
              "      <th></th>\n",
              "      <th></th>\n",
              "      <th></th>\n",
              "      <th></th>\n",
              "      <th></th>\n",
              "      <th></th>\n",
              "    </tr>\n",
              "  </thead>\n",
              "  <tbody>\n",
              "    <tr>\n",
              "      <th>Female</th>\n",
              "      <td>2480</td>\n",
              "      <td>4001</td>\n",
              "      <td>7218</td>\n",
              "      <td>931</td>\n",
              "      <td>1233</td>\n",
              "      <td>304</td>\n",
              "      <td>25</td>\n",
              "    </tr>\n",
              "    <tr>\n",
              "      <th>Male</th>\n",
              "      <td>19899</td>\n",
              "      <td>2632</td>\n",
              "      <td>8899</td>\n",
              "      <td>599</td>\n",
              "      <td>285</td>\n",
              "      <td>324</td>\n",
              "      <td>12</td>\n",
              "    </tr>\n",
              "  </tbody>\n",
              "</table>\n",
              "</div>"
            ],
            "text/plain": [
              "marital-status  Married-civ-spouse  Divorced  Never-married  Separated  \\\n",
              "sex                                                                      \n",
              "Female                        2480      4001           7218        931   \n",
              "Male                         19899      2632           8899        599   \n",
              "\n",
              "marital-status  Widowed  Married-spouse-absent  Married-AF-spouse  \n",
              "sex                                                                \n",
              "Female             1233                    304                 25  \n",
              "Male                285                    324                 12  "
            ]
          },
          "execution_count": 13,
          "metadata": {},
          "output_type": "execute_result"
        }
      ],
      "source": [
        "cross_table"
      ]
    },
    {
      "cell_type": "code",
      "execution_count": 14,
      "metadata": {
        "colab": {
          "base_uri": "https://localhost:8080/",
          "height": 143
        },
        "id": "0m-iLEvHCdvK",
        "outputId": "0b76cc8f-cf5d-4d6a-d585-f7825c835f1f"
      },
      "outputs": [
        {
          "data": {
            "text/html": [
              "<div>\n",
              "<style scoped>\n",
              "    .dataframe tbody tr th:only-of-type {\n",
              "        vertical-align: middle;\n",
              "    }\n",
              "\n",
              "    .dataframe tbody tr th {\n",
              "        vertical-align: top;\n",
              "    }\n",
              "\n",
              "    .dataframe thead th {\n",
              "        text-align: right;\n",
              "    }\n",
              "</style>\n",
              "<table border=\"1\" class=\"dataframe\">\n",
              "  <thead>\n",
              "    <tr style=\"text-align: right;\">\n",
              "      <th>marital-status</th>\n",
              "      <th>Married-civ-spouse</th>\n",
              "      <th>Divorced</th>\n",
              "      <th>Never-married</th>\n",
              "      <th>Separated</th>\n",
              "      <th>Widowed</th>\n",
              "      <th>Married-spouse-absent</th>\n",
              "      <th>Married-AF-spouse</th>\n",
              "    </tr>\n",
              "    <tr>\n",
              "      <th>sex</th>\n",
              "      <th></th>\n",
              "      <th></th>\n",
              "      <th></th>\n",
              "      <th></th>\n",
              "      <th></th>\n",
              "      <th></th>\n",
              "      <th></th>\n",
              "    </tr>\n",
              "  </thead>\n",
              "  <tbody>\n",
              "    <tr>\n",
              "      <th>Female</th>\n",
              "      <td>2479.0</td>\n",
              "      <td>3999.0</td>\n",
              "      <td>7219.0</td>\n",
              "      <td>931.0</td>\n",
              "      <td>1232.0</td>\n",
              "      <td>302.0</td>\n",
              "      <td>25.0</td>\n",
              "    </tr>\n",
              "    <tr>\n",
              "      <th>Male</th>\n",
              "      <td>19900.0</td>\n",
              "      <td>2632.0</td>\n",
              "      <td>8901.0</td>\n",
              "      <td>598.0</td>\n",
              "      <td>283.0</td>\n",
              "      <td>324.0</td>\n",
              "      <td>14.0</td>\n",
              "    </tr>\n",
              "  </tbody>\n",
              "</table>\n",
              "</div>"
            ],
            "text/plain": [
              "marital-status  Married-civ-spouse  Divorced  Never-married  Separated  \\\n",
              "sex                                                                      \n",
              "Female                      2479.0    3999.0         7219.0      931.0   \n",
              "Male                       19900.0    2632.0         8901.0      598.0   \n",
              "\n",
              "marital-status  Widowed  Married-spouse-absent  Married-AF-spouse  \n",
              "sex                                                                \n",
              "Female           1232.0                  302.0               25.0  \n",
              "Male              283.0                  324.0               14.0  "
            ]
          },
          "execution_count": 14,
          "metadata": {},
          "output_type": "execute_result"
        }
      ],
      "source": [
        "noisy_table"
      ]
    },
    {
      "cell_type": "markdown",
      "metadata": {
        "id": "0pv8Vsp2kZWE"
      },
      "source": [
        "<div style=\"text-align: font-family: 'Arial', sans-serif;\">\n",
        "    <h2 style=\"color: #2c3e50;\">Question 6 (Laplace mechanism on average queries) (9 Points)</h2>\n",
        "</div>"
      ]
    },
    {
      "cell_type": "markdown",
      "metadata": {
        "id": "yvu8DV2PkZWE"
      },
      "source": [
        "We would like to use the Laplace mechanism to privately estimate the average age of people in the dataset. We assume that the number of people in the dataset is public.\n",
        "\n",
        "1. Propose and implement simple practical strategies to compute or estimate the sensitivity of this query in the following two scenarios, and discuss the merits and/or drawbacks of your proposals:\n",
        "  - You are the trusted curator: you have access to the raw dataset and would like to release an estimate of the average age of people in the dataset with differential privacy guarantees.\n",
        "  - You are an external data analyst: you do not have access to the raw dataset but only to an API to send queries. You have to convince the trusted curator that the proposed sensitivity is safe.\n",
        "2. Suggest some ideas regarding how we could change a bit the query to get a simple and safe bound on sensitivity, at the expense of possibly introducing some bias in the output. Implement the proposed solution. Hint: the method `clip` from pandas might be useful here.\n",
        "\n",
        "‍‍‍‍`Answer:`\n",
        "<p dir='rtl'>\n",
        "برای تخمین حساسیت، در حالتی که نگه‌دارنده داده مورد اعتماد است، به راحتی میتوان از تقسیم اختلاف بیشترین سن در پایگاه داده و کم سن‌ترین تقسیم بر تعداد دادگان می‌توان حساسیت را بدست آورد که در این حالت باید از داده‌ها استفاده کرد اما خروجی دقیق می‌باشد.\n",
        "\n",
        "در حالت دوم، کاربر خارجی می‌تواند بیشترین سن و کمترین سن را تخمین بزند و همین حساسیت را بدست آورد که در این حالت از داده‌ها استفاده نمی‌شود اما خروجی دقت کافی نسبت به حساسیت اصلی را ندارد. \n",
        "\n",
        "در حالت آخر، میتوانیم با محدود کردن سن افراد در پایگاه داده بر اساس کران بالا و پایین که کاربر خارجی می‌دهد، سن افراد را محدود کرد و سپس همین تخمین را انجام داد که این روش، حالت میانه را دارد اما ممکن است بایاس در خروجی داشته باشیم.\n",
        "</p>"
      ]
    },
    {
      "cell_type": "code",
      "execution_count": 15,
      "metadata": {
        "id": "xGwPxE0bNYGE"
      },
      "outputs": [],
      "source": [
        "# Sensivity for trusted curator\n",
        "def trusted_sensitivity(df):\n",
        "  max_age, min_age = df['age'].max(), df['age'].min()\n",
        "  return (max_age - min_age) / len(df)\n",
        "\n",
        "# Sensivity for external analyst\n",
        "def external_sensitivity(df, est_max_age=100, est_min_age=20):\n",
        "  return (est_max_age - est_min_age) / len(df)\n",
        "\n",
        "# Safe bounded sensivity\n",
        "def safe_bound_sensitivity(df, est_max_age=100, est_min_age=20):\n",
        "  clipped_ages = df['age'].clip(est_max_age, est_min_age)\n",
        "  max_age, min_age = clipped_ages.max(), clipped_ages.min()\n",
        "  return (max_age - min_age) / len(df)"
      ]
    },
    {
      "cell_type": "code",
      "execution_count": 16,
      "metadata": {
        "colab": {
          "base_uri": "https://localhost:8080/"
        },
        "id": "K0rgniM8PgzH",
        "outputId": "a7dcf3ea-5cc5-4fc1-f3c1-2cc2d49e98eb"
      },
      "outputs": [
        {
          "data": {
            "text/plain": [
              "39.0"
            ]
          },
          "execution_count": 16,
          "metadata": {},
          "output_type": "execute_result"
        }
      ],
      "source": [
        "laplace_mechanism(average_query(dataset, 'age'), trusted_sensitivity(dataset), 1.)"
      ]
    },
    {
      "cell_type": "markdown",
      "metadata": {
        "id": "YMDUJyD_kZWE"
      },
      "source": [
        "<div style=\"text-align: font-family: 'Arial', sans-serif;\">\n",
        "    <h2 style=\"color: #2c3e50;\">Question 7 (average over a subset) (6 Points)</h2>\n",
        "</div>"
      ]
    },
    {
      "cell_type": "markdown",
      "metadata": {
        "id": "qM_5VclDkZWE"
      },
      "source": [
        "We would now like to compute the average age of divorced people. How can we use the Laplace mechanism to privately answer this query? Implement your solution."
      ]
    },
    {
      "cell_type": "code",
      "execution_count": 20,
      "metadata": {
        "id": "KdZHYSmcQ12G"
      },
      "outputs": [],
      "source": [
        "def get_private_avg_divorced_age(df):\n",
        "  selected_df = df[df['marital-status'] == 'Divorced']\n",
        "  return laplace_mechanism(average_query(selected_df, 'age'), trusted_sensitivity(selected_df), 1.)"
      ]
    },
    {
      "cell_type": "code",
      "execution_count": 21,
      "metadata": {
        "colab": {
          "base_uri": "https://localhost:8080/"
        },
        "id": "1sLTue2QSMtE",
        "outputId": "0373d3ab-acff-49bb-9c1b-b37962296019"
      },
      "outputs": [
        {
          "data": {
            "text/plain": [
              "44.0"
            ]
          },
          "execution_count": 21,
          "metadata": {},
          "output_type": "execute_result"
        }
      ],
      "source": [
        "get_private_avg_divorced_age(dataset)"
      ]
    },
    {
      "cell_type": "markdown",
      "metadata": {
        "id": "gx5KGIyVkZWL"
      },
      "source": [
        "<div style=\"text-align: font-family: 'Arial', sans-serif;\">\n",
        "    <h2 style=\"color: #2c3e50;\">Question 8 (non-private SGD) (17 Points)</h2>\n",
        "</div>"
      ]
    },
    {
      "cell_type": "markdown",
      "metadata": {
        "id": "wzkc2PBUkZWL"
      },
      "source": [
        "In this question, we will implement our own simple version of SGD, as well as define our own sklearn-compatible $\\ell_2$-regularized logistic regression estimator. This will be convenient when we will implement a differentially private version in Question 9.\n",
        "\n",
        "Below, you are given several pieces of code:\n",
        "1. A function `sgd` which implements SGD: it is meant to be generic in the sense that it takes as input a function `obj_and_grad` which computes the value and the gradient of the desired objective function. **This function has missing parts that you need to complete**.\n",
        "\n",
        "\n",
        "2. A function `my_logistic_obj_and_grad` (adapted from [the version from sklearn](https://github.com/scikit-learn/scikit-learn/blob/0fb307bf39bbdacd6ed713c00724f8f871d60370/sklearn/linear_model/_logistic.py#L84)) which computes the value and gradient of the logistic regression problem. You do not need to modify this function.\n",
        "\n",
        "\n",
        "3. A class `MySGDLogisticRegression` which defines a sklearn estimator for logistic regression, where the model is fit using SGD using the previous two functions. You do not need to modify this function.\n",
        "\n",
        "Spend a bit of time to get familiar with the code provided, then complete the missing bits in the `sgd` function. Make sure it works by trying it on the binary classification dataset that you previously loaded."
      ]
    },
    {
      "cell_type": "code",
      "execution_count": 22,
      "metadata": {
        "id": "RAmrkWUskZWL"
      },
      "outputs": [],
      "source": [
        "def sgd(X, y, gamma, n_iter, obj_and_grad, theta_init, n_batch=1, freq_obj_eval=10,\n",
        "        n_obj_eval=1000, random_state=None):\n",
        "    \"\"\"Stochastic Gradient Descent (SGD) algorithm\n",
        "\n",
        "    Parameters\n",
        "    ----------\n",
        "    X : array, shape (n, d)\n",
        "        The data\n",
        "    y : array, shape (n,)\n",
        "        Binary labels (-1, 1).\n",
        "    gamma : float | callable\n",
        "        The step size. Can be a constant float or a function\n",
        "        that allows to have a variable step size\n",
        "    n_iter : int\n",
        "        The number of iterations\n",
        "    obj_and_grad : callable\n",
        "        A function which takes as a vector of shape (p,), a dataset of shape (n_batch, d)\n",
        "        and a label vector of shape (n_batch,), and returns the objective value and gradient.\n",
        "    theta_init : array, shape (p,)\n",
        "        The initial value for the model parameters\n",
        "    n_batch : int\n",
        "        Size of the mini-batch to use at each iteration of SGD.\n",
        "    freq_obj_eval : int\n",
        "        Specifies the frequency (in number of iterations) at which we compute the objective\n",
        "    n_obj_eval : int\n",
        "        The number of points on which we evaluate the objective\n",
        "    random_state : int\n",
        "        Random seed to make the algorithm deterministic\n",
        "\n",
        "\n",
        "    Returns\n",
        "    -------\n",
        "    theta : array, shape=(p,)\n",
        "        The final value of the model parameters\n",
        "    obj_list : list of length (n_iter / freq_obj_eval)\n",
        "        A list containing the value of the objective function computed every freq_obj_eval iterations\n",
        "    \"\"\"\n",
        "\n",
        "    rng = np.random.RandomState(random_state)\n",
        "    n, d = X.shape\n",
        "    p = theta_init.shape[0]\n",
        "\n",
        "    theta = theta_init.copy()\n",
        "\n",
        "    # if a constant step size was provided, we turn it into a constant function\n",
        "    if not callable(gamma):\n",
        "        def gamma_func(t):\n",
        "            return gamma\n",
        "    else:\n",
        "        gamma_func = gamma\n",
        "\n",
        "    # list to record the evolution of the objective (for plotting)\n",
        "    obj_list = []\n",
        "    # we draw a fixed subset of points to monitor the objective\n",
        "    idx_eval = rng.randint(0, n, n_obj_eval)\n",
        "\n",
        "    for t in range(n_iter):\n",
        "        if t % freq_obj_eval == 0:\n",
        "            # evaluate objective\n",
        "            obj, _ = obj_and_grad(theta, X[idx_eval, :], y[idx_eval])\n",
        "            obj_list.append(obj)\n",
        "\n",
        "        # TO COMPLETE\n",
        "        idx_train = rng.randint(0, n, n_batch)\n",
        "        _, grad = obj_and_grad(theta, X[idx_train, :], y[idx_train])\n",
        "        \n",
        "        theta += gamma_func(t + 1) * grad\n",
        "\n",
        "\n",
        "    return theta, obj_list"
      ]
    },
    {
      "cell_type": "code",
      "execution_count": 23,
      "metadata": {
        "colab": {
          "base_uri": "https://localhost:8080/",
          "height": 402
        },
        "id": "fiHloWfpkZWL",
        "outputId": "830feff1-f146-4fef-dc4c-7fe2f599cc0c"
      },
      "outputs": [],
      "source": [
        "from sklearn.linear_model._base import LinearClassifierMixin, SparseCoefMixin, BaseEstimator\n",
        "from sklearn.utils.extmath import log_logistic, safe_sparse_dot\n",
        "from sklearn.linear_model._logistic import _intercept_dot\n",
        "from scipy.special import expit\n",
        "from sklearn.utils.validation import check_X_y\n",
        "\n",
        "def my_logistic_obj_and_grad(theta, X, y, lamb):\n",
        "    \"\"\"Computes the value and gradient of the objective function of logistic regression defined as:\n",
        "    min (1/n) \\sum_i log_loss(theta;X[i,:],y[i]) + (lamb / 2) \\|w\\|^2,\n",
        "    where theta = w (if no intercept), or theta = [w b] (if intercept)\n",
        "\n",
        "    Parameters\n",
        "    ----------\n",
        "    theta_init : array, shape (d,) or (d+1,)\n",
        "        The initial value for the model parameters. When an intercept is used, it corresponds to the last entry\n",
        "    X : array, shape (n, d)\n",
        "        The data\n",
        "    y : array, shape (n,)\n",
        "        Binary labels (-1, 1)\n",
        "    lamb : float\n",
        "        The L2 regularization parameter\n",
        "\n",
        "\n",
        "    Returns\n",
        "    -------\n",
        "    obj : float\n",
        "        The value of the objective function\n",
        "    grad : array, shape (d,) or (d+1,)\n",
        "        The gradient of the objective function\n",
        "    \"\"\"\n",
        "    n_samples, n_features = X.shape\n",
        "    grad = np.empty_like(theta)\n",
        "\n",
        "    w, c, yz = _intercept_dot(theta, X, y)\n",
        "\n",
        "    # Logistic loss is the negative of the log of the logistic function\n",
        "    obj = -np.mean(log_logistic(yz)) + .5 * lamb * np.dot(w, w)\n",
        "\n",
        "    z = expit(yz)\n",
        "    z0 = (z - 1) * y\n",
        "\n",
        "    grad[:n_features] = safe_sparse_dot(X.T, z0) / n_samples + lamb * w\n",
        "\n",
        "    # Case where we fit the intercept\n",
        "    if grad.shape[0] > n_features:\n",
        "        grad[-1] = z0.sum() / n_samples\n",
        "    return obj, grad\n",
        "\n",
        "\n",
        "class MySGDLogisticRegression(BaseEstimator, LinearClassifierMixin, SparseCoefMixin):\n",
        "    \"\"\"Our own sklearn estimator for logistic regression defined as:\n",
        "    min (1/n) \\sum_i log_loss(theta;X[i,:],y[i]) + (lamb / 2) \\|w\\|^2,\n",
        "    where theta = [w b]\n",
        "\n",
        "    Parameters\n",
        "    ----------\n",
        "    gamma : float | callable\n",
        "        The step size. Can be a constant float or a function\n",
        "        that allows to have a variable step size\n",
        "    n_iter : int\n",
        "        The number of iterations\n",
        "    lamb : float\n",
        "        The L2 regularization parameter\n",
        "    n_batch : int\n",
        "        Size of the mini-batch to use at each iteration of SGD.\n",
        "    freq_obj_eval : int\n",
        "        Specifies the frequency (in number of iterations) at which we compute the objective\n",
        "    n_obj_eval : int\n",
        "        The number of points on which we evaluate the objectuve\n",
        "    random_state : int\n",
        "        Random seed to make the algorithm deterministic\n",
        "\n",
        "    Attributes\n",
        "    ----------\n",
        "    coef_ : (p,)\n",
        "        The weights of the logistic regression model.\n",
        "    intercept_ : (1,)\n",
        "        The intercept term of the logistic regression model.\n",
        "    obj_list_: list of length (n_iter / freq_obj_eval)\n",
        "        A list containing the value of the objective function computed every freq_loss_eval iterations\n",
        "    \"\"\"\n",
        "\n",
        "    def __init__(self, gamma, n_iter, lamb=0, n_batch=1, freq_obj_eval=10, n_obj_eval=1000, random_state=None):\n",
        "        self.gamma = gamma\n",
        "        self.n_iter = n_iter\n",
        "        self.lamb = lamb\n",
        "        self.n_batch = n_batch\n",
        "        self.freq_obj_eval = freq_obj_eval\n",
        "        self.n_obj_eval = n_obj_eval\n",
        "        self.random_state = random_state\n",
        "\n",
        "    def fit(self, X, y):\n",
        "\n",
        "        # WARNING: assumes labels are -1, 1\n",
        "        X, y = check_X_y(X, y, accept_sparse='csr', dtype=[np.float64, np.float32], order=\"C\")\n",
        "        self.classes_ = np.unique(y)\n",
        "\n",
        "        p = X.shape[1]\n",
        "        theta_init = np.zeros(p+1) # initialize parameters to zero\n",
        "        # define the function for value and gradient needed by SGD\n",
        "        obj_grad = lambda theta, X, y: my_logistic_obj_and_grad(theta, X, y, lamb=self.lamb)\n",
        "        theta, obj_list = sgd(X, y, self.gamma, self.n_iter, obj_grad, theta_init, self.n_batch,\n",
        "                              self.freq_obj_eval, self.n_obj_eval, self.random_state)\n",
        "\n",
        "        # save the learned model into the appropriate quantities used by sklearn\n",
        "        self.intercept_ = np.expand_dims(theta[-1], axis=0)\n",
        "        self.coef_ = np.expand_dims(theta[:-1], axis=0)\n",
        "\n",
        "        # also save list of objective values during optimization for plotting\n",
        "        self.obj_list_ = obj_list\n",
        "\n",
        "        return self"
      ]
    },
    {
      "cell_type": "code",
      "execution_count": 24,
      "metadata": {},
      "outputs": [],
      "source": [
        "X, y = fetch_openml(name='adult', version=2, return_X_y=True, as_frame=False)\n",
        "idx = np.isnan(X)\n",
        "X[idx] = 0\n",
        "\n",
        "normalizer = Normalizer()\n",
        "X = normalizer.transform(X)\n",
        "\n",
        "\n",
        "lb = LabelBinarizer()\n",
        "lb.fit(y)\n",
        "y = lb.transform(y).squeeze(1)\n",
        "X_train, X_test, y_train, y_test = train_test_split(X, y, test_size=0.33, random_state=42)\n",
        "\n"
      ]
    },
    {
      "cell_type": "code",
      "execution_count": 25,
      "metadata": {
        "colab": {
          "base_uri": "https://localhost:8080/",
          "height": 211
        },
        "id": "YNB8a7AjkZWM",
        "outputId": "e3717b00-d67f-4d58-95ee-d5d705ad40b5"
      },
      "outputs": [
        {
          "name": "stdout",
          "output_type": "stream",
          "text": [
            "Test accuracy 0.7641146544236258\n"
          ]
        },
        {
          "data": {
            "image/png": "[encoded data removed]",
            "text/plain": [
              "<Figure size 432x288 with 1 Axes>"
            ]
          },
          "metadata": {
            "needs_background": "light"
          },
          "output_type": "display_data"
        }
      ],
      "source": [
        "lamb = 0.01\n",
        "n_iter = 5000\n",
        "n_batch = 1\n",
        "gamma = 0.05\n",
        "# gamma = lambda t: 1 / np.sqrt(t)\n",
        "\n",
        "mlr = MySGDLogisticRegression(gamma, n_iter, lamb, n_batch=n_batch, random_state=None)\n",
        "mlr.fit(X_train, y_train)\n",
        "print(\"Test accuracy\", mlr.score(X_test, y_test))\n",
        "\n",
        "obj_list = mlr.obj_list_\n",
        "iter_list = np.arange(len(obj_list)) * mlr.freq_obj_eval\n",
        "plt.plot(iter_list, obj_list)\n",
        "plt.xlabel(\"Iteration\")\n",
        "plt.ylabel(\"Objective function\")\n",
        "plt.show()"
      ]
    },
    {
      "cell_type": "markdown",
      "metadata": {
        "id": "a5swhEcVkZWM"
      },
      "source": [
        "<div style=\"text-align: font-family: 'Arial', sans-serif;\">\n",
        "    <h2 style=\"color: #2c3e50;\">Question 9 (private SGD) (18 Points)</h2>\n",
        "</div>"
      ]
    },
    {
      "cell_type": "markdown",
      "metadata": {
        "id": "lf76SqDykZWM"
      },
      "source": [
        "We will now implement and experiment with DP-SGD:\n",
        "1. Following the model of the function `sgd`, implement a new function `private_sgd` which implements DP-SGD **with mini-batch size of 1 and no regularization**. It can take as input the desired value of $\\epsilon$ and $\\delta$ for the $(\\epsilon,\\delta)$-DP, or alternatively the standard deviation of the Gaussian noise to add at each iteration. Note: you do not need to make the objective plotting part private (this is only for monitoring).\n",
        "\n",
        "\n",
        "2. Following the model of the class `MySGDLogisticRegression`, implement a new class `MyPrivateSGDLogisticRegression` which implements differentially private logistic regression trained using your DP-SGD implementation above.\n",
        "\n",
        "\n",
        "3. Experiment with different values of $\\epsilon$ and $\\delta$, number of iterations and step size, and study the effect on the convergence of SGD as well as the test accuracy of the resulting model. Describe your observations. How should the number of iterations depend on the level of privacy? How can we choose the number of iterations and step size in practice?\n",
        "\n",
        "`Answer:`\n",
        "\n",
        "<p dir='rtl'>\n",
        "در اینجا برحسب حالات مختلف پارمتر‌های epsilon و delta آموزش انجام شده است. همانطور که مشاهده می‌کنید، در مقدار نویز ایجاد‌شده، پارمتر epsilon نقش مهم‌تری دارد و پارامتر delta تاثیر کمتری دارد (از جهت اندازه آن نیز می‌باشد). همچنین در مدل دقت‌ها همه آنها به یک دقت می‌رسند که شاید به‌دلیل سادگی وظیفه مجموعه داده باشد. \n",
        "\n",
        "برای انتخاب تعداد دور یادگیری ، میتوان از خاصیت ترکیبی محرمانگی استفاده کرد، از آنجایی که محرمانگی کل الگوریتم به صورت زیر می‌باشد، با تعیین محرمانگی مورد نظر میتوان تعداد دور مورد نظر و قدم اجرا در الگوریتم را بدست آورد:\n",
        "</p>\n",
        "\n",
        "$$O(q\\epsilon\\sqrt{Tlog(\\frac{1}{\\delta})}, Tq\\delta)$$"
      ]
    },
    {
      "cell_type": "code",
      "execution_count": 26,
      "metadata": {
        "id": "P4UAN4kFkZWM"
      },
      "outputs": [],
      "source": [
        "def private_sgd(X, y, epsilon, delta, gamma, n_iter, obj_and_grad, theta_init, n_batch=1, freq_obj_eval=10,\n",
        "        n_obj_eval=1000, random_state=None):\n",
        "    \"\"\"Stochastic Gradient Descent (SGD) algorithm\n",
        "\n",
        "    Parameters\n",
        "    ----------\n",
        "    X : array, shape (n, d)\n",
        "        The data\n",
        "    y : array, shape (n,)\n",
        "        Binary labels (-1, 1).\n",
        "    gamma : float | callable\n",
        "        The step size. Can be a constant float or a function\n",
        "        that allows to have a variable step size\n",
        "    n_iter : int\n",
        "        The number of iterations\n",
        "    obj_and_grad : callable\n",
        "        A function which takes as a vector of shape (p,), a dataset of shape (n_batch, d)\n",
        "        and a label vector of shape (n_batch,), and returns the objective value and gradient.\n",
        "    theta_init : array, shape (p,)\n",
        "        The initial value for the model parameters\n",
        "    n_batch : int\n",
        "        Size of the mini-batch to use at each iteration of SGD.\n",
        "    freq_obj_eval : int\n",
        "        Specifies the frequency (in number of iterations) at which we compute the objective\n",
        "    n_obj_eval : int\n",
        "        The number of points on which we evaluate the objective\n",
        "    random_state : int\n",
        "        Random seed to make the algorithm deterministic\n",
        "\n",
        "\n",
        "    Returns\n",
        "    -------\n",
        "    theta : array, shape=(p,)\n",
        "        The final value of the model parameters\n",
        "    obj_list : list of length (n_iter / freq_obj_eval)\n",
        "        A list containing the value of the objective function computed every freq_obj_eval iterations\n",
        "    \"\"\"\n",
        "\n",
        "    rng = np.random.RandomState(random_state)\n",
        "    n, d = X.shape\n",
        "    p = theta_init.shape[0]\n",
        "\n",
        "    q = n_batch / len(X)\n",
        "    sigma = (q * np.sqrt(n_iter * np.log(1 / delta))) / epsilon\n",
        "    C = 2\n",
        "\n",
        "    theta = theta_init.copy()\n",
        "\n",
        "    # if a constant step size was provided, we turn it into a constant function\n",
        "    if not callable(gamma):\n",
        "        def gamma_func(t):\n",
        "            return gamma\n",
        "    else:\n",
        "        gamma_func = gamma\n",
        "\n",
        "    # list to record the evolution of the objective (for plotting)\n",
        "    obj_list = []\n",
        "    # we draw a fixed subset of points to monitor the objective\n",
        "    idx_eval = rng.randint(0, n, n_obj_eval)\n",
        "\n",
        "    for t in range(n_iter):\n",
        "        if t % freq_obj_eval == 0:\n",
        "            # evaluate objective\n",
        "            obj, _ = obj_and_grad(theta, X[idx_eval, :], y[idx_eval])\n",
        "            obj_list.append(obj)\n",
        "\n",
        "        # TO COMPLETE\n",
        "        idx_train = rng.randint(0, n, n_batch)\n",
        "        _, grad = obj_and_grad(theta, X[idx_train, :], y[idx_train])\n",
        "\n",
        "        grad = grad / np.maximum(np.ones(grad.shape), np.linalg.norm(grad) / C)\n",
        "\n",
        "        grad += np.random.normal(scale=sigma * C, size=grad.shape)\n",
        "        theta += gamma_func(t + 1) * grad\n",
        "\n",
        "\n",
        "    return theta, obj_list"
      ]
    },
    {
      "cell_type": "code",
      "execution_count": 27,
      "metadata": {},
      "outputs": [],
      "source": [
        "class MyPrivateSGDLogisticRegression(BaseEstimator, LinearClassifierMixin, SparseCoefMixin):\n",
        "    \"\"\"Our own sklearn estimator for logistic regression defined as:\n",
        "    min (1/n) \\sum_i log_loss(theta;X[i,:],y[i]) + (lamb / 2) \\|w\\|^2,\n",
        "    where theta = [w b]\n",
        "\n",
        "    Parameters\n",
        "    ----------\n",
        "    gamma : float | callable\n",
        "        The step size. Can be a constant float or a function\n",
        "        that allows to have a variable step size\n",
        "    n_iter : int\n",
        "        The number of iterations\n",
        "    lamb : float\n",
        "        The L2 regularization parameter\n",
        "    n_batch : int\n",
        "        Size of the mini-batch to use at each iteration of SGD.\n",
        "    freq_obj_eval : int\n",
        "        Specifies the frequency (in number of iterations) at which we compute the objective\n",
        "    n_obj_eval : int\n",
        "        The number of points on which we evaluate the objectuve\n",
        "    random_state : int\n",
        "        Random seed to make the algorithm deterministic\n",
        "\n",
        "    Attributes\n",
        "    ----------\n",
        "    coef_ : (p,)\n",
        "        The weights of the logistic regression model.\n",
        "    intercept_ : (1,)\n",
        "        The intercept term of the logistic regression model.\n",
        "    obj_list_: list of length (n_iter / freq_obj_eval)\n",
        "        A list containing the value of the objective function computed every freq_loss_eval iterations\n",
        "    \"\"\"\n",
        "\n",
        "    def __init__(self, epsilon, delta, gamma, n_iter, lamb=0, n_batch=1, freq_obj_eval=10, n_obj_eval=1000, random_state=None):\n",
        "        self.epsilon = epsilon\n",
        "        self.delta = delta\n",
        "        self.gamma = gamma\n",
        "        self.n_iter = n_iter\n",
        "        self.lamb = lamb\n",
        "        self.n_batch = n_batch\n",
        "        self.freq_obj_eval = freq_obj_eval\n",
        "        self.n_obj_eval = n_obj_eval\n",
        "        self.random_state = random_state\n",
        "\n",
        "    def fit(self, X, y):\n",
        "\n",
        "        # WARNING: assumes labels are -1, 1\n",
        "        X, y = check_X_y(X, y, accept_sparse='csr', dtype=[np.float64, np.float32], order=\"C\")\n",
        "        self.classes_ = np.unique(y)\n",
        "\n",
        "        p = X.shape[1]\n",
        "        theta_init = np.zeros(p+1) # initialize parameters to zero\n",
        "        # define the function for value and gradient needed by SGD\n",
        "        obj_grad = lambda theta, X, y: my_logistic_obj_and_grad(theta, X, y, lamb=self.lamb)\n",
        "        theta, obj_list = private_sgd(X, y, self.epsilon, self.delta, self.gamma, self.n_iter, obj_grad, theta_init, self.n_batch,\n",
        "                              self.freq_obj_eval, self.n_obj_eval, self.random_state)\n",
        "\n",
        "        # save the learned model into the appropriate quantities used by sklearn\n",
        "        self.intercept_ = np.expand_dims(theta[-1], axis=0)\n",
        "        self.coef_ = np.expand_dims(theta[:-1], axis=0)\n",
        "\n",
        "        # also save list of objective values during optimization for plotting\n",
        "        self.obj_list_ = obj_list\n",
        "\n",
        "        return self"
      ]
    },
    {
      "cell_type": "code",
      "execution_count": 33,
      "metadata": {},
      "outputs": [],
      "source": [
        "X, y = fetch_openml(name='adult', version=2, return_X_y=True, as_frame=False)\n",
        "idx = np.isnan(X)\n",
        "X[idx] = 0\n",
        "\n",
        "normalizer = Normalizer()\n",
        "X = normalizer.transform(X)\n",
        "\n",
        "\n",
        "lb = LabelBinarizer()\n",
        "lb.fit(y)\n",
        "y = lb.transform(y).squeeze(1)\n",
        "X_train, X_test, y_train, y_test = train_test_split(X, y, test_size=0.33, random_state=42)"
      ]
    },
    {
      "cell_type": "code",
      "execution_count": 34,
      "metadata": {},
      "outputs": [
        {
          "name": "stdout",
          "output_type": "stream",
          "text": [
            "Test accuracy 0.7641146544236258\n"
          ]
        },
        {
          "data": {
            "image/png": "[encoded data removed]",
            "text/plain": [
              "<Figure size 432x288 with 1 Axes>"
            ]
          },
          "metadata": {
            "needs_background": "light"
          },
          "output_type": "display_data"
        }
      ],
      "source": [
        "lamb = 0\n",
        "n_iter = 5000\n",
        "n_batch = 1\n",
        "gamma = 0.001\n",
        "epsilon = 0.25\n",
        "delta = 10 ** (-5)\n",
        "# gamma = lambda t: 1 / np.sqrt(t)\n",
        "\n",
        "mlr = MyPrivateSGDLogisticRegression(epsilon, delta, gamma, n_iter, lamb, n_batch=n_batch, random_state=None)\n",
        "mlr.fit(X_train, y_train)\n",
        "print(\"Test accuracy\", mlr.score(X_test, y_test))\n",
        "\n",
        "obj_list = mlr.obj_list_\n",
        "iter_list = np.arange(len(obj_list)) * mlr.freq_obj_eval\n",
        "plt.plot(iter_list, obj_list)\n",
        "plt.xlabel(\"Iteration\")\n",
        "plt.ylabel(\"Objective function\")\n",
        "plt.show()"
      ]
    },
    {
      "cell_type": "code",
      "execution_count": 37,
      "metadata": {},
      "outputs": [
        {
          "name": "stdout",
          "output_type": "stream",
          "text": [
            "Test accuracy 0.7641146544236258\n"
          ]
        },
        {
          "data": {
            "image/png": "[encoded data removed]",
            "text/plain": [
              "<Figure size 432x288 with 1 Axes>"
            ]
          },
          "metadata": {
            "needs_background": "light"
          },
          "output_type": "display_data"
        }
      ],
      "source": [
        "lamb = 0\n",
        "n_iter = 5000\n",
        "n_batch = 1\n",
        "gamma = 0.001\n",
        "epsilon = 0.25\n",
        "delta = 10 ** (-5)\n",
        "# gamma = lambda t: 1 / np.sqrt(t)\n",
        "\n",
        "mlr = MyPrivateSGDLogisticRegression(epsilon, delta, gamma, n_iter, lamb, n_batch=n_batch, random_state=None)\n",
        "mlr.fit(X_train, y_train)\n",
        "print(\"Test accuracy\", mlr.score(X_test, y_test))\n",
        "\n",
        "obj_list = mlr.obj_list_\n",
        "iter_list = np.arange(len(obj_list)) * mlr.freq_obj_eval\n",
        "plt.plot(iter_list, obj_list)\n",
        "plt.xlabel(\"Iteration\")\n",
        "plt.ylabel(\"Objective function\")\n",
        "plt.show()"
      ]
    },
    {
      "cell_type": "code",
      "execution_count": 31,
      "metadata": {},
      "outputs": [
        {
          "name": "stdout",
          "output_type": "stream",
          "text": [
            "Test accuracy 0.7641146544236258\n"
          ]
        },
        {
          "data": {
            "image/png": "[encoded data removed]",
            "text/plain": [
              "<Figure size 432x288 with 1 Axes>"
            ]
          },
          "metadata": {
            "needs_background": "light"
          },
          "output_type": "display_data"
        }
      ],
      "source": [
        "lamb = 0\n",
        "n_iter = 5000\n",
        "n_batch = 1\n",
        "gamma = 0.001\n",
        "epsilon = 0.0025\n",
        "delta = 10 ** (-5)\n",
        "# gamma = lambda t: 1 / np.sqrt(t)\n",
        "\n",
        "mlr = MyPrivateSGDLogisticRegression(epsilon, delta, gamma, n_iter, lamb, n_batch=n_batch, random_state=None)\n",
        "mlr.fit(X_train, y_train)\n",
        "print(\"Test accuracy\", mlr.score(X_test, y_test))\n",
        "\n",
        "obj_list = mlr.obj_list_\n",
        "iter_list = np.arange(len(obj_list)) * mlr.freq_obj_eval\n",
        "plt.plot(iter_list, obj_list)\n",
        "plt.xlabel(\"Iteration\")\n",
        "plt.ylabel(\"Objective function\")\n",
        "plt.show()"
      ]
    },
    {
      "cell_type": "markdown",
      "metadata": {
        "id": "nKTeiinikZWM"
      },
      "source": [
        "<div style=\"text-align: font-family: 'Arial', sans-serif;\">\n",
        "    <h2 style=\"color: #2c3e50;\">Optional: Question 10 (federated learning with DP: DP-SGD in the distributed model) (20 Points)</h2>\n",
        "</div>"
      ]
    },
    {
      "cell_type": "markdown",
      "metadata": {
        "id": "M9mfBMM3kZWM"
      },
      "source": [
        "Enough with these simple queries! Let's train a machine learning model in the federated learning, in which $n$ participants with their own datasets collaborate to train a joint model. Each participant $i$ wants to ensure that the algorithm satisfies $(\\epsilon,\\delta)$-DP with respect to his/her own dataset $D_i$. This is sometimes referred to as the distributed model of DP. Note that if each participant has a dataset of size 1 then this is exactly local DP. However, the privacy-utility trade-off will be better when participants have more data points, which is what we consider below.\n",
        "\n",
        "The following code loads the US Census dataset in one-hot encoded version. Feel free to use another binary classification dataset of your choice instead."
      ]
    },
    {
      "cell_type": "code",
      "execution_count": 38,
      "metadata": {
        "id": "-cbesZ_ukZWM"
      },
      "outputs": [
        {
          "name": "stdout",
          "output_type": "stream",
          "text": [
            "48842 123\n"
          ]
        }
      ],
      "source": [
        "X, y = fetch_openml(name='a9a', version=1, return_X_y=True, as_frame=False)\n",
        "normalizer = Normalizer()\n",
        "X = normalizer.transform(X)\n",
        "m, d = X.shape\n",
        "print(m, d)"
      ]
    },
    {
      "cell_type": "markdown",
      "metadata": {
        "id": "QBe15pOVkZWM"
      },
      "source": [
        "Consider a setting with $n=5$ participants. To simulate the federated learning setting, we will split the dataset in $n$ local datasets of roughly equal size. To do this, we use `sklearn.model_selection.KFold`."
      ]
    },
    {
      "cell_type": "markdown",
      "metadata": {
        "id": "JOGG36ZWkZWN"
      },
      "source": [
        "We would now like to train a logistic regression classifier with DP-SGD in the federated setting. For simplicity of exposition, assume the presence of an *untrusted* aggregator. The algorithm follows an interative process, where each iteration consists of the following steps:\n",
        "1. The trusted aggregator sends the current parameters of the model to the participants.\n",
        "\n",
        "2. Each participant $i$ computes a stochastic gradient using a mini-batch from his local dataset $D_i$, adds Gaussian noise locally to ensure DP, and sends it to the untrusted aggregator.\n",
        "\n",
        "3. The untrusted aggregator averages these gradients and use the result to update the model with a gradient step.\n",
        "\n",
        "How much Gaussian noise should each participant add at each iteration to ensure an $(\\epsilon,\\delta)$-DP guarantee for the entire algorithm?\n",
        "\n",
        "Adapt your centralized DP-SGD code from the previous practical to simulate this federated learning version. Compare the utility with the centralized version, studying in particular the effect of the number of participants.\n",
        "\n",
        "Suppose that the local dataset sizes are imbalanced across participants. How does this affect the Gaussian noise added by each participant? How does this effect the utility? Suggest an appropriate weighted aggregation scheme to mitigate this.\n",
        "\n",
        "`Answer:`\n",
        "\n",
        "<p dir='rtl'>\n",
        "در رابطه با نویز اضافه‌شده به هر داده، در اینجا بودجه محرمانگی برای مجموعه داده هر شرکت‌کننده مان epsilon در نظر گرفته می‌شود زیرا که مجموعه داده از یکدیگر مجزا هستند و همه گرادیان‌های مربوط به داده‌های مختلف در مدل نهایی با هم تجمیع می‌شوند (همانند روش ترکیب موازی برای جدول چند‌متغیره epsilon مستقل از تعداد شرکت‌کننده بریا هرکدام از آنها خواهد بود.)\n",
        "\n",
        "با افزایش تعداد شرکت‌کننده‌ها، همانطور که در نتیجه دیده می‌شود، دقت مدل افزایش می‌یابد، زیرا اگر تعداد شرکت‌کنندگان زیاد شود، اثر نویز اضافه‌شده در هر شرکت‌کننده نسبت به حالتی که تعداد شرکت‌کننده‌ها کم است، کاهش می‌یابد.\n",
        "\n",
        "برای حالتی که مجموعه داده شرکت‌کنندگان نسبت به یکدیگر متوازن نمی‌باشد، اتفاقی که می‌افتد این است که برای شرکت‌کننده با تعداد کم نمونه داده، جساسیت اختلاف گرادیان‌ها بالاتر بوده و در نتیجه نیاز به نویز با اندازه بزرگتر وجود دارد. برای رفع این مشکل می‌توان از نرمال‌سازی میانگین گرفتن گرادیان‌ها برای مدل نهایی استفاده کرد و گرادیان برای هر شرکت‌کننده متناسب با اندازه مجموعه داده آن شرکت‌کننده با یکدیگر جمع کنیم، تا اهمیت گرادیان برای شرکت‌کننده‌های با تعداد بیشتر نمونه داده افزایش پیدا کند.\n",
        "</p>"
      ]
    },
    {
      "cell_type": "code",
      "execution_count": 59,
      "metadata": {
        "id": "E_7LmzyskZWN"
      },
      "outputs": [],
      "source": [
        "def local_gradient(X, y, epsilon, delta, obj_and_grad, theta_init, n_batch=1, random_state=None):\n",
        "\n",
        "\n",
        "    rng = np.random.RandomState(random_state)\n",
        "    n, d = X.shape\n",
        "\n",
        "    q = n_batch / n\n",
        "    sigma = (q * np.sqrt(n_iter * np.log(1 / delta))) / epsilon\n",
        "    C = 2\n",
        "\n",
        "    theta = theta_init.copy()\n",
        "    # TO COMPLETE\n",
        "    idx_train = rng.randint(0, n, n_batch)\n",
        "    _, grad = obj_and_grad(theta, X[idx_train, :], y[idx_train])\n",
        "    grad = grad / np.maximum(np.ones(grad.shape), np.linalg.norm(grad) / C)\n",
        "    grad += np.random.normal(scale=sigma * C, size=grad.shape)\n",
        "\n",
        "    return grad\n",
        "\n",
        "\n",
        "def private_fl_sgd(features, labels, epsilon, delta, gamma, n_iter, obj_and_grad, theta_init, n_batch=1, freq_obj_eval=10,\n",
        "        n_obj_eval=1000, random_state=None):\n",
        "    \n",
        "    theta = theta_init.copy()\n",
        "\n",
        "    # if a constant step size was provided, we turn it into a constant function\n",
        "    if not callable(gamma):\n",
        "        def gamma_func(t):\n",
        "            return gamma\n",
        "    else:\n",
        "        gamma_func = gamma\n",
        "\n",
        "    for t in range(n_iter):\n",
        "        \n",
        "        grad = np.zeros(theta.shape)\n",
        "        for i in range(5):\n",
        "            grad += local_gradient(features[i], labels[i], epsilon, delta, obj_and_grad, theta_init)\n",
        "        \n",
        "        grad /= len(features.keys())\n",
        "        theta += gamma_func(t + 1) * grad\n",
        "    return theta\n",
        "\n",
        "\n",
        "class MyPrivateFLSGDLogisticRegression(BaseEstimator, LinearClassifierMixin, SparseCoefMixin):\n",
        "    \"\"\"Our own sklearn estimator for logistic regression defined as:\n",
        "    min (1/n) \\sum_i log_loss(theta;X[i,:],y[i]) + (lamb / 2) \\|w\\|^2,\n",
        "    where theta = [w b]\n",
        "\n",
        "    Parameters\n",
        "    ----------\n",
        "    gamma : float | callable\n",
        "        The step size. Can be a constant float or a function\n",
        "        that allows to have a variable step size\n",
        "    n_iter : int\n",
        "        The number of iterations\n",
        "    lamb : float\n",
        "        The L2 regularization parameter\n",
        "    n_batch : int\n",
        "        Size of the mini-batch to use at each iteration of SGD.\n",
        "    freq_obj_eval : int\n",
        "        Specifies the frequency (in number of iterations) at which we compute the objective\n",
        "    n_obj_eval : int\n",
        "        The number of points on which we evaluate the objectuve\n",
        "    random_state : int\n",
        "        Random seed to make the algorithm deterministic\n",
        "\n",
        "    Attributes\n",
        "    ----------\n",
        "    coef_ : (p,)\n",
        "        The weights of the logistic regression model.\n",
        "    intercept_ : (1,)\n",
        "        The intercept term of the logistic regression model.\n",
        "    obj_list_: list of length (n_iter / freq_obj_eval)\n",
        "        A list containing the value of the objective function computed every freq_loss_eval iterations\n",
        "    \"\"\"\n",
        "\n",
        "    def __init__(self, epsilon, delta, gamma, n_iter, lamb=0, n_batch=1, freq_obj_eval=10, n_obj_eval=1000, random_state=None):\n",
        "        self.epsilon = epsilon\n",
        "        self.delta = delta\n",
        "        self.gamma = gamma\n",
        "        self.n_iter = n_iter\n",
        "        self.lamb = lamb\n",
        "        self.n_batch = n_batch\n",
        "        self.freq_obj_eval = freq_obj_eval\n",
        "        self.n_obj_eval = n_obj_eval\n",
        "        self.random_state = random_state\n",
        "\n",
        "    def fit(self, features, labels):\n",
        "        self.classes_ = np.unique(labels[0])\n",
        "\n",
        "        obj_grad = lambda theta, X, y: my_logistic_obj_and_grad(theta, X, y, lamb=self.lamb)\n",
        "        p = features[0].shape[1]\n",
        "        theta_init = np.zeros((p+1))\n",
        "        theta = private_fl_sgd(features, labels, self.epsilon, self.delta, self.gamma, self.n_iter, obj_grad, theta_init, self.n_batch,\n",
        "                              self.freq_obj_eval, self.n_obj_eval, self.random_state)\n",
        "\n",
        "        # save the learned model into the appropriate quantities used by sklearn\n",
        "        self.intercept_ = np.expand_dims(theta[-1], axis=0)\n",
        "        self.coef_ = np.expand_dims(theta[:-1], axis=0)\n",
        "\n",
        "        \n",
        "\n",
        "        return self\n",
        "\n"
      ]
    },
    {
      "cell_type": "code",
      "execution_count": 60,
      "metadata": {},
      "outputs": [
        {
          "name": "stdout",
          "output_type": "stream",
          "text": [
            "Dataset of participant 0: (9769, 123) (9769,)\n",
            "Dataset of participant 1: (9769, 123) (9769,)\n",
            "Dataset of participant 2: (9768, 123) (9768,)\n",
            "Dataset of participant 3: (9768, 123) (9768,)\n",
            "Dataset of participant 4: (9768, 123) (9768,)\n"
          ]
        }
      ],
      "source": [
        "n = 5\n",
        "features = {}\n",
        "labels = {}\n",
        "for i, idx in enumerate(KFold(n_splits=n, shuffle=True).split(X)):\n",
        "    features[i] = X[idx[1],:]\n",
        "    labels[i] = y[idx[1]]\n",
        "\n",
        "for i in range(n):\n",
        "    print(\"Dataset of participant \" + str(i) + \":\", features[i].shape, labels[i].shape)\n",
        "\n",
        "X_train, X_test, y_train, y_test = train_test_split(X, y, test_size=0.33, random_state=42)"
      ]
    },
    {
      "cell_type": "code",
      "execution_count": 61,
      "metadata": {},
      "outputs": [
        {
          "name": "stdout",
          "output_type": "stream",
          "text": [
            "Test accuracy 0.24283409852339\n"
          ]
        }
      ],
      "source": [
        "lamb = 0\n",
        "n_iter = 5000\n",
        "n_batch = 10\n",
        "gamma = 0.05\n",
        "epsilon = 0.25\n",
        "delta = 10 ** (-5)\n",
        "# gamma = lambda t: 1 / np.sqrt(t)\n",
        "\n",
        "mlr = MyPrivateFLSGDLogisticRegression(epsilon, delta, gamma, n_iter, lamb, n_batch=n_batch, random_state=None)\n",
        "mlr.fit(features, labels)\n",
        "print(\"Test accuracy\", mlr.score(X_test, y_test))"
      ]
    },
    {
      "cell_type": "code",
      "execution_count": 62,
      "metadata": {},
      "outputs": [],
      "source": [
        "n = 1000\n",
        "features = {}\n",
        "labels = {}\n",
        "for i, idx in enumerate(KFold(n_splits=n, shuffle=True).split(X)):\n",
        "    features[i] = X[idx[1],:]\n",
        "    labels[i] = y[idx[1]]\n",
        "\n",
        "'''\n",
        "for i in range(n):\n",
        "    print(\"Dataset of participant \" + str(i) + \":\", features[i].shape, labels[i].shape)\n",
        "'''\n",
        "\n",
        "X_train, X_test, y_train, y_test = train_test_split(X, y, test_size=0.33, random_state=42)"
      ]
    },
    {
      "cell_type": "code",
      "execution_count": 65,
      "metadata": {},
      "outputs": [
        {
          "name": "stdout",
          "output_type": "stream",
          "text": [
            "Test accuracy 0.24680481449311328\n"
          ]
        }
      ],
      "source": [
        "lamb = 0\n",
        "n_iter = 5000\n",
        "n_batch = 10\n",
        "gamma = 0.05\n",
        "epsilon = 0.25\n",
        "delta = 10 ** (-5)\n",
        "# gamma = lambda t: 1 / np.sqrt(t)\n",
        "\n",
        "mlr = MyPrivateFLSGDLogisticRegression(epsilon, delta, gamma, n_iter, lamb, n_batch=n_batch, random_state=None)\n",
        "mlr.fit(features, labels)\n",
        "print(\"Test accuracy\", mlr.score(X_test, y_test))"
      ]
    },
    {
      "cell_type": "code",
      "execution_count": null,
      "metadata": {},
      "outputs": [],
      "source": []
    }
  ],
  "metadata": {
    "colab": {
      "provenance": []
    },
    "kernelspec": {
      "display_name": "Python 3",
      "language": "python",
      "name": "python3"
    },
    "language_info": {
      "codemirror_mode": {
        "name": "ipython",
        "version": 3
      },
      "file_extension": ".py",
      "mimetype": "text/x-python",
      "name": "python",
      "nbconvert_exporter": "python",
      "pygments_lexer": "ipython3",
      "version": "3.10.0"
    }
  },
  "nbformat": 4,
  "nbformat_minor": 0
}
