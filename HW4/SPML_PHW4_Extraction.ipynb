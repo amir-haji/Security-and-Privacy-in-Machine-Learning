{
 "cells": [
  {
   "cell_type": "markdown",
   "id": "e3d321a5",
   "metadata": {
    "id": "axViOHHuSBe5",
    "papermill": {
     "duration": 0.00971,
     "end_time": "2024-12-15T11:53:58.249311",
     "exception": false,
     "start_time": "2024-12-15T11:53:58.239601",
     "status": "completed"
    },
    "tags": []
   },
   "source": [
    "# SPML HW4: Model Extraction\n",
    "\n",
    "In this notebook you'll explore model extraction."
   ]
  },
  {
   "cell_type": "code",
   "execution_count": 1,
   "id": "6aa52241",
   "metadata": {
    "execution": {
     "iopub.execute_input": "2024-12-15T11:53:58.266096Z",
     "iopub.status.busy": "2024-12-15T11:53:58.265737Z",
     "iopub.status.idle": "2024-12-15T11:53:58.273041Z",
     "shell.execute_reply": "2024-12-15T11:53:58.272238Z"
    },
    "id": "s_gL6lXEoTSN",
    "papermill": {
     "duration": 0.017578,
     "end_time": "2024-12-15T11:53:58.274680",
     "exception": false,
     "start_time": "2024-12-15T11:53:58.257102",
     "status": "completed"
    },
    "tags": []
   },
   "outputs": [],
   "source": [
    "######### Make sure to put your info #########\n",
    "name = 'AmirHossein Haji Mohammad Rezaei'\n",
    "std_id = '99109252'\n",
    "##############################################"
   ]
  },
  {
   "cell_type": "code",
   "execution_count": 2,
   "id": "cef94576",
   "metadata": {
    "cellView": "form",
    "execution": {
     "iopub.execute_input": "2024-12-15T11:53:58.290849Z",
     "iopub.status.busy": "2024-12-15T11:53:58.290598Z",
     "iopub.status.idle": "2024-12-15T11:54:02.641538Z",
     "shell.execute_reply": "2024-12-15T11:54:02.640785Z"
    },
    "id": "CYQYyHliSpeZ",
    "papermill": {
     "duration": 4.361354,
     "end_time": "2024-12-15T11:54:02.643672",
     "exception": false,
     "start_time": "2024-12-15T11:53:58.282318",
     "status": "completed"
    },
    "tags": []
   },
   "outputs": [],
   "source": [
    "import torch\n",
    "import torch.nn as nn\n",
    "import torch.optim as optim\n",
    "import torch.nn.functional as F\n",
    "from torch.utils.data import ConcatDataset, Dataset, DataLoader\n",
    "from tqdm import tqdm, trange\n",
    "import matplotlib.pyplot as plt\n",
    "\n",
    "\n",
    "import torchvision\n",
    "from torchvision import transforms, datasets, models\n",
    "\n",
    "# Define device\n",
    "device = torch.device('cuda' if torch.cuda.is_available() else 'cpu')"
   ]
  },
  {
   "cell_type": "markdown",
   "id": "bb7fcf76",
   "metadata": {
    "id": "sOMYvVnVoFfR",
    "papermill": {
     "duration": 0.007603,
     "end_time": "2024-12-15T11:54:02.659486",
     "exception": false,
     "start_time": "2024-12-15T11:54:02.651883",
     "status": "completed"
    },
    "tags": []
   },
   "source": [
    "# Loading CIFAR100 (5 points)"
   ]
  },
  {
   "cell_type": "markdown",
   "id": "2ad558c5",
   "metadata": {
    "id": "kc6jsbe0oFfR",
    "papermill": {
     "duration": 0.007381,
     "end_time": "2024-12-15T11:54:02.674399",
     "exception": false,
     "start_time": "2024-12-15T11:54:02.667018",
     "status": "completed"
    },
    "tags": []
   },
   "source": [
    "Load the `CIFAR100` dataset. Make sure you resize the images to be `224x224` (same as the input size of resnet)."
   ]
  },
  {
   "cell_type": "code",
   "execution_count": 3,
   "id": "300ea0c8",
   "metadata": {
    "execution": {
     "iopub.execute_input": "2024-12-15T11:54:02.691058Z",
     "iopub.status.busy": "2024-12-15T11:54:02.690666Z",
     "iopub.status.idle": "2024-12-15T11:54:11.616606Z",
     "shell.execute_reply": "2024-12-15T11:54:11.615736Z"
    },
    "id": "wsvz54rDoFfS",
    "outputId": "98c43510-8c3b-4d8d-ba78-5cac0ee2538f",
    "papermill": {
     "duration": 8.936625,
     "end_time": "2024-12-15T11:54:11.618744",
     "exception": false,
     "start_time": "2024-12-15T11:54:02.682119",
     "status": "completed"
    },
    "tags": []
   },
   "outputs": [
    {
     "name": "stdout",
     "output_type": "stream",
     "text": [
      "Downloading https://www.cs.toronto.edu/~kriz/cifar-100-python.tar.gz to ./data/cifar-100-python.tar.gz\n"
     ]
    },
    {
     "name": "stderr",
     "output_type": "stream",
     "text": [
      "100%|██████████| 169001437/169001437 [00:05<00:00, 31807194.65it/s]\n"
     ]
    },
    {
     "name": "stdout",
     "output_type": "stream",
     "text": [
      "Extracting ./data/cifar-100-python.tar.gz to ./data\n",
      "Files already downloaded and verified\n"
     ]
    }
   ],
   "source": [
    "# TODO: Load CIFAR-100 dataset\n",
    "\n",
    "batch_size = 128\n",
    "train_transform = transforms.Compose([\n",
    "    transforms.Resize(256),\n",
    "    transforms.RandomCrop(224),\n",
    "    transforms.RandomHorizontalFlip(),\n",
    "    transforms.ToTensor(),\n",
    "    transforms.Normalize((0.5, 0.5, 0.5), (0.5, 0.5, 0.5))\n",
    "])\n",
    "\n",
    "test_transform = transforms.Compose([\n",
    "    transforms.Resize(256),\n",
    "    transforms.CenterCrop(224),\n",
    "    transforms.ToTensor(),\n",
    "    transforms.Normalize((0.5, 0.5, 0.5), (0.5, 0.5, 0.5))\n",
    "])\n",
    "\n",
    "trainset = datasets.cifar.CIFAR100(root='./data', download=True, train=True, transform=train_transform)\n",
    "testset = datasets.cifar.CIFAR100(root='./data', download=True, train=False, transform=test_transform)\n",
    "\n",
    "trainloader = DataLoader(trainset, batch_size=batch_size, num_workers=2, shuffle=True)\n",
    "testloader = DataLoader(testset, batch_size=batch_size, num_workers=2, shuffle=False)"
   ]
  },
  {
   "cell_type": "markdown",
   "id": "980b9560",
   "metadata": {
    "id": "CYZSlCYuoFfS",
    "papermill": {
     "duration": 0.01005,
     "end_time": "2024-12-15T11:54:11.639489",
     "exception": false,
     "start_time": "2024-12-15T11:54:11.629439",
     "status": "completed"
    },
    "tags": []
   },
   "source": [
    "# Pre-trained ResNet34 (10 points)"
   ]
  },
  {
   "cell_type": "markdown",
   "id": "5f0390aa",
   "metadata": {
    "id": "C6R__T1woFfS",
    "papermill": {
     "duration": 0.010005,
     "end_time": "2024-12-15T11:54:11.659537",
     "exception": false,
     "start_time": "2024-12-15T11:54:11.649532",
     "status": "completed"
    },
    "tags": []
   },
   "source": [
    "Load a pre-trained ResNet34 and train it on the `CIFAR100` dataset."
   ]
  },
  {
   "cell_type": "code",
   "execution_count": 4,
   "id": "f00ae992",
   "metadata": {
    "cellView": "form",
    "execution": {
     "iopub.execute_input": "2024-12-15T11:54:11.680808Z",
     "iopub.status.busy": "2024-12-15T11:54:11.680497Z",
     "iopub.status.idle": "2024-12-15T11:54:12.832412Z",
     "shell.execute_reply": "2024-12-15T11:54:12.831438Z"
    },
    "id": "4-ORDaFPSpXz",
    "papermill": {
     "duration": 1.165085,
     "end_time": "2024-12-15T11:54:12.834612",
     "exception": false,
     "start_time": "2024-12-15T11:54:11.669527",
     "status": "completed"
    },
    "tags": []
   },
   "outputs": [
    {
     "name": "stderr",
     "output_type": "stream",
     "text": [
      "Downloading: \"https://download.pytorch.org/models/resnet34-b627a593.pth\" to /root/.cache/torch/hub/checkpoints/resnet34-b627a593.pth\n",
      "100%|██████████| 83.3M/83.3M [00:00<00:00, 212MB/s]\n"
     ]
    }
   ],
   "source": [
    "# TODO: Load pretrained ResNet-34 model\n",
    "\n",
    "class ResNet34(nn.Module):\n",
    "    def __init__(self, pretrained=False, num_class=100):\n",
    "        super(ResNet34, self).__init__()\n",
    "        if pretrained:\n",
    "          self.model = models.resnet34(weights=models.ResNet34_Weights.DEFAULT)\n",
    "        else:\n",
    "          self.model = models.resnet34(weights=None)\n",
    "\n",
    "        self.model.fc = nn.Linear(512, num_class)\n",
    "\n",
    "\n",
    "    def forward(self, x):\n",
    "        logits = self.model(x)\n",
    "        return logits\n",
    "\n",
    "model = ResNet34(pretrained=True).to(device)"
   ]
  },
  {
   "cell_type": "code",
   "execution_count": 5,
   "id": "6e394e26",
   "metadata": {
    "execution": {
     "iopub.execute_input": "2024-12-15T11:54:12.856803Z",
     "iopub.status.busy": "2024-12-15T11:54:12.856532Z",
     "iopub.status.idle": "2024-12-15T12:39:07.152163Z",
     "shell.execute_reply": "2024-12-15T12:39:07.151028Z"
    },
    "id": "LQh_yc1koFfT",
    "outputId": "87bd4db7-4786-41e1-a99a-0e3735aaccbe",
    "papermill": {
     "duration": 2694.308634,
     "end_time": "2024-12-15T12:39:07.153963",
     "exception": false,
     "start_time": "2024-12-15T11:54:12.845329",
     "status": "completed"
    },
    "tags": []
   },
   "outputs": [
    {
     "name": "stderr",
     "output_type": "stream",
     "text": [
      "100%|██████████| 391/391 [02:15<00:00,  2.89it/s]"
     ]
    },
    {
     "name": "stdout",
     "output_type": "stream",
     "text": [
      "[train] epoch: 1: average loss=0.02, average accuracy=0.45\n"
     ]
    },
    {
     "name": "stderr",
     "output_type": "stream",
     "text": [
      "\n",
      "100%|██████████| 391/391 [02:14<00:00,  2.91it/s]"
     ]
    },
    {
     "name": "stdout",
     "output_type": "stream",
     "text": [
      "[train] epoch: 2: average loss=0.01, average accuracy=0.62\n"
     ]
    },
    {
     "name": "stderr",
     "output_type": "stream",
     "text": [
      "\n",
      "100%|██████████| 391/391 [02:14<00:00,  2.91it/s]"
     ]
    },
    {
     "name": "stdout",
     "output_type": "stream",
     "text": [
      "[train] epoch: 3: average loss=0.01, average accuracy=0.69\n"
     ]
    },
    {
     "name": "stderr",
     "output_type": "stream",
     "text": [
      "\n",
      "100%|██████████| 391/391 [02:14<00:00,  2.91it/s]"
     ]
    },
    {
     "name": "stdout",
     "output_type": "stream",
     "text": [
      "[train] epoch: 4: average loss=0.01, average accuracy=0.73\n"
     ]
    },
    {
     "name": "stderr",
     "output_type": "stream",
     "text": [
      "\n",
      "100%|██████████| 391/391 [02:14<00:00,  2.91it/s]"
     ]
    },
    {
     "name": "stdout",
     "output_type": "stream",
     "text": [
      "[train] epoch: 5: average loss=0.01, average accuracy=0.77\n"
     ]
    },
    {
     "name": "stderr",
     "output_type": "stream",
     "text": [
      "\n",
      "100%|██████████| 391/391 [02:14<00:00,  2.91it/s]"
     ]
    },
    {
     "name": "stdout",
     "output_type": "stream",
     "text": [
      "[train] epoch: 6: average loss=0.01, average accuracy=0.79\n"
     ]
    },
    {
     "name": "stderr",
     "output_type": "stream",
     "text": [
      "\n",
      "100%|██████████| 391/391 [02:14<00:00,  2.91it/s]"
     ]
    },
    {
     "name": "stdout",
     "output_type": "stream",
     "text": [
      "[train] epoch: 7: average loss=0.00, average accuracy=0.82\n"
     ]
    },
    {
     "name": "stderr",
     "output_type": "stream",
     "text": [
      "\n",
      "100%|██████████| 391/391 [02:14<00:00,  2.91it/s]"
     ]
    },
    {
     "name": "stdout",
     "output_type": "stream",
     "text": [
      "[train] epoch: 8: average loss=0.00, average accuracy=0.84\n"
     ]
    },
    {
     "name": "stderr",
     "output_type": "stream",
     "text": [
      "\n",
      "100%|██████████| 391/391 [02:14<00:00,  2.91it/s]"
     ]
    },
    {
     "name": "stdout",
     "output_type": "stream",
     "text": [
      "[train] epoch: 9: average loss=0.00, average accuracy=0.85\n"
     ]
    },
    {
     "name": "stderr",
     "output_type": "stream",
     "text": [
      "\n",
      "100%|██████████| 391/391 [02:14<00:00,  2.91it/s]"
     ]
    },
    {
     "name": "stdout",
     "output_type": "stream",
     "text": [
      "[train] epoch: 10: average loss=0.00, average accuracy=0.87\n"
     ]
    },
    {
     "name": "stderr",
     "output_type": "stream",
     "text": [
      "\n",
      "100%|██████████| 391/391 [02:14<00:00,  2.91it/s]"
     ]
    },
    {
     "name": "stdout",
     "output_type": "stream",
     "text": [
      "[train] epoch: 11: average loss=0.00, average accuracy=0.89\n"
     ]
    },
    {
     "name": "stderr",
     "output_type": "stream",
     "text": [
      "\n",
      "100%|██████████| 391/391 [02:14<00:00,  2.91it/s]"
     ]
    },
    {
     "name": "stdout",
     "output_type": "stream",
     "text": [
      "[train] epoch: 12: average loss=0.00, average accuracy=0.89\n"
     ]
    },
    {
     "name": "stderr",
     "output_type": "stream",
     "text": [
      "\n",
      "100%|██████████| 391/391 [02:14<00:00,  2.90it/s]"
     ]
    },
    {
     "name": "stdout",
     "output_type": "stream",
     "text": [
      "[train] epoch: 13: average loss=0.00, average accuracy=0.91\n"
     ]
    },
    {
     "name": "stderr",
     "output_type": "stream",
     "text": [
      "\n",
      "100%|██████████| 391/391 [02:14<00:00,  2.91it/s]"
     ]
    },
    {
     "name": "stdout",
     "output_type": "stream",
     "text": [
      "[train] epoch: 14: average loss=0.00, average accuracy=0.91\n"
     ]
    },
    {
     "name": "stderr",
     "output_type": "stream",
     "text": [
      "\n",
      "100%|██████████| 391/391 [02:14<00:00,  2.91it/s]"
     ]
    },
    {
     "name": "stdout",
     "output_type": "stream",
     "text": [
      "[train] epoch: 15: average loss=0.00, average accuracy=0.92\n"
     ]
    },
    {
     "name": "stderr",
     "output_type": "stream",
     "text": [
      "\n",
      "100%|██████████| 391/391 [02:15<00:00,  2.89it/s]"
     ]
    },
    {
     "name": "stdout",
     "output_type": "stream",
     "text": [
      "[train] epoch: 16: average loss=0.00, average accuracy=0.93\n"
     ]
    },
    {
     "name": "stderr",
     "output_type": "stream",
     "text": [
      "\n",
      "100%|██████████| 391/391 [02:14<00:00,  2.90it/s]"
     ]
    },
    {
     "name": "stdout",
     "output_type": "stream",
     "text": [
      "[train] epoch: 17: average loss=0.00, average accuracy=0.93\n"
     ]
    },
    {
     "name": "stderr",
     "output_type": "stream",
     "text": [
      "\n",
      "100%|██████████| 391/391 [02:14<00:00,  2.90it/s]"
     ]
    },
    {
     "name": "stdout",
     "output_type": "stream",
     "text": [
      "[train] epoch: 18: average loss=0.00, average accuracy=0.94\n"
     ]
    },
    {
     "name": "stderr",
     "output_type": "stream",
     "text": [
      "\n",
      "100%|██████████| 391/391 [02:14<00:00,  2.91it/s]"
     ]
    },
    {
     "name": "stdout",
     "output_type": "stream",
     "text": [
      "[train] epoch: 19: average loss=0.00, average accuracy=0.94\n"
     ]
    },
    {
     "name": "stderr",
     "output_type": "stream",
     "text": [
      "\n",
      "100%|██████████| 391/391 [02:14<00:00,  2.90it/s]"
     ]
    },
    {
     "name": "stdout",
     "output_type": "stream",
     "text": [
      "[train] epoch: 20: average loss=0.00, average accuracy=0.94\n"
     ]
    },
    {
     "name": "stderr",
     "output_type": "stream",
     "text": [
      "\n"
     ]
    }
   ],
   "source": [
    "# TDOO: Train the model on CIFAR100\n",
    "def train_step(model, dataloader, loss_fn, optimizer, temperature):\n",
    "    # TODO: Return loss and accuracy for each epoch\n",
    "    model.train()\n",
    "    avg_loss = 0\n",
    "    correct = 0\n",
    "    total = 0\n",
    "\n",
    "    with tqdm(iterable=enumerate(dataloader), total=len(dataloader)) as pbar:\n",
    "      for i, (img, label) in pbar:\n",
    "        img = img.to(device)\n",
    "        label = label.to(device)\n",
    "\n",
    "        optimizer.zero_grad()\n",
    "        logit = model(img)\n",
    "        logit /= temperature\n",
    "        loss = loss_fn(logit, label)\n",
    "        loss.backward()\n",
    "        optimizer.step()\n",
    "\n",
    "        avg_loss += loss.item()\n",
    "        correct += torch.sum(logit.argmax(dim=1) == label).item()\n",
    "        total += img.shape[0]\n",
    "\n",
    "    avg_loss /= total\n",
    "    avg_acc = correct / total\n",
    "    return avg_loss, avg_acc\n",
    "\n",
    "\n",
    "\n",
    "def train_teacher(model, n_epochs, loader=trainloader, temp=1):\n",
    "    # TODO: Log the accuracy and loss for each epoch\n",
    "    optimizer = torch.optim.Adam(model.parameters(), lr=0.001)\n",
    "    loss_fn = nn.CrossEntropyLoss()\n",
    "    for epoch in range(1, n_epochs + 1):\n",
    "      avg_loss, avg_acc = train_step(model, loader, loss_fn, optimizer, temp)\n",
    "      print(f'[train] epoch: {epoch}: average loss={avg_loss:.2f}, average accuracy={avg_acc:.2f}')\n",
    "\n",
    "      if epoch % 10 == 0:\n",
    "          torch.save(model.state_dict(), f'resnet34_{epoch}.pt')\n",
    "\n",
    "train_teacher(model, 20)"
   ]
  },
  {
   "cell_type": "code",
   "execution_count": 6,
   "id": "1a1ae005",
   "metadata": {
    "execution": {
     "iopub.execute_input": "2024-12-15T12:39:07.884929Z",
     "iopub.status.busy": "2024-12-15T12:39:07.884580Z",
     "iopub.status.idle": "2024-12-15T12:39:07.891112Z",
     "shell.execute_reply": "2024-12-15T12:39:07.890290Z"
    },
    "papermill": {
     "duration": 0.353819,
     "end_time": "2024-12-15T12:39:07.892648",
     "exception": false,
     "start_time": "2024-12-15T12:39:07.538829",
     "status": "completed"
    },
    "tags": []
   },
   "outputs": [],
   "source": [
    "def test(model, dataloader=testloader):\n",
    "    # TODO: Return the clean accuracy of the model\n",
    "    model.eval()\n",
    "    correct = 0\n",
    "    total = 0\n",
    "\n",
    "    with tqdm(iterable=enumerate(dataloader), total=len(dataloader)) as pbar:\n",
    "      for i, (img, label) in pbar:\n",
    "        img = img.to(device)\n",
    "        label = label.to(device)\n",
    "\n",
    "        logit = model(img)\n",
    "        prob = F.softmax(logit, dim=1)\n",
    "        correct += torch.sum(prob.argmax(dim=1) == label).item()\n",
    "        total += img.shape[0]\n",
    "\n",
    "    avg_acc = correct / total\n",
    "    return avg_acc"
   ]
  },
  {
   "cell_type": "code",
   "execution_count": 7,
   "id": "519c3b92",
   "metadata": {
    "execution": {
     "iopub.execute_input": "2024-12-15T12:39:08.630078Z",
     "iopub.status.busy": "2024-12-15T12:39:08.629315Z",
     "iopub.status.idle": "2024-12-15T12:39:22.928143Z",
     "shell.execute_reply": "2024-12-15T12:39:22.927041Z"
    },
    "papermill": {
     "duration": 14.648645,
     "end_time": "2024-12-15T12:39:22.929865",
     "exception": false,
     "start_time": "2024-12-15T12:39:08.281220",
     "status": "completed"
    },
    "tags": []
   },
   "outputs": [
    {
     "name": "stderr",
     "output_type": "stream",
     "text": [
      "100%|██████████| 79/79 [00:14<00:00,  5.54it/s]"
     ]
    },
    {
     "name": "stdout",
     "output_type": "stream",
     "text": [
      "Teacher Accuracy 74.70%\n"
     ]
    },
    {
     "name": "stderr",
     "output_type": "stream",
     "text": [
      "\n"
     ]
    }
   ],
   "source": [
    "print(f'Teacher Accuracy {100 * test(model):.2f}%')"
   ]
  },
  {
   "cell_type": "markdown",
   "id": "d4b39b3c",
   "metadata": {
    "id": "18to70m6okvE",
    "papermill": {
     "duration": 0.408558,
     "end_time": "2024-12-15T12:39:23.687214",
     "exception": false,
     "start_time": "2024-12-15T12:39:23.278656",
     "status": "completed"
    },
    "tags": []
   },
   "source": [
    "You might want to save this model to avoid retraining."
   ]
  },
  {
   "cell_type": "markdown",
   "id": "eaac1c74",
   "metadata": {
    "id": "j0ejNyFSoFfT",
    "papermill": {
     "duration": 0.344864,
     "end_time": "2024-12-15T12:39:24.381200",
     "exception": false,
     "start_time": "2024-12-15T12:39:24.036336",
     "status": "completed"
    },
    "tags": []
   },
   "source": [
    "# Model Extraction (20 points)"
   ]
  },
  {
   "cell_type": "markdown",
   "id": "43236a6d",
   "metadata": {
    "id": "kOIjKOM4oFfT",
    "papermill": {
     "duration": 0.386862,
     "end_time": "2024-12-15T12:39:25.114310",
     "exception": false,
     "start_time": "2024-12-15T12:39:24.727448",
     "status": "completed"
    },
    "tags": []
   },
   "source": [
    "Here we use knowledge distillation to extract models. If you are confused after the instructions take a look at the next section to understand what we are trying to do. The general steps in Knowledge Distillation are as follows:\n",
    "\n",
    "1. Set the victim (teacher) to evaluation mode and the attacker (student) to training mode.\n",
    "2. Use the victim to find the logits for each batch of inputs.\n",
    "3. Predict the attackers output for the same batch of inputs.\n",
    "4. Define and reduce the loss function over the difference between logits from the victim and attacker (use KL-Divergence, ...)\n",
    "5. Repeat steps 2-4 for the number of epochs.\n",
    "\n",
    "Feel free to check out [Distilling the Knowledge in a Neural Network](https://arxiv.org/abs/1503.02531) to get a better sense of the process."
   ]
  },
  {
   "cell_type": "code",
   "execution_count": 8,
   "id": "51aa3dcd",
   "metadata": {
    "execution": {
     "iopub.execute_input": "2024-12-15T12:39:25.809281Z",
     "iopub.status.busy": "2024-12-15T12:39:25.808901Z",
     "iopub.status.idle": "2024-12-15T12:39:25.816303Z",
     "shell.execute_reply": "2024-12-15T12:39:25.815451Z"
    },
    "id": "HNPHv7IYoFfT",
    "papermill": {
     "duration": 0.358063,
     "end_time": "2024-12-15T12:39:25.817834",
     "exception": false,
     "start_time": "2024-12-15T12:39:25.459771",
     "status": "completed"
    },
    "tags": []
   },
   "outputs": [],
   "source": [
    "def knowledge_distillation(victim_model, attacker_model, loader, optimizer, epochs, T):\n",
    "    # TODO\n",
    "    for epoch in range(1, epochs + 1):\n",
    "        attacker_model.train()\n",
    "        victim_model.eval()\n",
    "    \n",
    "        avg_loss = 0\n",
    "        total = 0\n",
    "    \n",
    "        with tqdm(iterable=enumerate(loader), total=len(loader)) as pbar:\n",
    "          for i, (img, label) in pbar:\n",
    "            img = img.to(device)\n",
    "            label = label.to(device)\n",
    "    \n",
    "            optimizer.zero_grad()\n",
    "            with torch.no_grad():\n",
    "              teacher_logits = victim_model(img)\n",
    "    \n",
    "            student_logits = attacker_model(img)\n",
    "    \n",
    "            soft_targets = F.softmax(teacher_logits / T, dim=-1)\n",
    "            soft_prob = F.log_softmax(student_logits / T, dim=-1)\n",
    "    \n",
    "            soft_targets_loss = torch.sum(soft_targets * (soft_targets.log() - soft_prob)) / soft_prob.size()[0] * (T**2)\n",
    "\n",
    "\n",
    "            soft_targets_loss.backward()\n",
    "            optimizer.step()\n",
    "    \n",
    "            avg_loss += soft_targets_loss.item()\n",
    "            total += img.shape[0]\n",
    "    \n",
    "        avg_loss /= total\n",
    "        print(f'[train student] epoch: {epoch}: average loss={avg_loss:.4f}')\n",
    "    "
   ]
  },
  {
   "cell_type": "markdown",
   "id": "6197e7e3",
   "metadata": {
    "id": "Ve3e6-3goFfU",
    "papermill": {
     "duration": 0.345787,
     "end_time": "2024-12-15T12:39:26.554711",
     "exception": false,
     "start_time": "2024-12-15T12:39:26.208924",
     "status": "completed"
    },
    "tags": []
   },
   "source": [
    "Can you explain how we should set the temperature? Why is this choice appropriate for model extraction?\n",
    "\n",
    "`your response:` If we set the temperature a high value (like 100), the model tries to learn to learn 100x values of logits of the original model in order to have the same probabilities (softmax layer output) of the original model. Then, when we set the T=1 at the test time, the 100x logits result in the confident probabilities (almost 0-1 values) for predicting the right class."
   ]
  },
  {
   "cell_type": "markdown",
   "id": "2c1cdf3a",
   "metadata": {
    "id": "vmNbBJtcoFfU",
    "papermill": {
     "duration": 0.390282,
     "end_time": "2024-12-15T12:39:27.291095",
     "exception": false,
     "start_time": "2024-12-15T12:39:26.900813",
     "status": "completed"
    },
    "tags": []
   },
   "source": [
    "# Attack Transferability (20 points)"
   ]
  },
  {
   "cell_type": "markdown",
   "id": "ac16c149",
   "metadata": {
    "id": "ZsFAf0V4oFfU",
    "papermill": {
     "duration": 0.346163,
     "end_time": "2024-12-15T12:39:27.981370",
     "exception": false,
     "start_time": "2024-12-15T12:39:27.635207",
     "status": "completed"
    },
    "tags": []
   },
   "source": [
    "Implement attacks such as FGSM or PGD, you can use code from previous homeworks or readily available libraries."
   ]
  },
  {
   "cell_type": "code",
   "execution_count": 9,
   "id": "3b7efba5",
   "metadata": {
    "execution": {
     "iopub.execute_input": "2024-12-15T12:39:28.724672Z",
     "iopub.status.busy": "2024-12-15T12:39:28.723966Z",
     "iopub.status.idle": "2024-12-15T12:39:28.732704Z",
     "shell.execute_reply": "2024-12-15T12:39:28.732016Z"
    },
    "id": "F7nVpx-xoFfU",
    "papermill": {
     "duration": 0.364425,
     "end_time": "2024-12-15T12:39:28.734282",
     "exception": false,
     "start_time": "2024-12-15T12:39:28.369857",
     "status": "completed"
    },
    "tags": []
   },
   "outputs": [],
   "source": [
    "# TODO: Load or implement attacks\n",
    "\n",
    "def attack_fgsm(model, x, y, epsilon):\n",
    "    # TODO: Return perturbed input\n",
    "    criterion = nn.CrossEntropyLoss()\n",
    "\n",
    "    x.requires_grad = True\n",
    "    model.zero_grad()\n",
    "    logit = model(x)\n",
    "    loss = criterion(logit, y)\n",
    "    loss.backward()\n",
    "\n",
    "    adv_x = x + epsilon*x.grad.data.sign()\n",
    "    adv_x = torch.clamp(adv_x, 0, 1)\n",
    "\n",
    "    return adv_x\n",
    "\n",
    "\n",
    "def attack_pgd(model, x, y, epsilon, alpha=0.2, num_iters=10):\n",
    "    # TODO: Return perturbed input\n",
    "    criterion = nn.CrossEntropyLoss()\n",
    "    pert_x = x.clone().to(device)\n",
    "\n",
    "    for _ in range(num_iters):\n",
    "      pert_x.requires_grad = True\n",
    "      logit = model(pert_x)\n",
    "\n",
    "      model.zero_grad()\n",
    "      loss = criterion(logit, y)\n",
    "      loss.backward()\n",
    "\n",
    "      adv_x = pert_x + alpha*pert_x.grad.data.sign()\n",
    "      eta = torch.clamp(adv_x - x, min=-epsilon, max=epsilon)\n",
    "      pert_x = torch.clamp(x + eta, min=0, max=1).detach_()\n",
    "\n",
    "    return pert_x\n",
    "\n",
    "\n",
    "\n",
    "def test_attack(model, epsilon, attack=attack_fgsm, loader=testloader):\n",
    "    # TODO: Return the robust accuracy for FGSM or PGD\n",
    "    model.eval()\n",
    "\n",
    "    correct = 0\n",
    "    total = 0\n",
    "    with tqdm(iterable=enumerate(loader), total=len(loader)) as pbar:\n",
    "      for i, (img, label) in pbar:\n",
    "        img = img.to(device)\n",
    "        label = label.to(device)\n",
    "\n",
    "        adv_img = attack(model, img, label, epsilon)\n",
    "        logit = model(adv_img)\n",
    "\n",
    "        prob = F.softmax(logit, dim=-1)\n",
    "        correct += torch.sum(prob.argmax(dim=1) == label).item()\n",
    "        total += img.shape[0]\n",
    "\n",
    "    avg_acc = correct / total\n",
    "    return avg_acc"
   ]
  },
  {
   "cell_type": "markdown",
   "id": "17a32063",
   "metadata": {
    "id": "GxYW_sdvoFfU",
    "papermill": {
     "duration": 0.386294,
     "end_time": "2024-12-15T12:39:29.473729",
     "exception": false,
     "start_time": "2024-12-15T12:39:29.087435",
     "status": "completed"
    },
    "tags": []
   },
   "source": [
    "Fill in the following function to attack a model and report the accuracy of the victim on the adversarial examples generated using the available model."
   ]
  },
  {
   "cell_type": "code",
   "execution_count": 10,
   "id": "63345b3f",
   "metadata": {
    "execution": {
     "iopub.execute_input": "2024-12-15T12:39:30.168827Z",
     "iopub.status.busy": "2024-12-15T12:39:30.167964Z",
     "iopub.status.idle": "2024-12-15T12:39:30.173706Z",
     "shell.execute_reply": "2024-12-15T12:39:30.173030Z"
    },
    "id": "dk01WXWHoFfU",
    "papermill": {
     "duration": 0.356878,
     "end_time": "2024-12-15T12:39:30.175332",
     "exception": false,
     "start_time": "2024-12-15T12:39:29.818454",
     "status": "completed"
    },
    "tags": []
   },
   "outputs": [],
   "source": [
    "def transferability_attack(model, victim, loader, attack, eps):\n",
    "    # TODO\n",
    "    victim.eval()\n",
    "\n",
    "    correct = 0\n",
    "    total = 0\n",
    "    with tqdm(iterable=enumerate(loader), total=len(loader)) as pbar:\n",
    "      for i, (img, label) in pbar:\n",
    "        img = img.to(device)\n",
    "        label = label.to(device)\n",
    "\n",
    "        adv_img = attack(model, img, label, eps)\n",
    "        logit = victim(adv_img)\n",
    "\n",
    "        prob = F.softmax(logit, dim=-1)\n",
    "        correct += torch.sum(prob.argmax(dim=1) == label).item()\n",
    "        total += img.shape[0]\n",
    "\n",
    "    avg_acc = correct / total\n",
    "    return avg_acc"
   ]
  },
  {
   "cell_type": "markdown",
   "id": "26e6440b",
   "metadata": {
    "id": "seJyURproFfU",
    "papermill": {
     "duration": 0.347387,
     "end_time": "2024-12-15T12:39:30.909533",
     "exception": false,
     "start_time": "2024-12-15T12:39:30.562146",
     "status": "completed"
    },
    "tags": []
   },
   "source": [
    "# CIFAR10 (35 points)"
   ]
  },
  {
   "cell_type": "markdown",
   "id": "c983cb1d",
   "metadata": {
    "id": "XZAp7PHEoFfU",
    "papermill": {
     "duration": 0.383775,
     "end_time": "2024-12-15T12:39:31.637396",
     "exception": false,
     "start_time": "2024-12-15T12:39:31.253621",
     "status": "completed"
    },
    "tags": []
   },
   "source": [
    "## Loading and Exploration (5 points)"
   ]
  },
  {
   "cell_type": "markdown",
   "id": "e13ac056",
   "metadata": {
    "id": "EcEKy-3CoFfU",
    "papermill": {
     "duration": 0.393178,
     "end_time": "2024-12-15T12:39:32.376936",
     "exception": false,
     "start_time": "2024-12-15T12:39:31.983758",
     "status": "completed"
    },
    "tags": []
   },
   "source": [
    "First load the `CIFAR10` dataset."
   ]
  },
  {
   "cell_type": "code",
   "execution_count": 11,
   "id": "66f07a91",
   "metadata": {
    "execution": {
     "iopub.execute_input": "2024-12-15T12:39:33.070849Z",
     "iopub.status.busy": "2024-12-15T12:39:33.070506Z",
     "iopub.status.idle": "2024-12-15T12:39:39.979160Z",
     "shell.execute_reply": "2024-12-15T12:39:39.978480Z"
    },
    "id": "P8RivTCsoFfV",
    "papermill": {
     "duration": 7.258522,
     "end_time": "2024-12-15T12:39:39.981132",
     "exception": false,
     "start_time": "2024-12-15T12:39:32.722610",
     "status": "completed"
    },
    "tags": []
   },
   "outputs": [
    {
     "name": "stdout",
     "output_type": "stream",
     "text": [
      "Downloading https://www.cs.toronto.edu/~kriz/cifar-10-python.tar.gz to ./data/cifar-10-python.tar.gz\n"
     ]
    },
    {
     "name": "stderr",
     "output_type": "stream",
     "text": [
      "100%|██████████| 170498071/170498071 [00:03<00:00, 48118380.38it/s]\n"
     ]
    },
    {
     "name": "stdout",
     "output_type": "stream",
     "text": [
      "Extracting ./data/cifar-10-python.tar.gz to ./data\n",
      "Files already downloaded and verified\n"
     ]
    }
   ],
   "source": [
    "# TODO: Load CIFAR-10 dataset\n",
    "\n",
    "\n",
    "cifar10_trainset = datasets.cifar.CIFAR10(root='./data', train=True, download=True, transform=train_transform)\n",
    "cifar10_trainloader = DataLoader(cifar10_trainset, batch_size=batch_size, shuffle=True, num_workers=2)\n",
    "\n",
    "cifar10_testset = datasets.cifar.CIFAR10(root='./data', train=False, download=True, transform=test_transform)\n",
    "cifar10_testloader = DataLoader(cifar10_testset, batch_size=batch_size, shuffle=False, num_workers=2)"
   ]
  },
  {
   "cell_type": "code",
   "execution_count": 12,
   "id": "1c0552fd",
   "metadata": {
    "execution": {
     "iopub.execute_input": "2024-12-15T12:39:40.715099Z",
     "iopub.status.busy": "2024-12-15T12:39:40.714737Z",
     "iopub.status.idle": "2024-12-15T12:39:40.719210Z",
     "shell.execute_reply": "2024-12-15T12:39:40.718416Z"
    },
    "papermill": {
     "duration": 0.394421,
     "end_time": "2024-12-15T12:39:40.720776",
     "exception": false,
     "start_time": "2024-12-15T12:39:40.326355",
     "status": "completed"
    },
    "tags": []
   },
   "outputs": [],
   "source": [
    "combined_dataset = ConcatDataset([cifar10_trainset, cifar10_testset])\n",
    "combined_loader = DataLoader(combined_dataset, batch_size=batch_size, shuffle=False, num_workers=2)"
   ]
  },
  {
   "cell_type": "markdown",
   "id": "741549c6",
   "metadata": {
    "id": "81VUh9fcoFfV",
    "papermill": {
     "duration": 0.34835,
     "end_time": "2024-12-15T12:39:41.430219",
     "exception": false,
     "start_time": "2024-12-15T12:39:41.081869",
     "status": "completed"
    },
    "tags": []
   },
   "source": [
    "Which classes from the `CIFAR10` dataset are present in `CIFAR100` classes?"
   ]
  },
  {
   "cell_type": "code",
   "execution_count": 13,
   "id": "a0e79680",
   "metadata": {
    "execution": {
     "iopub.execute_input": "2024-12-15T12:39:42.187760Z",
     "iopub.status.busy": "2024-12-15T12:39:42.187086Z",
     "iopub.status.idle": "2024-12-15T12:39:42.191859Z",
     "shell.execute_reply": "2024-12-15T12:39:42.191036Z"
    },
    "id": "-TqKW1_LoFfV",
    "papermill": {
     "duration": 0.358768,
     "end_time": "2024-12-15T12:39:42.193532",
     "exception": false,
     "start_time": "2024-12-15T12:39:41.834764",
     "status": "completed"
    },
    "tags": []
   },
   "outputs": [
    {
     "name": "stdout",
     "output_type": "stream",
     "text": [
      "[]\n"
     ]
    }
   ],
   "source": [
    "# TODO: Check if classes are present in both datasets\n",
    "\n",
    "intersection = [x for x in cifar10_trainset.classes if x.lower() in trainset.classes]\n",
    "print(intersection)"
   ]
  },
  {
   "cell_type": "markdown",
   "id": "b018a40e",
   "metadata": {
    "id": "QLRRJK0DoFfV",
    "papermill": {
     "duration": 0.399646,
     "end_time": "2024-12-15T12:39:43.004076",
     "exception": false,
     "start_time": "2024-12-15T12:39:42.604430",
     "status": "completed"
    },
    "tags": []
   },
   "source": [
    "Now use the test dataset from `CIFAR10` to extract the model."
   ]
  },
  {
   "cell_type": "markdown",
   "id": "060378a0",
   "metadata": {
    "id": "obfTulTSoFfV",
    "papermill": {
     "duration": 0.350085,
     "end_time": "2024-12-15T12:39:43.752565",
     "exception": false,
     "start_time": "2024-12-15T12:39:43.402480",
     "status": "completed"
    },
    "tags": []
   },
   "source": [
    "## Pre-trained ResNet18 (10 points)"
   ]
  },
  {
   "cell_type": "markdown",
   "id": "5eb5c153",
   "metadata": {
    "id": "0ZNW4byeoFfV",
    "papermill": {
     "duration": 0.348926,
     "end_time": "2024-12-15T12:39:44.511755",
     "exception": false,
     "start_time": "2024-12-15T12:39:44.162829",
     "status": "completed"
    },
    "tags": []
   },
   "source": [
    "Use the pre-trained ResNet18 dataset and extract the model using knowledge distillation."
   ]
  },
  {
   "cell_type": "code",
   "execution_count": 14,
   "id": "222ae80a",
   "metadata": {
    "execution": {
     "iopub.execute_input": "2024-12-15T12:39:45.250667Z",
     "iopub.status.busy": "2024-12-15T12:39:45.249858Z",
     "iopub.status.idle": "2024-12-15T12:48:06.776930Z",
     "shell.execute_reply": "2024-12-15T12:48:06.775854Z"
    },
    "id": "qmlvi009oFfV",
    "papermill": {
     "duration": 501.878812,
     "end_time": "2024-12-15T12:48:06.778637",
     "exception": false,
     "start_time": "2024-12-15T12:39:44.899825",
     "status": "completed"
    },
    "tags": []
   },
   "outputs": [
    {
     "name": "stderr",
     "output_type": "stream",
     "text": [
      "Downloading: \"https://download.pytorch.org/models/resnet18-f37072fd.pth\" to /root/.cache/torch/hub/checkpoints/resnet18-f37072fd.pth\n",
      "100%|██████████| 44.7M/44.7M [00:00<00:00, 180MB/s]\n",
      "100%|██████████| 79/79 [00:25<00:00,  3.15it/s]"
     ]
    },
    {
     "name": "stdout",
     "output_type": "stream",
     "text": [
      "[train student] epoch: 1: average loss=0.0591\n"
     ]
    },
    {
     "name": "stderr",
     "output_type": "stream",
     "text": [
      "\n",
      "100%|██████████| 79/79 [00:25<00:00,  3.16it/s]"
     ]
    },
    {
     "name": "stdout",
     "output_type": "stream",
     "text": [
      "[train student] epoch: 2: average loss=0.0509\n"
     ]
    },
    {
     "name": "stderr",
     "output_type": "stream",
     "text": [
      "\n",
      "100%|██████████| 79/79 [00:25<00:00,  3.16it/s]"
     ]
    },
    {
     "name": "stdout",
     "output_type": "stream",
     "text": [
      "[train student] epoch: 3: average loss=0.0472\n"
     ]
    },
    {
     "name": "stderr",
     "output_type": "stream",
     "text": [
      "\n",
      "100%|██████████| 79/79 [00:25<00:00,  3.16it/s]"
     ]
    },
    {
     "name": "stdout",
     "output_type": "stream",
     "text": [
      "[train student] epoch: 4: average loss=0.0449\n"
     ]
    },
    {
     "name": "stderr",
     "output_type": "stream",
     "text": [
      "\n",
      "100%|██████████| 79/79 [00:24<00:00,  3.17it/s]"
     ]
    },
    {
     "name": "stdout",
     "output_type": "stream",
     "text": [
      "[train student] epoch: 5: average loss=0.0427\n"
     ]
    },
    {
     "name": "stderr",
     "output_type": "stream",
     "text": [
      "\n",
      "100%|██████████| 79/79 [00:24<00:00,  3.16it/s]"
     ]
    },
    {
     "name": "stdout",
     "output_type": "stream",
     "text": [
      "[train student] epoch: 6: average loss=0.0404\n"
     ]
    },
    {
     "name": "stderr",
     "output_type": "stream",
     "text": [
      "\n",
      "100%|██████████| 79/79 [00:24<00:00,  3.16it/s]"
     ]
    },
    {
     "name": "stdout",
     "output_type": "stream",
     "text": [
      "[train student] epoch: 7: average loss=0.0383\n"
     ]
    },
    {
     "name": "stderr",
     "output_type": "stream",
     "text": [
      "\n",
      "100%|██████████| 79/79 [00:24<00:00,  3.16it/s]"
     ]
    },
    {
     "name": "stdout",
     "output_type": "stream",
     "text": [
      "[train student] epoch: 8: average loss=0.0362\n"
     ]
    },
    {
     "name": "stderr",
     "output_type": "stream",
     "text": [
      "\n",
      "100%|██████████| 79/79 [00:24<00:00,  3.16it/s]"
     ]
    },
    {
     "name": "stdout",
     "output_type": "stream",
     "text": [
      "[train student] epoch: 9: average loss=0.0342\n"
     ]
    },
    {
     "name": "stderr",
     "output_type": "stream",
     "text": [
      "\n",
      "100%|██████████| 79/79 [00:24<00:00,  3.16it/s]"
     ]
    },
    {
     "name": "stdout",
     "output_type": "stream",
     "text": [
      "[train student] epoch: 10: average loss=0.0320\n"
     ]
    },
    {
     "name": "stderr",
     "output_type": "stream",
     "text": [
      "\n",
      "100%|██████████| 79/79 [00:25<00:00,  3.15it/s]"
     ]
    },
    {
     "name": "stdout",
     "output_type": "stream",
     "text": [
      "[train student] epoch: 11: average loss=0.0337\n"
     ]
    },
    {
     "name": "stderr",
     "output_type": "stream",
     "text": [
      "\n",
      "100%|██████████| 79/79 [00:25<00:00,  3.16it/s]"
     ]
    },
    {
     "name": "stdout",
     "output_type": "stream",
     "text": [
      "[train student] epoch: 12: average loss=0.0307\n"
     ]
    },
    {
     "name": "stderr",
     "output_type": "stream",
     "text": [
      "\n",
      "100%|██████████| 79/79 [00:24<00:00,  3.16it/s]"
     ]
    },
    {
     "name": "stdout",
     "output_type": "stream",
     "text": [
      "[train student] epoch: 13: average loss=0.0283\n"
     ]
    },
    {
     "name": "stderr",
     "output_type": "stream",
     "text": [
      "\n",
      "100%|██████████| 79/79 [00:24<00:00,  3.16it/s]"
     ]
    },
    {
     "name": "stdout",
     "output_type": "stream",
     "text": [
      "[train student] epoch: 14: average loss=0.0264\n"
     ]
    },
    {
     "name": "stderr",
     "output_type": "stream",
     "text": [
      "\n",
      "100%|██████████| 79/79 [00:25<00:00,  3.16it/s]"
     ]
    },
    {
     "name": "stdout",
     "output_type": "stream",
     "text": [
      "[train student] epoch: 15: average loss=0.0248\n"
     ]
    },
    {
     "name": "stderr",
     "output_type": "stream",
     "text": [
      "\n",
      "100%|██████████| 79/79 [00:25<00:00,  3.15it/s]"
     ]
    },
    {
     "name": "stdout",
     "output_type": "stream",
     "text": [
      "[train student] epoch: 16: average loss=0.0251\n"
     ]
    },
    {
     "name": "stderr",
     "output_type": "stream",
     "text": [
      "\n",
      "100%|██████████| 79/79 [00:24<00:00,  3.16it/s]"
     ]
    },
    {
     "name": "stdout",
     "output_type": "stream",
     "text": [
      "[train student] epoch: 17: average loss=0.0229\n"
     ]
    },
    {
     "name": "stderr",
     "output_type": "stream",
     "text": [
      "\n",
      "100%|██████████| 79/79 [00:25<00:00,  3.15it/s]"
     ]
    },
    {
     "name": "stdout",
     "output_type": "stream",
     "text": [
      "[train student] epoch: 18: average loss=0.0206\n"
     ]
    },
    {
     "name": "stderr",
     "output_type": "stream",
     "text": [
      "\n",
      "100%|██████████| 79/79 [00:24<00:00,  3.16it/s]"
     ]
    },
    {
     "name": "stdout",
     "output_type": "stream",
     "text": [
      "[train student] epoch: 19: average loss=0.0197\n"
     ]
    },
    {
     "name": "stderr",
     "output_type": "stream",
     "text": [
      "\n",
      "100%|██████████| 79/79 [00:24<00:00,  3.16it/s]"
     ]
    },
    {
     "name": "stdout",
     "output_type": "stream",
     "text": [
      "[train student] epoch: 20: average loss=0.0190\n"
     ]
    },
    {
     "name": "stderr",
     "output_type": "stream",
     "text": [
      "\n"
     ]
    }
   ],
   "source": [
    "# TODO: Load pretrained ResNet-18 model\n",
    "model1 = models.resnet18(weights=models.ResNet18_Weights.DEFAULT).to(device)\n",
    "model1.fc = nn.Linear(512, 100).to(device)\n",
    "# TODO: Extract the model\n",
    "\n",
    "optimizer = torch.optim.Adam(model1.parameters(), lr=0.01)\n",
    "knowledge_distillation(model, model1, cifar10_testloader, optimizer, 20, 100)"
   ]
  },
  {
   "cell_type": "markdown",
   "id": "cff6f59a",
   "metadata": {
    "id": "6lfsMRh7oFfV",
    "papermill": {
     "duration": 0.465041,
     "end_time": "2024-12-15T12:48:07.667171",
     "exception": false,
     "start_time": "2024-12-15T12:48:07.202130",
     "status": "completed"
    },
    "tags": []
   },
   "source": [
    "What is the accuracy of the extracted model on the `CIFAR100` test set?"
   ]
  },
  {
   "cell_type": "code",
   "execution_count": 15,
   "id": "3a508ca7",
   "metadata": {
    "execution": {
     "iopub.execute_input": "2024-12-15T12:48:08.590335Z",
     "iopub.status.busy": "2024-12-15T12:48:08.589445Z",
     "iopub.status.idle": "2024-12-15T12:52:07.311914Z",
     "shell.execute_reply": "2024-12-15T12:52:07.310806Z"
    },
    "id": "iHMbP7B9oFfV",
    "papermill": {
     "duration": 239.227697,
     "end_time": "2024-12-15T12:52:07.314276",
     "exception": false,
     "start_time": "2024-12-15T12:48:08.086579",
     "status": "completed"
    },
    "tags": []
   },
   "outputs": [
    {
     "name": "stderr",
     "output_type": "stream",
     "text": [
      "100%|██████████| 79/79 [00:11<00:00,  6.60it/s]"
     ]
    },
    {
     "name": "stdout",
     "output_type": "stream",
     "text": [
      "Clean Accuracy on cifar100: 12.39%\n"
     ]
    },
    {
     "name": "stderr",
     "output_type": "stream",
     "text": [
      "\n",
      "100%|██████████| 79/79 [00:27<00:00,  2.91it/s]"
     ]
    },
    {
     "name": "stdout",
     "output_type": "stream",
     "text": [
      "Robust Accuracy with FGSM epsilon=8/255 on cifar100: 1.84%\n"
     ]
    },
    {
     "name": "stderr",
     "output_type": "stream",
     "text": [
      "\n",
      "100%|██████████| 79/79 [03:19<00:00,  2.52s/it]"
     ]
    },
    {
     "name": "stdout",
     "output_type": "stream",
     "text": [
      "Robust Accuracy with PGD epsilon=8/255, iters=10 on cifar100: 0.30%\n"
     ]
    },
    {
     "name": "stderr",
     "output_type": "stream",
     "text": [
      "\n"
     ]
    }
   ],
   "source": [
    "# TODO: Report accuracy on CIFAR100\n",
    "print(f'Clean Accuracy on cifar100: {100 * test(model1, testloader):.2f}%')\n",
    "print(f'Robust Accuracy with FGSM epsilon=8/255 on cifar100: {100 * test_attack(model1, 8/255, attack_fgsm):.2f}%')\n",
    "print(f'Robust Accuracy with PGD epsilon=8/255, iters=10 on cifar100: {100 * test_attack(model1, 8/255, attack_pgd):.2f}%')"
   ]
  },
  {
   "cell_type": "code",
   "execution_count": 16,
   "id": "7966feb7",
   "metadata": {
    "execution": {
     "iopub.execute_input": "2024-12-15T12:52:08.230387Z",
     "iopub.status.busy": "2024-12-15T12:52:08.230050Z",
     "iopub.status.idle": "2024-12-15T12:56:00.270020Z",
     "shell.execute_reply": "2024-12-15T12:56:00.268959Z"
    },
    "papermill": {
     "duration": 232.527605,
     "end_time": "2024-12-15T12:56:00.272088",
     "exception": false,
     "start_time": "2024-12-15T12:52:07.744483",
     "status": "completed"
    },
    "tags": []
   },
   "outputs": [
    {
     "name": "stderr",
     "output_type": "stream",
     "text": [
      "100%|██████████| 79/79 [00:29<00:00,  2.65it/s]"
     ]
    },
    {
     "name": "stdout",
     "output_type": "stream",
     "text": [
      "transfer attack accuracy with FGSM epsilon=8/255: 19.73%\n"
     ]
    },
    {
     "name": "stderr",
     "output_type": "stream",
     "text": [
      "\n",
      "100%|██████████| 79/79 [03:22<00:00,  2.56s/it]"
     ]
    },
    {
     "name": "stdout",
     "output_type": "stream",
     "text": [
      "transfer attack accuracy with PGD epsilon=8/255: 19.53%\n"
     ]
    },
    {
     "name": "stderr",
     "output_type": "stream",
     "text": [
      "\n"
     ]
    }
   ],
   "source": [
    "print(f'transfer attack accuracy with FGSM epsilon=8/255: {100 * transferability_attack(model1, model, testloader, attack_fgsm, 8/255):.2f}%')\n",
    "print(f'transfer attack accuracy with PGD epsilon=8/255: {100 * transferability_attack(model1, model, testloader, attack_pgd, 8/255):.2f}%')"
   ]
  },
  {
   "cell_type": "code",
   "execution_count": 17,
   "id": "1e11415b",
   "metadata": {
    "execution": {
     "iopub.execute_input": "2024-12-15T12:56:01.217903Z",
     "iopub.status.busy": "2024-12-15T12:56:01.217230Z",
     "iopub.status.idle": "2024-12-15T12:56:01.292712Z",
     "shell.execute_reply": "2024-12-15T12:56:01.291799Z"
    },
    "papermill": {
     "duration": 0.584221,
     "end_time": "2024-12-15T12:56:01.295348",
     "exception": false,
     "start_time": "2024-12-15T12:56:00.711127",
     "status": "completed"
    },
    "tags": []
   },
   "outputs": [],
   "source": [
    "torch.save(model1.state_dict(), 'model1.pt')"
   ]
  },
  {
   "cell_type": "markdown",
   "id": "151f398f",
   "metadata": {
    "id": "xXvu0uamoFfV",
    "papermill": {
     "duration": 0.439411,
     "end_time": "2024-12-15T12:56:02.221930",
     "exception": false,
     "start_time": "2024-12-15T12:56:01.782519",
     "status": "completed"
    },
    "tags": []
   },
   "source": [
    "## ResNet18 (10 points)"
   ]
  },
  {
   "cell_type": "markdown",
   "id": "204c11bb",
   "metadata": {
    "id": "yUFFATuQoFfV",
    "papermill": {
     "duration": 0.436575,
     "end_time": "2024-12-15T12:56:03.134943",
     "exception": false,
     "start_time": "2024-12-15T12:56:02.698368",
     "status": "completed"
    },
    "tags": []
   },
   "source": [
    "Repeat the pervious steps but without pre-training."
   ]
  },
  {
   "cell_type": "code",
   "execution_count": 18,
   "id": "9af42be1",
   "metadata": {
    "execution": {
     "iopub.execute_input": "2024-12-15T12:56:04.077647Z",
     "iopub.status.busy": "2024-12-15T12:56:04.077304Z",
     "iopub.status.idle": "2024-12-15T13:04:25.331720Z",
     "shell.execute_reply": "2024-12-15T13:04:25.330562Z"
    },
    "id": "HkDPZD4KoFfW",
    "papermill": {
     "duration": 501.691224,
     "end_time": "2024-12-15T13:04:25.333699",
     "exception": false,
     "start_time": "2024-12-15T12:56:03.642475",
     "status": "completed"
    },
    "tags": []
   },
   "outputs": [
    {
     "name": "stderr",
     "output_type": "stream",
     "text": [
      "100%|██████████| 79/79 [00:24<00:00,  3.17it/s]"
     ]
    },
    {
     "name": "stdout",
     "output_type": "stream",
     "text": [
      "[train student] epoch: 1: average loss=0.0560\n"
     ]
    },
    {
     "name": "stderr",
     "output_type": "stream",
     "text": [
      "\n",
      "100%|██████████| 79/79 [00:24<00:00,  3.16it/s]"
     ]
    },
    {
     "name": "stdout",
     "output_type": "stream",
     "text": [
      "[train student] epoch: 2: average loss=0.0489\n"
     ]
    },
    {
     "name": "stderr",
     "output_type": "stream",
     "text": [
      "\n",
      "100%|██████████| 79/79 [00:25<00:00,  3.15it/s]"
     ]
    },
    {
     "name": "stdout",
     "output_type": "stream",
     "text": [
      "[train student] epoch: 3: average loss=0.0452\n"
     ]
    },
    {
     "name": "stderr",
     "output_type": "stream",
     "text": [
      "\n",
      "100%|██████████| 79/79 [00:25<00:00,  3.16it/s]"
     ]
    },
    {
     "name": "stdout",
     "output_type": "stream",
     "text": [
      "[train student] epoch: 4: average loss=0.0427\n"
     ]
    },
    {
     "name": "stderr",
     "output_type": "stream",
     "text": [
      "\n",
      "100%|██████████| 79/79 [00:24<00:00,  3.16it/s]"
     ]
    },
    {
     "name": "stdout",
     "output_type": "stream",
     "text": [
      "[train student] epoch: 5: average loss=0.0405\n"
     ]
    },
    {
     "name": "stderr",
     "output_type": "stream",
     "text": [
      "\n",
      "100%|██████████| 79/79 [00:24<00:00,  3.17it/s]"
     ]
    },
    {
     "name": "stdout",
     "output_type": "stream",
     "text": [
      "[train student] epoch: 6: average loss=0.0384\n"
     ]
    },
    {
     "name": "stderr",
     "output_type": "stream",
     "text": [
      "\n",
      "100%|██████████| 79/79 [00:25<00:00,  3.15it/s]"
     ]
    },
    {
     "name": "stdout",
     "output_type": "stream",
     "text": [
      "[train student] epoch: 7: average loss=0.0363\n"
     ]
    },
    {
     "name": "stderr",
     "output_type": "stream",
     "text": [
      "\n",
      "100%|██████████| 79/79 [00:25<00:00,  3.16it/s]"
     ]
    },
    {
     "name": "stdout",
     "output_type": "stream",
     "text": [
      "[train student] epoch: 8: average loss=0.0343\n"
     ]
    },
    {
     "name": "stderr",
     "output_type": "stream",
     "text": [
      "\n",
      "100%|██████████| 79/79 [00:25<00:00,  3.16it/s]"
     ]
    },
    {
     "name": "stdout",
     "output_type": "stream",
     "text": [
      "[train student] epoch: 9: average loss=0.0323\n"
     ]
    },
    {
     "name": "stderr",
     "output_type": "stream",
     "text": [
      "\n",
      "100%|██████████| 79/79 [00:24<00:00,  3.16it/s]"
     ]
    },
    {
     "name": "stdout",
     "output_type": "stream",
     "text": [
      "[train student] epoch: 10: average loss=0.0302\n"
     ]
    },
    {
     "name": "stderr",
     "output_type": "stream",
     "text": [
      "\n",
      "100%|██████████| 79/79 [00:24<00:00,  3.16it/s]"
     ]
    },
    {
     "name": "stdout",
     "output_type": "stream",
     "text": [
      "[train student] epoch: 11: average loss=0.0283\n"
     ]
    },
    {
     "name": "stderr",
     "output_type": "stream",
     "text": [
      "\n",
      "100%|██████████| 79/79 [00:25<00:00,  3.16it/s]"
     ]
    },
    {
     "name": "stdout",
     "output_type": "stream",
     "text": [
      "[train student] epoch: 12: average loss=0.0268\n"
     ]
    },
    {
     "name": "stderr",
     "output_type": "stream",
     "text": [
      "\n",
      "100%|██████████| 79/79 [00:25<00:00,  3.15it/s]"
     ]
    },
    {
     "name": "stdout",
     "output_type": "stream",
     "text": [
      "[train student] epoch: 13: average loss=0.0254\n"
     ]
    },
    {
     "name": "stderr",
     "output_type": "stream",
     "text": [
      "\n",
      "100%|██████████| 79/79 [00:24<00:00,  3.16it/s]"
     ]
    },
    {
     "name": "stdout",
     "output_type": "stream",
     "text": [
      "[train student] epoch: 14: average loss=0.0234\n"
     ]
    },
    {
     "name": "stderr",
     "output_type": "stream",
     "text": [
      "\n",
      "100%|██████████| 79/79 [00:25<00:00,  3.16it/s]"
     ]
    },
    {
     "name": "stdout",
     "output_type": "stream",
     "text": [
      "[train student] epoch: 15: average loss=0.0212\n"
     ]
    },
    {
     "name": "stderr",
     "output_type": "stream",
     "text": [
      "\n",
      "100%|██████████| 79/79 [00:24<00:00,  3.16it/s]"
     ]
    },
    {
     "name": "stdout",
     "output_type": "stream",
     "text": [
      "[train student] epoch: 16: average loss=0.0190\n"
     ]
    },
    {
     "name": "stderr",
     "output_type": "stream",
     "text": [
      "\n",
      "100%|██████████| 79/79 [00:24<00:00,  3.16it/s]"
     ]
    },
    {
     "name": "stdout",
     "output_type": "stream",
     "text": [
      "[train student] epoch: 17: average loss=0.0175\n"
     ]
    },
    {
     "name": "stderr",
     "output_type": "stream",
     "text": [
      "\n",
      "100%|██████████| 79/79 [00:25<00:00,  3.15it/s]"
     ]
    },
    {
     "name": "stdout",
     "output_type": "stream",
     "text": [
      "[train student] epoch: 18: average loss=0.0169\n"
     ]
    },
    {
     "name": "stderr",
     "output_type": "stream",
     "text": [
      "\n",
      "100%|██████████| 79/79 [00:25<00:00,  3.15it/s]"
     ]
    },
    {
     "name": "stdout",
     "output_type": "stream",
     "text": [
      "[train student] epoch: 19: average loss=0.0158\n"
     ]
    },
    {
     "name": "stderr",
     "output_type": "stream",
     "text": [
      "\n",
      "100%|██████████| 79/79 [00:24<00:00,  3.16it/s]"
     ]
    },
    {
     "name": "stdout",
     "output_type": "stream",
     "text": [
      "[train student] epoch: 20: average loss=0.0141\n"
     ]
    },
    {
     "name": "stderr",
     "output_type": "stream",
     "text": [
      "\n"
     ]
    }
   ],
   "source": [
    "# TODO: Load ResNet-18 model\n",
    "\n",
    "model2 = models.resnet18(weights=None).to(device)\n",
    "model2.fc = nn.Linear(512, 100).to(device)\n",
    "# TODO: Extract the model\n",
    "\n",
    "optimizer = torch.optim.Adam(model2.parameters(), lr=0.01)\n",
    "knowledge_distillation(model, model2, cifar10_testloader, optimizer, 20, 100)"
   ]
  },
  {
   "cell_type": "markdown",
   "id": "ed6b27e5",
   "metadata": {
    "id": "0rSa7e8noFfW",
    "papermill": {
     "duration": 0.509566,
     "end_time": "2024-12-15T13:04:26.355624",
     "exception": false,
     "start_time": "2024-12-15T13:04:25.846058",
     "status": "completed"
    },
    "tags": []
   },
   "source": [
    "Measure the accuracy of the newly distillied attacker and compare your results from the previous section."
   ]
  },
  {
   "cell_type": "code",
   "execution_count": 19,
   "id": "9fed6de8",
   "metadata": {
    "execution": {
     "iopub.execute_input": "2024-12-15T13:04:27.410367Z",
     "iopub.status.busy": "2024-12-15T13:04:27.409969Z",
     "iopub.status.idle": "2024-12-15T13:08:25.911818Z",
     "shell.execute_reply": "2024-12-15T13:08:25.910650Z"
    },
    "id": "X4ucpNatoFfW",
    "papermill": {
     "duration": 239.014083,
     "end_time": "2024-12-15T13:08:25.913717",
     "exception": false,
     "start_time": "2024-12-15T13:04:26.899634",
     "status": "completed"
    },
    "tags": []
   },
   "outputs": [
    {
     "name": "stderr",
     "output_type": "stream",
     "text": [
      "100%|██████████| 79/79 [00:11<00:00,  6.71it/s]"
     ]
    },
    {
     "name": "stdout",
     "output_type": "stream",
     "text": [
      "Clean Accuracy on cifar100: 13.87%\n"
     ]
    },
    {
     "name": "stderr",
     "output_type": "stream",
     "text": [
      "\n",
      "100%|██████████| 79/79 [00:27<00:00,  2.91it/s]"
     ]
    },
    {
     "name": "stdout",
     "output_type": "stream",
     "text": [
      "Robust Accuracy with FGSM epsilon=8/255 on cifar100: 1.86%\n"
     ]
    },
    {
     "name": "stderr",
     "output_type": "stream",
     "text": [
      "\n",
      "100%|██████████| 79/79 [03:19<00:00,  2.52s/it]"
     ]
    },
    {
     "name": "stdout",
     "output_type": "stream",
     "text": [
      "Robust Accuracy with PGD epsilon=8/255, iters=10 on cifar100: 0.28%\n"
     ]
    },
    {
     "name": "stderr",
     "output_type": "stream",
     "text": [
      "\n"
     ]
    }
   ],
   "source": [
    "# TODO: Report accuracy on CIFAR100\n",
    "print(f'Clean Accuracy on cifar100: {100 * test(model2, testloader):.2f}%')\n",
    "print(f'Robust Accuracy with FGSM epsilon=8/255 on cifar100: {100 * test_attack(model2, 8/255, attack_fgsm):.2f}%')\n",
    "print(f'Robust Accuracy with PGD epsilon=8/255, iters=10 on cifar100: {100 * test_attack(model2, 8/255, attack_pgd):.2f}%')"
   ]
  },
  {
   "cell_type": "code",
   "execution_count": 20,
   "id": "30e988ae",
   "metadata": {
    "execution": {
     "iopub.execute_input": "2024-12-15T13:08:27.000735Z",
     "iopub.status.busy": "2024-12-15T13:08:27.000347Z",
     "iopub.status.idle": "2024-12-15T13:12:19.055091Z",
     "shell.execute_reply": "2024-12-15T13:12:19.053962Z"
    },
    "papermill": {
     "duration": 232.572095,
     "end_time": "2024-12-15T13:12:19.056722",
     "exception": false,
     "start_time": "2024-12-15T13:08:26.484627",
     "status": "completed"
    },
    "tags": []
   },
   "outputs": [
    {
     "name": "stderr",
     "output_type": "stream",
     "text": [
      "100%|██████████| 79/79 [00:29<00:00,  2.65it/s]"
     ]
    },
    {
     "name": "stdout",
     "output_type": "stream",
     "text": [
      "transfer attack accuracy with FGSM epsilon=8/255: 21.41%\n"
     ]
    },
    {
     "name": "stderr",
     "output_type": "stream",
     "text": [
      "\n",
      "100%|██████████| 79/79 [03:22<00:00,  2.56s/it]"
     ]
    },
    {
     "name": "stdout",
     "output_type": "stream",
     "text": [
      "transfer attack accuracy with PGD epsilon=8/255: 21.12%\n"
     ]
    },
    {
     "name": "stderr",
     "output_type": "stream",
     "text": [
      "\n"
     ]
    }
   ],
   "source": [
    "print(f'transfer attack accuracy with FGSM epsilon=8/255: {100 * transferability_attack(model2, model, testloader, attack_fgsm, 8/255):.2f}%')\n",
    "print(f'transfer attack accuracy with PGD epsilon=8/255: {100 * transferability_attack(model2, model, testloader, attack_pgd, 8/255):.2f}%')"
   ]
  },
  {
   "cell_type": "code",
   "execution_count": 21,
   "id": "ad84304a",
   "metadata": {
    "execution": {
     "iopub.execute_input": "2024-12-15T13:12:20.193112Z",
     "iopub.status.busy": "2024-12-15T13:12:20.192713Z",
     "iopub.status.idle": "2024-12-15T13:12:20.278970Z",
     "shell.execute_reply": "2024-12-15T13:12:20.278045Z"
    },
    "papermill": {
     "duration": 0.70266,
     "end_time": "2024-12-15T13:12:20.281102",
     "exception": false,
     "start_time": "2024-12-15T13:12:19.578442",
     "status": "completed"
    },
    "tags": []
   },
   "outputs": [],
   "source": [
    "torch.save(model2.state_dict(), 'model2.pt')"
   ]
  },
  {
   "cell_type": "markdown",
   "id": "cb013bf9",
   "metadata": {
    "id": "wxDuIVnUoFfW",
    "papermill": {
     "duration": 0.572114,
     "end_time": "2024-12-15T13:12:21.394397",
     "exception": false,
     "start_time": "2024-12-15T13:12:20.822283",
     "status": "completed"
    },
    "tags": []
   },
   "source": [
    "What are the effects of pre-training?\n",
    "\n",
    "`your response:` Pre-training results in more accuracy (more fidelity) of the attecker model on cofar100 testset, and also pretraining leads into more effective adversarial examples for transferability attack."
   ]
  },
  {
   "cell_type": "markdown",
   "id": "7a5818ea",
   "metadata": {
    "id": "rxU4_TvpoFfW",
    "papermill": {
     "duration": 0.56522,
     "end_time": "2024-12-15T13:12:22.483529",
     "exception": false,
     "start_time": "2024-12-15T13:12:21.918309",
     "status": "completed"
    },
    "tags": []
   },
   "source": [
    "## Full Dataset (10 points)"
   ]
  },
  {
   "cell_type": "markdown",
   "id": "0f4a37fe",
   "metadata": {
    "id": "7udEk0fQoFfW",
    "papermill": {
     "duration": 0.600993,
     "end_time": "2024-12-15T13:12:23.602615",
     "exception": false,
     "start_time": "2024-12-15T13:12:23.001622",
     "status": "completed"
    },
    "tags": []
   },
   "source": [
    "Repeat your experiments using the pre-trained ResNet18 but this time use the entire CIFAR10 dataset."
   ]
  },
  {
   "cell_type": "code",
   "execution_count": 22,
   "id": "6ef90c83",
   "metadata": {
    "execution": {
     "iopub.execute_input": "2024-12-15T13:12:24.695833Z",
     "iopub.status.busy": "2024-12-15T13:12:24.694897Z",
     "iopub.status.idle": "2024-12-15T14:01:55.358459Z",
     "shell.execute_reply": "2024-12-15T14:01:55.357253Z"
    },
    "id": "QyT2o0_LoFfW",
    "papermill": {
     "duration": 2971.236757,
     "end_time": "2024-12-15T14:01:55.361383",
     "exception": false,
     "start_time": "2024-12-15T13:12:24.124626",
     "status": "completed"
    },
    "tags": []
   },
   "outputs": [
    {
     "name": "stderr",
     "output_type": "stream",
     "text": [
      "100%|██████████| 469/469 [02:27<00:00,  3.17it/s]"
     ]
    },
    {
     "name": "stdout",
     "output_type": "stream",
     "text": [
      "[train student] epoch: 1: average loss=0.0460\n"
     ]
    },
    {
     "name": "stderr",
     "output_type": "stream",
     "text": [
      "\n",
      "100%|██████████| 469/469 [02:28<00:00,  3.17it/s]"
     ]
    },
    {
     "name": "stdout",
     "output_type": "stream",
     "text": [
      "[train student] epoch: 2: average loss=0.0323\n"
     ]
    },
    {
     "name": "stderr",
     "output_type": "stream",
     "text": [
      "\n",
      "100%|██████████| 469/469 [02:28<00:00,  3.16it/s]"
     ]
    },
    {
     "name": "stdout",
     "output_type": "stream",
     "text": [
      "[train student] epoch: 3: average loss=0.0246\n"
     ]
    },
    {
     "name": "stderr",
     "output_type": "stream",
     "text": [
      "\n",
      "100%|██████████| 469/469 [02:28<00:00,  3.16it/s]"
     ]
    },
    {
     "name": "stdout",
     "output_type": "stream",
     "text": [
      "[train student] epoch: 4: average loss=0.0203\n"
     ]
    },
    {
     "name": "stderr",
     "output_type": "stream",
     "text": [
      "\n",
      "100%|██████████| 469/469 [02:28<00:00,  3.16it/s]"
     ]
    },
    {
     "name": "stdout",
     "output_type": "stream",
     "text": [
      "[train student] epoch: 5: average loss=0.0178\n"
     ]
    },
    {
     "name": "stderr",
     "output_type": "stream",
     "text": [
      "\n",
      "100%|██████████| 469/469 [02:28<00:00,  3.16it/s]"
     ]
    },
    {
     "name": "stdout",
     "output_type": "stream",
     "text": [
      "[train student] epoch: 6: average loss=0.0158\n"
     ]
    },
    {
     "name": "stderr",
     "output_type": "stream",
     "text": [
      "\n",
      "100%|██████████| 469/469 [02:28<00:00,  3.16it/s]"
     ]
    },
    {
     "name": "stdout",
     "output_type": "stream",
     "text": [
      "[train student] epoch: 7: average loss=0.0145\n"
     ]
    },
    {
     "name": "stderr",
     "output_type": "stream",
     "text": [
      "\n",
      "100%|██████████| 469/469 [02:28<00:00,  3.16it/s]"
     ]
    },
    {
     "name": "stdout",
     "output_type": "stream",
     "text": [
      "[train student] epoch: 8: average loss=0.0135\n"
     ]
    },
    {
     "name": "stderr",
     "output_type": "stream",
     "text": [
      "\n",
      "100%|██████████| 469/469 [02:28<00:00,  3.16it/s]"
     ]
    },
    {
     "name": "stdout",
     "output_type": "stream",
     "text": [
      "[train student] epoch: 9: average loss=0.0126\n"
     ]
    },
    {
     "name": "stderr",
     "output_type": "stream",
     "text": [
      "\n",
      "100%|██████████| 469/469 [02:28<00:00,  3.16it/s]"
     ]
    },
    {
     "name": "stdout",
     "output_type": "stream",
     "text": [
      "[train student] epoch: 10: average loss=0.0120\n"
     ]
    },
    {
     "name": "stderr",
     "output_type": "stream",
     "text": [
      "\n",
      "100%|██████████| 469/469 [02:28<00:00,  3.16it/s]"
     ]
    },
    {
     "name": "stdout",
     "output_type": "stream",
     "text": [
      "[train student] epoch: 11: average loss=0.0115\n"
     ]
    },
    {
     "name": "stderr",
     "output_type": "stream",
     "text": [
      "\n",
      "100%|██████████| 469/469 [02:28<00:00,  3.16it/s]"
     ]
    },
    {
     "name": "stdout",
     "output_type": "stream",
     "text": [
      "[train student] epoch: 12: average loss=0.0110\n"
     ]
    },
    {
     "name": "stderr",
     "output_type": "stream",
     "text": [
      "\n",
      "100%|██████████| 469/469 [02:28<00:00,  3.16it/s]"
     ]
    },
    {
     "name": "stdout",
     "output_type": "stream",
     "text": [
      "[train student] epoch: 13: average loss=0.0106\n"
     ]
    },
    {
     "name": "stderr",
     "output_type": "stream",
     "text": [
      "\n",
      "100%|██████████| 469/469 [02:28<00:00,  3.16it/s]"
     ]
    },
    {
     "name": "stdout",
     "output_type": "stream",
     "text": [
      "[train student] epoch: 14: average loss=0.0103\n"
     ]
    },
    {
     "name": "stderr",
     "output_type": "stream",
     "text": [
      "\n",
      "100%|██████████| 469/469 [02:28<00:00,  3.15it/s]"
     ]
    },
    {
     "name": "stdout",
     "output_type": "stream",
     "text": [
      "[train student] epoch: 15: average loss=0.0100\n"
     ]
    },
    {
     "name": "stderr",
     "output_type": "stream",
     "text": [
      "\n",
      "100%|██████████| 469/469 [02:28<00:00,  3.16it/s]"
     ]
    },
    {
     "name": "stdout",
     "output_type": "stream",
     "text": [
      "[train student] epoch: 16: average loss=0.0097\n"
     ]
    },
    {
     "name": "stderr",
     "output_type": "stream",
     "text": [
      "\n",
      "100%|██████████| 469/469 [02:28<00:00,  3.15it/s]"
     ]
    },
    {
     "name": "stdout",
     "output_type": "stream",
     "text": [
      "[train student] epoch: 17: average loss=0.0094\n"
     ]
    },
    {
     "name": "stderr",
     "output_type": "stream",
     "text": [
      "\n",
      "100%|██████████| 469/469 [02:28<00:00,  3.16it/s]"
     ]
    },
    {
     "name": "stdout",
     "output_type": "stream",
     "text": [
      "[train student] epoch: 18: average loss=0.0092\n"
     ]
    },
    {
     "name": "stderr",
     "output_type": "stream",
     "text": [
      "\n",
      "100%|██████████| 469/469 [02:28<00:00,  3.16it/s]"
     ]
    },
    {
     "name": "stdout",
     "output_type": "stream",
     "text": [
      "[train student] epoch: 19: average loss=0.0090\n"
     ]
    },
    {
     "name": "stderr",
     "output_type": "stream",
     "text": [
      "\n",
      "100%|██████████| 469/469 [02:28<00:00,  3.15it/s]"
     ]
    },
    {
     "name": "stdout",
     "output_type": "stream",
     "text": [
      "[train student] epoch: 20: average loss=0.0088\n"
     ]
    },
    {
     "name": "stderr",
     "output_type": "stream",
     "text": [
      "\n"
     ]
    }
   ],
   "source": [
    "# TODO: Load pretrained ResNet-18 model\n",
    "model3 = models.resnet18(weights=models.ResNet18_Weights.DEFAULT).to(device)\n",
    "model3.fc = nn.Linear(512, 100).to(device)\n",
    "# TODO: Extract the model\n",
    "\n",
    "optimizer = torch.optim.Adam(model3.parameters(), lr=0.01)\n",
    "knowledge_distillation(model, model3, combined_loader, optimizer, 20, 100)"
   ]
  },
  {
   "cell_type": "markdown",
   "id": "0d20eb35",
   "metadata": {
    "id": "LhgMha03oFfW",
    "papermill": {
     "duration": 1.014774,
     "end_time": "2024-12-15T14:01:57.400143",
     "exception": false,
     "start_time": "2024-12-15T14:01:56.385369",
     "status": "completed"
    },
    "tags": []
   },
   "source": [
    "Report the accuracy on the `CIFAR100` testset once more."
   ]
  },
  {
   "cell_type": "code",
   "execution_count": 23,
   "id": "7691e619",
   "metadata": {
    "execution": {
     "iopub.execute_input": "2024-12-15T14:01:59.442674Z",
     "iopub.status.busy": "2024-12-15T14:01:59.441830Z",
     "iopub.status.idle": "2024-12-15T14:05:58.755639Z",
     "shell.execute_reply": "2024-12-15T14:05:58.754557Z"
    },
    "id": "RmMyGh54oFfW",
    "papermill": {
     "duration": 240.333649,
     "end_time": "2024-12-15T14:05:58.757542",
     "exception": false,
     "start_time": "2024-12-15T14:01:58.423893",
     "status": "completed"
    },
    "tags": []
   },
   "outputs": [
    {
     "name": "stderr",
     "output_type": "stream",
     "text": [
      "100%|██████████| 79/79 [00:12<00:00,  6.44it/s]"
     ]
    },
    {
     "name": "stdout",
     "output_type": "stream",
     "text": [
      "Clean Accuracy on cifar100: 53.94%\n"
     ]
    },
    {
     "name": "stderr",
     "output_type": "stream",
     "text": [
      "\n",
      "100%|██████████| 79/79 [00:27<00:00,  2.89it/s]"
     ]
    },
    {
     "name": "stdout",
     "output_type": "stream",
     "text": [
      "Robust Accuracy with FGSM epsilon=8/255 on cifar100: 5.25%\n"
     ]
    },
    {
     "name": "stderr",
     "output_type": "stream",
     "text": [
      "\n",
      "100%|██████████| 79/79 [03:19<00:00,  2.53s/it]"
     ]
    },
    {
     "name": "stdout",
     "output_type": "stream",
     "text": [
      "Robust Accuracy with PGD epsilon=8/255, iters=10 on cifar100: 0.59%\n"
     ]
    },
    {
     "name": "stderr",
     "output_type": "stream",
     "text": [
      "\n"
     ]
    }
   ],
   "source": [
    "# TODO: Report accuracy on CIFAR100\n",
    "print(f'Clean Accuracy on cifar100: {100 * test(model3, testloader):.2f}%')\n",
    "print(f'Robust Accuracy with FGSM epsilon=8/255 on cifar100: {100 * test_attack(model3, 8/255, attack_fgsm):.2f}%')\n",
    "print(f'Robust Accuracy with PGD epsilon=8/255, iters=10 on cifar100: {100 * test_attack(model3, 8/255, attack_pgd):.2f}%')"
   ]
  },
  {
   "cell_type": "code",
   "execution_count": 24,
   "id": "4a071e7b",
   "metadata": {
    "execution": {
     "iopub.execute_input": "2024-12-15T14:06:00.755359Z",
     "iopub.status.busy": "2024-12-15T14:06:00.754997Z",
     "iopub.status.idle": "2024-12-15T14:09:52.876029Z",
     "shell.execute_reply": "2024-12-15T14:09:52.874946Z"
    },
    "papermill": {
     "duration": 234.152167,
     "end_time": "2024-12-15T14:09:53.913600",
     "exception": false,
     "start_time": "2024-12-15T14:05:59.761433",
     "status": "completed"
    },
    "tags": []
   },
   "outputs": [
    {
     "name": "stderr",
     "output_type": "stream",
     "text": [
      "100%|██████████| 79/79 [00:29<00:00,  2.65it/s]"
     ]
    },
    {
     "name": "stdout",
     "output_type": "stream",
     "text": [
      "transfer attack accuracy with FGSM epsilon=8/255: 12.06%\n"
     ]
    },
    {
     "name": "stderr",
     "output_type": "stream",
     "text": [
      "\n",
      "100%|██████████| 79/79 [03:22<00:00,  2.56s/it]"
     ]
    },
    {
     "name": "stdout",
     "output_type": "stream",
     "text": [
      "transfer attack accuracy with PGD epsilon=8/255: 10.59%\n"
     ]
    },
    {
     "name": "stderr",
     "output_type": "stream",
     "text": [
      "\n"
     ]
    }
   ],
   "source": [
    "print(f'transfer attack accuracy with FGSM epsilon=8/255: {100 * transferability_attack(model3, model, testloader, attack_fgsm, 8/255):.2f}%')\n",
    "print(f'transfer attack accuracy with PGD epsilon=8/255: {100 * transferability_attack(model3, model, testloader, attack_pgd, 8/255):.2f}%')"
   ]
  },
  {
   "cell_type": "code",
   "execution_count": 25,
   "id": "69f5d6ad",
   "metadata": {
    "execution": {
     "iopub.execute_input": "2024-12-15T14:09:55.935777Z",
     "iopub.status.busy": "2024-12-15T14:09:55.935396Z",
     "iopub.status.idle": "2024-12-15T14:09:56.008920Z",
     "shell.execute_reply": "2024-12-15T14:09:56.008245Z"
    },
    "papermill": {
     "duration": 1.088723,
     "end_time": "2024-12-15T14:09:56.010782",
     "exception": false,
     "start_time": "2024-12-15T14:09:54.922059",
     "status": "completed"
    },
    "tags": []
   },
   "outputs": [],
   "source": [
    "torch.save(model3.state_dict(), 'model3.pt')"
   ]
  },
  {
   "cell_type": "markdown",
   "id": "2d6f6f48",
   "metadata": {
    "id": "jMqRKMj7oFfW",
    "papermill": {
     "duration": 0.995478,
     "end_time": "2024-12-15T14:09:57.999865",
     "exception": false,
     "start_time": "2024-12-15T14:09:57.004387",
     "status": "completed"
    },
    "tags": []
   },
   "source": [
    "What are the effects of using more data?\n",
    "\n",
    "`your response:` Using more data resulted in higher fidelity of attacker model because the accuracy on cifar100 testset is higher than previous settings and also, the transferability attack here is more effective than others."
   ]
  },
  {
   "cell_type": "markdown",
   "id": "198db0a6",
   "metadata": {
    "id": "NBbSzH32oFfW",
    "papermill": {
     "duration": 1.024018,
     "end_time": "2024-12-15T14:10:00.079588",
     "exception": false,
     "start_time": "2024-12-15T14:09:59.055570",
     "status": "completed"
    },
    "tags": []
   },
   "source": [
    "# CIFAR100 (10 points)"
   ]
  },
  {
   "cell_type": "markdown",
   "id": "bcd96515",
   "metadata": {
    "id": "8mYB0UF3oFfW",
    "papermill": {
     "duration": 1.023626,
     "end_time": "2024-12-15T14:10:02.110464",
     "exception": false,
     "start_time": "2024-12-15T14:10:01.086838",
     "status": "completed"
    },
    "tags": []
   },
   "source": [
    "This time, use the training dataset from `CIFAR100` and perform knowledge distillation on a pre-trained ResNet18."
   ]
  },
  {
   "cell_type": "code",
   "execution_count": 26,
   "id": "629c732b",
   "metadata": {
    "execution": {
     "iopub.execute_input": "2024-12-15T14:10:04.153038Z",
     "iopub.status.busy": "2024-12-15T14:10:04.152647Z",
     "iopub.status.idle": "2024-12-15T14:51:22.446469Z",
     "shell.execute_reply": "2024-12-15T14:51:22.445292Z"
    },
    "id": "7jyrV4RHoFfX",
    "papermill": {
     "duration": 2479.323436,
     "end_time": "2024-12-15T14:51:22.448240",
     "exception": false,
     "start_time": "2024-12-15T14:10:03.124804",
     "status": "completed"
    },
    "tags": []
   },
   "outputs": [
    {
     "name": "stderr",
     "output_type": "stream",
     "text": [
      "100%|██████████| 391/391 [02:03<00:00,  3.16it/s]"
     ]
    },
    {
     "name": "stdout",
     "output_type": "stream",
     "text": [
      "[train student] epoch: 1: average loss=0.0758\n"
     ]
    },
    {
     "name": "stderr",
     "output_type": "stream",
     "text": [
      "\n",
      "100%|██████████| 391/391 [02:03<00:00,  3.16it/s]"
     ]
    },
    {
     "name": "stdout",
     "output_type": "stream",
     "text": [
      "[train student] epoch: 2: average loss=0.0628\n"
     ]
    },
    {
     "name": "stderr",
     "output_type": "stream",
     "text": [
      "\n",
      "100%|██████████| 391/391 [02:03<00:00,  3.15it/s]"
     ]
    },
    {
     "name": "stdout",
     "output_type": "stream",
     "text": [
      "[train student] epoch: 3: average loss=0.0485\n"
     ]
    },
    {
     "name": "stderr",
     "output_type": "stream",
     "text": [
      "\n",
      "100%|██████████| 391/391 [02:03<00:00,  3.16it/s]"
     ]
    },
    {
     "name": "stdout",
     "output_type": "stream",
     "text": [
      "[train student] epoch: 4: average loss=0.0377\n"
     ]
    },
    {
     "name": "stderr",
     "output_type": "stream",
     "text": [
      "\n",
      "100%|██████████| 391/391 [02:03<00:00,  3.16it/s]"
     ]
    },
    {
     "name": "stdout",
     "output_type": "stream",
     "text": [
      "[train student] epoch: 5: average loss=0.0306\n"
     ]
    },
    {
     "name": "stderr",
     "output_type": "stream",
     "text": [
      "\n",
      "100%|██████████| 391/391 [02:03<00:00,  3.16it/s]"
     ]
    },
    {
     "name": "stdout",
     "output_type": "stream",
     "text": [
      "[train student] epoch: 6: average loss=0.0262\n"
     ]
    },
    {
     "name": "stderr",
     "output_type": "stream",
     "text": [
      "\n",
      "100%|██████████| 391/391 [02:03<00:00,  3.16it/s]"
     ]
    },
    {
     "name": "stdout",
     "output_type": "stream",
     "text": [
      "[train student] epoch: 7: average loss=0.0233\n"
     ]
    },
    {
     "name": "stderr",
     "output_type": "stream",
     "text": [
      "\n",
      "100%|██████████| 391/391 [02:03<00:00,  3.16it/s]"
     ]
    },
    {
     "name": "stdout",
     "output_type": "stream",
     "text": [
      "[train student] epoch: 8: average loss=0.0211\n"
     ]
    },
    {
     "name": "stderr",
     "output_type": "stream",
     "text": [
      "\n",
      "100%|██████████| 391/391 [02:03<00:00,  3.16it/s]"
     ]
    },
    {
     "name": "stdout",
     "output_type": "stream",
     "text": [
      "[train student] epoch: 9: average loss=0.0194\n"
     ]
    },
    {
     "name": "stderr",
     "output_type": "stream",
     "text": [
      "\n",
      "100%|██████████| 391/391 [02:03<00:00,  3.15it/s]"
     ]
    },
    {
     "name": "stdout",
     "output_type": "stream",
     "text": [
      "[train student] epoch: 10: average loss=0.0181\n"
     ]
    },
    {
     "name": "stderr",
     "output_type": "stream",
     "text": [
      "\n",
      "100%|██████████| 391/391 [02:03<00:00,  3.16it/s]"
     ]
    },
    {
     "name": "stdout",
     "output_type": "stream",
     "text": [
      "[train student] epoch: 11: average loss=0.0171\n"
     ]
    },
    {
     "name": "stderr",
     "output_type": "stream",
     "text": [
      "\n",
      "100%|██████████| 391/391 [02:03<00:00,  3.16it/s]"
     ]
    },
    {
     "name": "stdout",
     "output_type": "stream",
     "text": [
      "[train student] epoch: 12: average loss=0.0164\n"
     ]
    },
    {
     "name": "stderr",
     "output_type": "stream",
     "text": [
      "\n",
      "100%|██████████| 391/391 [02:03<00:00,  3.16it/s]"
     ]
    },
    {
     "name": "stdout",
     "output_type": "stream",
     "text": [
      "[train student] epoch: 13: average loss=0.0155\n"
     ]
    },
    {
     "name": "stderr",
     "output_type": "stream",
     "text": [
      "\n",
      "100%|██████████| 391/391 [02:03<00:00,  3.15it/s]"
     ]
    },
    {
     "name": "stdout",
     "output_type": "stream",
     "text": [
      "[train student] epoch: 14: average loss=0.0149\n"
     ]
    },
    {
     "name": "stderr",
     "output_type": "stream",
     "text": [
      "\n",
      "100%|██████████| 391/391 [02:03<00:00,  3.15it/s]"
     ]
    },
    {
     "name": "stdout",
     "output_type": "stream",
     "text": [
      "[train student] epoch: 15: average loss=0.0145\n"
     ]
    },
    {
     "name": "stderr",
     "output_type": "stream",
     "text": [
      "\n",
      "100%|██████████| 391/391 [02:03<00:00,  3.15it/s]"
     ]
    },
    {
     "name": "stdout",
     "output_type": "stream",
     "text": [
      "[train student] epoch: 16: average loss=0.0139\n"
     ]
    },
    {
     "name": "stderr",
     "output_type": "stream",
     "text": [
      "\n",
      "100%|██████████| 391/391 [02:03<00:00,  3.16it/s]"
     ]
    },
    {
     "name": "stdout",
     "output_type": "stream",
     "text": [
      "[train student] epoch: 17: average loss=0.0135\n"
     ]
    },
    {
     "name": "stderr",
     "output_type": "stream",
     "text": [
      "\n",
      "100%|██████████| 391/391 [02:03<00:00,  3.16it/s]"
     ]
    },
    {
     "name": "stdout",
     "output_type": "stream",
     "text": [
      "[train student] epoch: 18: average loss=0.0132\n"
     ]
    },
    {
     "name": "stderr",
     "output_type": "stream",
     "text": [
      "\n",
      "100%|██████████| 391/391 [02:03<00:00,  3.16it/s]"
     ]
    },
    {
     "name": "stdout",
     "output_type": "stream",
     "text": [
      "[train student] epoch: 19: average loss=0.0127\n"
     ]
    },
    {
     "name": "stderr",
     "output_type": "stream",
     "text": [
      "\n",
      "100%|██████████| 391/391 [02:03<00:00,  3.15it/s]"
     ]
    },
    {
     "name": "stdout",
     "output_type": "stream",
     "text": [
      "[train student] epoch: 20: average loss=0.0125\n"
     ]
    },
    {
     "name": "stderr",
     "output_type": "stream",
     "text": [
      "\n"
     ]
    }
   ],
   "source": [
    "# TODO: Load pretrained ResNet-18 model\n",
    "model4 = models.resnet18(weights=models.ResNet18_Weights.DEFAULT).to(device)\n",
    "model4.fc = nn.Linear(512, 100).to(device)\n",
    "# TODO: Extract the model\n",
    "\n",
    "optimizer = torch.optim.Adam(model4.parameters(), lr=0.01)\n",
    "knowledge_distillation(model, model4, trainloader, optimizer, 20, 100)"
   ]
  },
  {
   "cell_type": "markdown",
   "id": "328fc29b",
   "metadata": {
    "id": "FL1GSCO4oFfX",
    "papermill": {
     "duration": 1.351299,
     "end_time": "2024-12-15T14:51:25.184419",
     "exception": false,
     "start_time": "2024-12-15T14:51:23.833120",
     "status": "completed"
    },
    "tags": []
   },
   "source": [
    "How does the accuracy change now?"
   ]
  },
  {
   "cell_type": "code",
   "execution_count": 27,
   "id": "1279c578",
   "metadata": {
    "execution": {
     "iopub.execute_input": "2024-12-15T14:51:27.939496Z",
     "iopub.status.busy": "2024-12-15T14:51:27.939114Z",
     "iopub.status.idle": "2024-12-15T14:55:26.810681Z",
     "shell.execute_reply": "2024-12-15T14:55:26.809545Z"
    },
    "id": "A3XV4xw4oFfX",
    "papermill": {
     "duration": 240.276045,
     "end_time": "2024-12-15T14:55:26.812274",
     "exception": false,
     "start_time": "2024-12-15T14:51:26.536229",
     "status": "completed"
    },
    "tags": []
   },
   "outputs": [
    {
     "name": "stderr",
     "output_type": "stream",
     "text": [
      "100%|██████████| 79/79 [00:11<00:00,  6.61it/s]"
     ]
    },
    {
     "name": "stdout",
     "output_type": "stream",
     "text": [
      "Clean Accuracy on cifar100: 67.70%\n"
     ]
    },
    {
     "name": "stderr",
     "output_type": "stream",
     "text": [
      "\n",
      "100%|██████████| 79/79 [00:27<00:00,  2.90it/s]"
     ]
    },
    {
     "name": "stdout",
     "output_type": "stream",
     "text": [
      "Robust Accuracy with FGSM epsilon=8/255 on cifar100: 8.35%\n"
     ]
    },
    {
     "name": "stderr",
     "output_type": "stream",
     "text": [
      "\n",
      "100%|██████████| 79/79 [03:19<00:00,  2.53s/it]"
     ]
    },
    {
     "name": "stdout",
     "output_type": "stream",
     "text": [
      "Robust Accuracy with PGD epsilon=8/255, iters=10 on cifar100: 1.32%\n"
     ]
    },
    {
     "name": "stderr",
     "output_type": "stream",
     "text": [
      "\n"
     ]
    }
   ],
   "source": [
    "# TODO: Report accuracy on CIFAR100\n",
    "print(f'Clean Accuracy on cifar100: {100 * test(model4, testloader):.2f}%')\n",
    "print(f'Robust Accuracy with FGSM epsilon=8/255 on cifar100: {100 * test_attack(model4, 8/255, attack_fgsm):.2f}%')\n",
    "print(f'Robust Accuracy with PGD epsilon=8/255, iters=10 on cifar100: {100 * test_attack(model4, 8/255, attack_pgd):.2f}%')"
   ]
  },
  {
   "cell_type": "code",
   "execution_count": 28,
   "id": "1bc415d2",
   "metadata": {
    "execution": {
     "iopub.execute_input": "2024-12-15T14:55:29.557067Z",
     "iopub.status.busy": "2024-12-15T14:55:29.556238Z",
     "iopub.status.idle": "2024-12-15T14:59:21.744732Z",
     "shell.execute_reply": "2024-12-15T14:59:21.743564Z"
    },
    "papermill": {
     "duration": 233.58594,
     "end_time": "2024-12-15T14:59:21.746604",
     "exception": false,
     "start_time": "2024-12-15T14:55:28.160664",
     "status": "completed"
    },
    "tags": []
   },
   "outputs": [
    {
     "name": "stderr",
     "output_type": "stream",
     "text": [
      "100%|██████████| 79/79 [00:29<00:00,  2.65it/s]"
     ]
    },
    {
     "name": "stdout",
     "output_type": "stream",
     "text": [
      "transfer attack accuracy with FGSM epsilon=8/255: 12.64%\n"
     ]
    },
    {
     "name": "stderr",
     "output_type": "stream",
     "text": [
      "\n",
      "100%|██████████| 79/79 [03:22<00:00,  2.56s/it]"
     ]
    },
    {
     "name": "stdout",
     "output_type": "stream",
     "text": [
      "transfer attack accuracy with PGD epsilon=8/255: 9.74%\n"
     ]
    },
    {
     "name": "stderr",
     "output_type": "stream",
     "text": [
      "\n"
     ]
    }
   ],
   "source": [
    "print(f'transfer attack accuracy with FGSM epsilon=8/255: {100 * transferability_attack(model4, model, testloader, attack_fgsm, 8/255):.2f}%')\n",
    "print(f'transfer attack accuracy with PGD epsilon=8/255: {100 * transferability_attack(model4, model, testloader, attack_pgd, 8/255):.2f}%')"
   ]
  },
  {
   "cell_type": "code",
   "execution_count": 29,
   "id": "e7e940f8",
   "metadata": {
    "execution": {
     "iopub.execute_input": "2024-12-15T14:59:24.585229Z",
     "iopub.status.busy": "2024-12-15T14:59:24.584453Z",
     "iopub.status.idle": "2024-12-15T14:59:24.658403Z",
     "shell.execute_reply": "2024-12-15T14:59:24.657435Z"
    },
    "papermill": {
     "duration": 1.536218,
     "end_time": "2024-12-15T14:59:24.660474",
     "exception": false,
     "start_time": "2024-12-15T14:59:23.124256",
     "status": "completed"
    },
    "tags": []
   },
   "outputs": [],
   "source": [
    "torch.save(model4.state_dict(), 'model4.pt')"
   ]
  },
  {
   "cell_type": "markdown",
   "id": "d5103d25",
   "metadata": {
    "id": "Br4XM_FAoFfX",
    "papermill": {
     "duration": 1.372825,
     "end_time": "2024-12-15T14:59:27.407703",
     "exception": false,
     "start_time": "2024-12-15T14:59:26.034878",
     "status": "completed"
    },
    "tags": []
   },
   "source": [
    "Why do you suppose using the `CIFAR100` had the following results? Explain your observations.\n",
    "\n",
    "`your response:` Here, the accuracy on cifar100 testset is the most compared to others. The reasons is the using of in-distribution data samples (cifar100 trainset). As the original model is trained on this dataset, the distillation on the training set of the victim model can result in more accurate learned weights for model extraction."
   ]
  },
  {
   "cell_type": "code",
   "execution_count": 30,
   "id": "b8f556ac",
   "metadata": {
    "execution": {
     "iopub.execute_input": "2024-12-15T14:59:30.228221Z",
     "iopub.status.busy": "2024-12-15T14:59:30.227663Z",
     "iopub.status.idle": "2024-12-15T14:59:31.393620Z",
     "shell.execute_reply": "2024-12-15T14:59:31.392590Z"
    },
    "papermill": {
     "duration": 2.605515,
     "end_time": "2024-12-15T14:59:31.395841",
     "exception": false,
     "start_time": "2024-12-15T14:59:28.790326",
     "status": "completed"
    },
    "tags": []
   },
   "outputs": [],
   "source": [
    "! rm -r data/"
   ]
  }
 ],
 "metadata": {
  "accelerator": "GPU",
  "colab": {
   "gpuType": "T4",
   "provenance": []
  },
  "kaggle": {
   "accelerator": "gpu",
   "dataSources": [
    {
     "datasetId": 6306983,
     "sourceId": 10205733,
     "sourceType": "datasetVersion"
    },
    {
     "sourceId": 212764715,
     "sourceType": "kernelVersion"
    }
   ],
   "dockerImageVersionId": 30805,
   "isGpuEnabled": true,
   "isInternetEnabled": true,
   "language": "python",
   "sourceType": "notebook"
  },
  "kernelspec": {
   "display_name": "Python 3",
   "language": "python",
   "name": "python3"
  },
  "language_info": {
   "codemirror_mode": {
    "name": "ipython",
    "version": 3
   },
   "file_extension": ".py",
   "mimetype": "text/x-python",
   "name": "python",
   "nbconvert_exporter": "python",
   "pygments_lexer": "ipython3",
   "version": "3.10.14"
  },
  "papermill": {
   "default_parameters": {},
   "duration": 11138.48799,
   "end_time": "2024-12-15T14:59:34.298550",
   "environment_variables": {},
   "exception": null,
   "input_path": "__notebook__.ipynb",
   "output_path": "__notebook__.ipynb",
   "parameters": {},
   "start_time": "2024-12-15T11:53:55.810560",
   "version": "2.6.0"
  }
 },
 "nbformat": 4,
 "nbformat_minor": 5
}
