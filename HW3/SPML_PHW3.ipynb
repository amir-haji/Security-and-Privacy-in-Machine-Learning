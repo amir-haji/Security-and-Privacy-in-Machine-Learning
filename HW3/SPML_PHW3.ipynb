{
  "nbformat": 4,
  "nbformat_minor": 0,
  "metadata": {
    "colab": {
      "provenance": [],
      "gpuType": "T4"
    },
    "kernelspec": {
      "name": "python3",
      "display_name": "Python 3"
    },
    "language_info": {
      "name": "python"
    },
    "accelerator": "GPU"
  },
  "cells": [
    {
      "cell_type": "markdown",
      "source": [
        "# SPML HW3: Breaking Defenses & Black-Box Attacks"
      ],
      "metadata": {
        "id": "TwUAmmTcl3G-"
      }
    },
    {
      "cell_type": "code",
      "source": [
        "from google.colab import drive\n",
        "drive.mount('/content/drive')"
      ],
      "metadata": {
        "colab": {
          "base_uri": "https://localhost:8080/"
        },
        "id": "ArFO9mjmSzJk",
        "outputId": "da8674a0-f8a1-46f1-adff-9a4fd0860f88"
      },
      "execution_count": null,
      "outputs": [
        {
          "output_type": "stream",
          "name": "stdout",
          "text": [
            "Mounted at /content/drive\n"
          ]
        }
      ]
    },
    {
      "cell_type": "code",
      "execution_count": null,
      "metadata": {
        "id": "gThurMADlvnK"
      },
      "outputs": [],
      "source": [
        "name = 'AmirHossein Haji Mohammad Rezaei'\n",
        "std_id = '99109252'"
      ]
    },
    {
      "cell_type": "code",
      "source": [
        "import torch\n",
        "from torch import nn\n",
        "from torch.optim import Adam\n",
        "import torch.nn.functional as F\n",
        "from torch.nn import CrossEntropyLoss\n",
        "from torch.utils.data import DataLoader\n",
        "\n",
        "from torchvision import transforms\n",
        "from torchvision.models import resnet18, mobilenet_v2\n",
        "from torchvision.datasets.cifar import CIFAR10\n",
        "\n",
        "from tqdm import trange, tqdm\n",
        "import matplotlib.pyplot as plt\n",
        "\n",
        "torch.manual_seed(0)\n",
        "\n",
        "device = 'cuda' if torch.cuda.is_available() else 'cpu'\n",
        "device"
      ],
      "metadata": {
        "id": "wnLuXjkDmJWk",
        "colab": {
          "base_uri": "https://localhost:8080/",
          "height": 35
        },
        "outputId": "ae3233d3-8fe0-4e77-c8e8-48beb725cd41"
      },
      "execution_count": null,
      "outputs": [
        {
          "output_type": "execute_result",
          "data": {
            "text/plain": [
              "'cuda'"
            ],
            "application/vnd.google.colaboratory.intrinsic+json": {
              "type": "string"
            }
          },
          "metadata": {},
          "execution_count": 74
        }
      ]
    },
    {
      "cell_type": "markdown",
      "source": [
        "# CIFAR10 Dataset (5 points)"
      ],
      "metadata": {
        "id": "6YkpcqvmTcq6"
      }
    },
    {
      "cell_type": "code",
      "source": [
        "norm_mean = (0.4914, 0.4822, 0.4465)\n",
        "norm_std = (0.2023, 0.1994, 0.2010)\n",
        "batch_size = 128\n",
        "\n",
        "mu = torch.tensor(norm_mean).view(3,1,1).to(device)\n",
        "std = torch.tensor(norm_std).view(3,1,1).to(device)\n",
        "\n",
        "# TODO: Set the upper limit and lower limit possible for images\n",
        "upper_limit = ...\n",
        "lower_limit = ...\n",
        "\n",
        "transform_train = transforms.Compose([\n",
        "    transforms.RandomCrop(32, padding=4),\n",
        "    transforms.RandomHorizontalFlip(),\n",
        "    transforms.ToTensor(),\n",
        "])\n",
        "\n",
        "transform_test = transforms.Compose([\n",
        "    transforms.ToTensor(),\n",
        "])\n",
        "\n",
        "trainset = CIFAR10(root='./data', train=True, download=True, transform=transform_train)\n",
        "trainloader = DataLoader(trainset, batch_size=batch_size, shuffle=True, num_workers=2)\n",
        "\n",
        "testset = CIFAR10(root='./data', train=False, download=True, transform=transform_test)\n",
        "testloader = DataLoader(testset, batch_size=batch_size, shuffle=False, num_workers=2)\n",
        "\n",
        "\n",
        "classes = ('plane', 'car', 'bird', 'cat', 'deer',\n",
        "           'dog', 'frog', 'horse', 'ship', 'truck')\n"
      ],
      "metadata": {
        "id": "iSIlVGXMoQA6",
        "colab": {
          "base_uri": "https://localhost:8080/"
        },
        "outputId": "d739bec2-2e64-4260-e01a-5524df833663"
      },
      "execution_count": null,
      "outputs": [
        {
          "output_type": "stream",
          "name": "stdout",
          "text": [
            "Downloading https://www.cs.toronto.edu/~kriz/cifar-10-python.tar.gz to ./data/cifar-10-python.tar.gz\n"
          ]
        },
        {
          "output_type": "stream",
          "name": "stderr",
          "text": [
            "100%|██████████| 170M/170M [00:03<00:00, 42.9MB/s]\n"
          ]
        },
        {
          "output_type": "stream",
          "name": "stdout",
          "text": [
            "Extracting ./data/cifar-10-python.tar.gz to ./data\n",
            "Files already downloaded and verified\n"
          ]
        }
      ]
    },
    {
      "cell_type": "markdown",
      "source": [
        "# Defensive Distillation (25 points)"
      ],
      "metadata": {
        "id": "4_3oDmJlmTD-"
      }
    },
    {
      "cell_type": "markdown",
      "source": [
        "[Defensive distillation](https://arxiv.org/abs/1511.04508) proceeds in four steps:\n",
        "\n",
        "1.   **Train the teacher network**, by setting the temperature of the softmax to T during the\n",
        "training phase.\n",
        "2.   **Compute soft labels** by apply the teacher network to each instance in the training set, again evaluating the softmax at temperature T.\n",
        "3.  **Train the distilled network** (a network with the same shape as the teacher network) on the soft labels, using softmax at temperature T.\n",
        "4.  Finally, when running the distilled network at test time to classify new inputs, use temperature 1.\n",
        "\n"
      ],
      "metadata": {
        "id": "6cJsiRusm54S"
      }
    },
    {
      "cell_type": "markdown",
      "source": [
        "## Train the teacher"
      ],
      "metadata": {
        "id": "ppg_6w0joa-D"
      }
    },
    {
      "cell_type": "code",
      "source": [
        "def train_step(model, dataloader, loss_fn, optimizer, temperature):\n",
        "    # TODO: Return loss and accuracy for each epoch\n",
        "    model.train()\n",
        "    avg_loss = 0\n",
        "    correct = 0\n",
        "    total = 0\n",
        "\n",
        "    with tqdm(iterable=enumerate(dataloader), total=len(dataloader)) as pbar:\n",
        "      for i, (img, label) in pbar:\n",
        "        img = img.to(device)\n",
        "        label = label.to(device)\n",
        "\n",
        "        optimizer.zero_grad()\n",
        "        logit = model(img)\n",
        "        logit /= temperature\n",
        "        loss = loss_fn(logit, label)\n",
        "        loss.backward()\n",
        "        optimizer.step()\n",
        "\n",
        "        avg_loss += loss.item()\n",
        "        correct += torch.sum(logit.argmax(dim=1) == label).item()\n",
        "        total += img.shape[0]\n",
        "\n",
        "    avg_loss /= total\n",
        "    avg_acc = correct / total\n",
        "    return avg_loss, avg_acc\n",
        "\n",
        "\n",
        "\n",
        "def train_teacher(model, n_epochs, loader=trainloader, temp=100):\n",
        "    # TODO: Log the accuracy and loss for each epoch\n",
        "    optimizer = torch.optim.Adam(model.parameters(), lr=0.01)\n",
        "    loss_fn = CrossEntropyLoss()\n",
        "    for epoch in range(1, n_epochs + 1):\n",
        "      avg_loss, avg_acc = train_step(model, loader, loss_fn, optimizer, temp)\n",
        "\n",
        "      print(f'[train] epoch: {epoch}: average loss={avg_loss:.2f}, average accuracy={avg_acc:.2f}')"
      ],
      "metadata": {
        "id": "rZj3ygtFocYN"
      },
      "execution_count": null,
      "outputs": []
    },
    {
      "cell_type": "markdown",
      "source": [
        "You can use a pre-trained resnet to speed up the training process."
      ],
      "metadata": {
        "id": "evuzvOUZ4bPT"
      }
    },
    {
      "cell_type": "code",
      "source": [
        "class resnet(nn.Module):\n",
        "  def __init__(self, num_cls, pretrained=True):\n",
        "    super().__init__()\n",
        "    self.conv = nn.Sequential(*list(resnet18(pretrained=pretrained).children())[:-2])\n",
        "    self.fc = nn.Linear(512, num_cls)\n",
        "\n",
        "  def forward(self, x):\n",
        "    x = self.conv(x)\n",
        "    x = torch.flatten(x, start_dim=1)\n",
        "    logits = self.fc(x)\n",
        "    return logits\n",
        "\n",
        "teacher = resnet(10, True).to(device)\n",
        "\n",
        "train_teacher(teacher, 15)"
      ],
      "metadata": {
        "id": "O_oKlYe7m4w-",
        "colab": {
          "base_uri": "https://localhost:8080/"
        },
        "outputId": "5f933b0a-b4da-43d3-c3bd-4ee56ed7e784"
      },
      "execution_count": null,
      "outputs": [
        {
          "output_type": "stream",
          "name": "stderr",
          "text": [
            "/usr/local/lib/python3.10/dist-packages/torchvision/models/_utils.py:208: UserWarning: The parameter 'pretrained' is deprecated since 0.13 and may be removed in the future, please use 'weights' instead.\n",
            "  warnings.warn(\n",
            "/usr/local/lib/python3.10/dist-packages/torchvision/models/_utils.py:223: UserWarning: Arguments other than a weight enum or `None` for 'weights' are deprecated since 0.13 and may be removed in the future. The current behavior is equivalent to passing `weights=ResNet18_Weights.IMAGENET1K_V1`. You can also use `weights=ResNet18_Weights.DEFAULT` to get the most up-to-date weights.\n",
            "  warnings.warn(msg)\n",
            "100%|██████████| 391/391 [00:20<00:00, 19.04it/s]"
          ]
        },
        {
          "output_type": "stream",
          "name": "stdout",
          "text": [
            "[train] epoch: 1: average loss=0.01, average accuracy=0.36\n"
          ]
        },
        {
          "output_type": "stream",
          "name": "stderr",
          "text": [
            "\n",
            "100%|██████████| 391/391 [00:20<00:00, 18.69it/s]"
          ]
        },
        {
          "output_type": "stream",
          "name": "stdout",
          "text": [
            "[train] epoch: 2: average loss=0.01, average accuracy=0.53\n"
          ]
        },
        {
          "output_type": "stream",
          "name": "stderr",
          "text": [
            "\n",
            "100%|██████████| 391/391 [00:24<00:00, 15.80it/s]"
          ]
        },
        {
          "output_type": "stream",
          "name": "stdout",
          "text": [
            "[train] epoch: 3: average loss=0.01, average accuracy=0.62\n"
          ]
        },
        {
          "output_type": "stream",
          "name": "stderr",
          "text": [
            "\n",
            "100%|██████████| 391/391 [00:22<00:00, 17.73it/s]"
          ]
        },
        {
          "output_type": "stream",
          "name": "stdout",
          "text": [
            "[train] epoch: 4: average loss=0.01, average accuracy=0.66\n"
          ]
        },
        {
          "output_type": "stream",
          "name": "stderr",
          "text": [
            "\n",
            "100%|██████████| 391/391 [00:19<00:00, 19.85it/s]"
          ]
        },
        {
          "output_type": "stream",
          "name": "stdout",
          "text": [
            "[train] epoch: 5: average loss=0.01, average accuracy=0.70\n"
          ]
        },
        {
          "output_type": "stream",
          "name": "stderr",
          "text": [
            "\n",
            "100%|██████████| 391/391 [00:20<00:00, 18.78it/s]"
          ]
        },
        {
          "output_type": "stream",
          "name": "stdout",
          "text": [
            "[train] epoch: 6: average loss=0.01, average accuracy=0.72\n"
          ]
        },
        {
          "output_type": "stream",
          "name": "stderr",
          "text": [
            "\n",
            "100%|██████████| 391/391 [00:20<00:00, 19.29it/s]"
          ]
        },
        {
          "output_type": "stream",
          "name": "stdout",
          "text": [
            "[train] epoch: 7: average loss=0.01, average accuracy=0.74\n"
          ]
        },
        {
          "output_type": "stream",
          "name": "stderr",
          "text": [
            "\n",
            "100%|██████████| 391/391 [00:20<00:00, 19.02it/s]"
          ]
        },
        {
          "output_type": "stream",
          "name": "stdout",
          "text": [
            "[train] epoch: 8: average loss=0.01, average accuracy=0.75\n"
          ]
        },
        {
          "output_type": "stream",
          "name": "stderr",
          "text": [
            "\n",
            "100%|██████████| 391/391 [00:20<00:00, 18.81it/s]"
          ]
        },
        {
          "output_type": "stream",
          "name": "stdout",
          "text": [
            "[train] epoch: 9: average loss=0.01, average accuracy=0.76\n"
          ]
        },
        {
          "output_type": "stream",
          "name": "stderr",
          "text": [
            "\n",
            "100%|██████████| 391/391 [00:19<00:00, 19.80it/s]"
          ]
        },
        {
          "output_type": "stream",
          "name": "stdout",
          "text": [
            "[train] epoch: 10: average loss=0.01, average accuracy=0.78\n"
          ]
        },
        {
          "output_type": "stream",
          "name": "stderr",
          "text": [
            "\n",
            "100%|██████████| 391/391 [00:21<00:00, 18.09it/s]"
          ]
        },
        {
          "output_type": "stream",
          "name": "stdout",
          "text": [
            "[train] epoch: 11: average loss=0.00, average accuracy=0.78\n"
          ]
        },
        {
          "output_type": "stream",
          "name": "stderr",
          "text": [
            "\n",
            "100%|██████████| 391/391 [00:20<00:00, 18.64it/s]"
          ]
        },
        {
          "output_type": "stream",
          "name": "stdout",
          "text": [
            "[train] epoch: 12: average loss=0.00, average accuracy=0.79\n"
          ]
        },
        {
          "output_type": "stream",
          "name": "stderr",
          "text": [
            "\n",
            "100%|██████████| 391/391 [00:20<00:00, 18.82it/s]"
          ]
        },
        {
          "output_type": "stream",
          "name": "stdout",
          "text": [
            "[train] epoch: 13: average loss=0.00, average accuracy=0.80\n"
          ]
        },
        {
          "output_type": "stream",
          "name": "stderr",
          "text": [
            "\n",
            "100%|██████████| 391/391 [00:19<00:00, 19.85it/s]"
          ]
        },
        {
          "output_type": "stream",
          "name": "stdout",
          "text": [
            "[train] epoch: 14: average loss=0.00, average accuracy=0.80\n"
          ]
        },
        {
          "output_type": "stream",
          "name": "stderr",
          "text": [
            "\n",
            "100%|██████████| 391/391 [00:21<00:00, 18.47it/s]"
          ]
        },
        {
          "output_type": "stream",
          "name": "stdout",
          "text": [
            "[train] epoch: 15: average loss=0.00, average accuracy=0.81\n"
          ]
        },
        {
          "output_type": "stream",
          "name": "stderr",
          "text": [
            "\n"
          ]
        }
      ]
    },
    {
      "cell_type": "markdown",
      "source": [
        "## Test the teacher"
      ],
      "metadata": {
        "id": "9EFhPyAmzmeB"
      }
    },
    {
      "cell_type": "code",
      "source": [
        "def test_clean(model, dataloader=testloader):\n",
        "    # TODO: Return the clean accuracy of the model\n",
        "    model.eval()\n",
        "    correct = 0\n",
        "    total = 0\n",
        "\n",
        "    with tqdm(iterable=enumerate(dataloader), total=len(dataloader)) as pbar:\n",
        "      for i, (img, label) in pbar:\n",
        "        img = img.to(device)\n",
        "        label = label.to(device)\n",
        "\n",
        "        logit = model(img)\n",
        "        prob = F.softmax(logit, dim=1)\n",
        "        correct += torch.sum(prob.argmax(dim=1) == label).item()\n",
        "        total += img.shape[0]\n",
        "\n",
        "    avg_acc = correct / total\n",
        "    return avg_acc"
      ],
      "metadata": {
        "id": "iIVtvL32zopl"
      },
      "execution_count": null,
      "outputs": []
    },
    {
      "cell_type": "markdown",
      "source": [
        "Print the clean accuracy of the teacher."
      ],
      "metadata": {
        "id": "qs9LVS7uN-Fp"
      }
    },
    {
      "cell_type": "code",
      "source": [
        "print(f'Teacher Accuracy {100 * test_clean(teacher):.2f}%')"
      ],
      "metadata": {
        "id": "SFEzA16Cz63A",
        "colab": {
          "base_uri": "https://localhost:8080/"
        },
        "outputId": "554ff3fb-3216-4917-9862-a35a3223bd43"
      },
      "execution_count": null,
      "outputs": [
        {
          "output_type": "stream",
          "name": "stderr",
          "text": [
            "100%|██████████| 79/79 [00:01<00:00, 41.68it/s]"
          ]
        },
        {
          "output_type": "stream",
          "name": "stdout",
          "text": [
            "Teacher Accuracy 78.85%\n"
          ]
        },
        {
          "output_type": "stream",
          "name": "stderr",
          "text": [
            "\n"
          ]
        }
      ]
    },
    {
      "cell_type": "markdown",
      "source": [
        "## Train the student"
      ],
      "metadata": {
        "id": "68Fnkb39vYnl"
      }
    },
    {
      "cell_type": "code",
      "source": [
        "def distill(model, teacher, dataloader, optimizer, T):\n",
        "    # TODO: Get soft labels from teacher model\n",
        "    # TODO: Get student model outputs\n",
        "    # TODO: Compute the distillation loss\n",
        "    # TODO: Return the accuracy (on real labels) and loss (on soft labels)\n",
        "    model.train()\n",
        "    teacher.eval()\n",
        "\n",
        "    avg_loss = 0\n",
        "    correct = 0\n",
        "    total = 0\n",
        "\n",
        "    with tqdm(iterable=enumerate(dataloader), total=len(dataloader)) as pbar:\n",
        "      for i, (img, label) in pbar:\n",
        "        img = img.to(device)\n",
        "        label = label.to(device)\n",
        "\n",
        "        optimizer.zero_grad()\n",
        "        with torch.no_grad():\n",
        "          teacher_logits = teacher(img)\n",
        "\n",
        "        student_logits = model(img)\n",
        "\n",
        "        soft_targets = F.softmax(teacher_logits / T, dim=-1)\n",
        "        soft_prob = F.log_softmax(student_logits / T, dim=-1)\n",
        "\n",
        "        soft_targets_loss = torch.sum(soft_targets * (soft_targets.log() - soft_prob)) / soft_prob.size()[0] * (T**2)\n",
        "\n",
        "\n",
        "        soft_targets_loss.backward()\n",
        "        optimizer.step()\n",
        "\n",
        "        avg_loss += soft_targets_loss.item()\n",
        "        correct += torch.sum(student_logits.argmax(dim=1) == label).item()\n",
        "        total += img.shape[0]\n",
        "\n",
        "    avg_loss /= total\n",
        "    avg_acc = correct / total\n",
        "    return avg_loss, avg_acc\n",
        "\n",
        "\n",
        "def train_student(model, teacher, n_epochs, loader=trainloader, temp=100):\n",
        "    # TODO: Log the accuracy and loss for each epoch\n",
        "    optimizer = Adam(model.parameters(), lr=0.01)\n",
        "\n",
        "    for epoch in range(1, n_epochs + 1):\n",
        "      avg_loss, avg_acc = distill(model, teacher, loader, optimizer, temp)\n",
        "      print(f'[train student] epoch: {epoch}: average loss={avg_loss:.2f}, average accuracy={avg_acc:.2f}')"
      ],
      "metadata": {
        "id": "nfu9ZVWFvaL5"
      },
      "execution_count": null,
      "outputs": []
    },
    {
      "cell_type": "markdown",
      "source": [
        "This time use a `resnet18` without the pretrained weights."
      ],
      "metadata": {
        "id": "80y5gpfCIJjW"
      }
    },
    {
      "cell_type": "code",
      "source": [
        "student = resnet(10, False).to(device)\n",
        "\n",
        "train_student(student, teacher, 15)"
      ],
      "metadata": {
        "id": "zhSefyQRwcFK",
        "colab": {
          "base_uri": "https://localhost:8080/"
        },
        "outputId": "09ba615c-18cc-460b-e686-af5ac211c0b6"
      },
      "execution_count": null,
      "outputs": [
        {
          "output_type": "stream",
          "name": "stderr",
          "text": [
            "/usr/local/lib/python3.10/dist-packages/torchvision/models/_utils.py:208: UserWarning: The parameter 'pretrained' is deprecated since 0.13 and may be removed in the future, please use 'weights' instead.\n",
            "  warnings.warn(\n",
            "/usr/local/lib/python3.10/dist-packages/torchvision/models/_utils.py:223: UserWarning: Arguments other than a weight enum or `None` for 'weights' are deprecated since 0.13 and may be removed in the future. The current behavior is equivalent to passing `weights=None`.\n",
            "  warnings.warn(msg)\n",
            "100%|██████████| 391/391 [00:22<00:00, 17.25it/s]"
          ]
        },
        {
          "output_type": "stream",
          "name": "stdout",
          "text": [
            "[train student] epoch: 1: average loss=84.64, average accuracy=0.37\n"
          ]
        },
        {
          "output_type": "stream",
          "name": "stderr",
          "text": [
            "\n",
            "100%|██████████| 391/391 [00:22<00:00, 17.69it/s]"
          ]
        },
        {
          "output_type": "stream",
          "name": "stdout",
          "text": [
            "[train student] epoch: 2: average loss=51.11, average accuracy=0.56\n"
          ]
        },
        {
          "output_type": "stream",
          "name": "stderr",
          "text": [
            "\n",
            "100%|██████████| 391/391 [00:21<00:00, 18.13it/s]"
          ]
        },
        {
          "output_type": "stream",
          "name": "stdout",
          "text": [
            "[train student] epoch: 3: average loss=35.09, average accuracy=0.64\n"
          ]
        },
        {
          "output_type": "stream",
          "name": "stderr",
          "text": [
            "\n",
            "100%|██████████| 391/391 [00:22<00:00, 17.38it/s]"
          ]
        },
        {
          "output_type": "stream",
          "name": "stdout",
          "text": [
            "[train student] epoch: 4: average loss=27.03, average accuracy=0.69\n"
          ]
        },
        {
          "output_type": "stream",
          "name": "stderr",
          "text": [
            "\n",
            "100%|██████████| 391/391 [00:22<00:00, 17.44it/s]"
          ]
        },
        {
          "output_type": "stream",
          "name": "stdout",
          "text": [
            "[train student] epoch: 5: average loss=22.42, average accuracy=0.71\n"
          ]
        },
        {
          "output_type": "stream",
          "name": "stderr",
          "text": [
            "\n",
            "100%|██████████| 391/391 [00:21<00:00, 18.15it/s]"
          ]
        },
        {
          "output_type": "stream",
          "name": "stdout",
          "text": [
            "[train student] epoch: 6: average loss=18.87, average accuracy=0.73\n"
          ]
        },
        {
          "output_type": "stream",
          "name": "stderr",
          "text": [
            "\n",
            "100%|██████████| 391/391 [00:22<00:00, 17.29it/s]"
          ]
        },
        {
          "output_type": "stream",
          "name": "stdout",
          "text": [
            "[train student] epoch: 7: average loss=16.71, average accuracy=0.75\n"
          ]
        },
        {
          "output_type": "stream",
          "name": "stderr",
          "text": [
            "\n",
            "100%|██████████| 391/391 [00:22<00:00, 17.20it/s]"
          ]
        },
        {
          "output_type": "stream",
          "name": "stdout",
          "text": [
            "[train student] epoch: 8: average loss=15.60, average accuracy=0.75\n"
          ]
        },
        {
          "output_type": "stream",
          "name": "stderr",
          "text": [
            "\n",
            "100%|██████████| 391/391 [00:21<00:00, 17.96it/s]"
          ]
        },
        {
          "output_type": "stream",
          "name": "stdout",
          "text": [
            "[train student] epoch: 9: average loss=14.31, average accuracy=0.76\n"
          ]
        },
        {
          "output_type": "stream",
          "name": "stderr",
          "text": [
            "\n",
            "100%|██████████| 391/391 [00:22<00:00, 17.35it/s]"
          ]
        },
        {
          "output_type": "stream",
          "name": "stdout",
          "text": [
            "[train student] epoch: 10: average loss=13.44, average accuracy=0.77\n"
          ]
        },
        {
          "output_type": "stream",
          "name": "stderr",
          "text": [
            "\n",
            "100%|██████████| 391/391 [00:23<00:00, 16.53it/s]"
          ]
        },
        {
          "output_type": "stream",
          "name": "stdout",
          "text": [
            "[train student] epoch: 11: average loss=13.05, average accuracy=0.77\n"
          ]
        },
        {
          "output_type": "stream",
          "name": "stderr",
          "text": [
            "\n",
            "100%|██████████| 391/391 [00:22<00:00, 17.41it/s]"
          ]
        },
        {
          "output_type": "stream",
          "name": "stdout",
          "text": [
            "[train student] epoch: 12: average loss=12.55, average accuracy=0.77\n"
          ]
        },
        {
          "output_type": "stream",
          "name": "stderr",
          "text": [
            "\n",
            "100%|██████████| 391/391 [00:22<00:00, 17.53it/s]"
          ]
        },
        {
          "output_type": "stream",
          "name": "stdout",
          "text": [
            "[train student] epoch: 13: average loss=11.98, average accuracy=0.78\n"
          ]
        },
        {
          "output_type": "stream",
          "name": "stderr",
          "text": [
            "\n",
            "100%|██████████| 391/391 [00:22<00:00, 17.02it/s]"
          ]
        },
        {
          "output_type": "stream",
          "name": "stdout",
          "text": [
            "[train student] epoch: 14: average loss=11.53, average accuracy=0.78\n"
          ]
        },
        {
          "output_type": "stream",
          "name": "stderr",
          "text": [
            "\n",
            "100%|██████████| 391/391 [00:23<00:00, 16.96it/s]"
          ]
        },
        {
          "output_type": "stream",
          "name": "stdout",
          "text": [
            "[train student] epoch: 15: average loss=11.18, average accuracy=0.78\n"
          ]
        },
        {
          "output_type": "stream",
          "name": "stderr",
          "text": [
            "\n"
          ]
        }
      ]
    },
    {
      "cell_type": "markdown",
      "source": [
        "## Test the student"
      ],
      "metadata": {
        "id": "snQvAMfH4ku1"
      }
    },
    {
      "cell_type": "code",
      "source": [
        "print(f'Student Accuracy {test_clean(student):.2f}%')"
      ],
      "metadata": {
        "id": "D_phh7vc4pA0",
        "colab": {
          "base_uri": "https://localhost:8080/"
        },
        "outputId": "1b9712c5-4b4c-4b83-c17a-656ce7ed0bb6"
      },
      "execution_count": null,
      "outputs": [
        {
          "output_type": "stream",
          "name": "stderr",
          "text": [
            "100%|██████████| 79/79 [00:02<00:00, 29.17it/s]"
          ]
        },
        {
          "output_type": "stream",
          "name": "stdout",
          "text": [
            "Student Accuracy 0.78%\n"
          ]
        },
        {
          "output_type": "stream",
          "name": "stderr",
          "text": [
            "\n"
          ]
        }
      ]
    },
    {
      "cell_type": "markdown",
      "source": [
        "# Attack (15 points)"
      ],
      "metadata": {
        "id": "mdUmJKwtw-Gj"
      }
    },
    {
      "cell_type": "markdown",
      "source": [
        "Implement the FGSM attack and the `test_attack` funcion to report the robust accuracy for different values of epsilon."
      ],
      "metadata": {
        "id": "d_-PnbtU3Zo1"
      }
    },
    {
      "cell_type": "code",
      "source": [
        "def attack_fgsm(model, x, y, epsilon):\n",
        "    # TODO: Return perturbed input\n",
        "    criterion = CrossEntropyLoss()\n",
        "\n",
        "    x.requires_grad = True\n",
        "    model.zero_grad()\n",
        "    logit = model(x)\n",
        "    loss = criterion(logit, y)\n",
        "    loss.backward()\n",
        "\n",
        "    adv_x = x + epsilon*x.grad.data.sign()\n",
        "    adv_x = torch.clamp(adv_x, 0, 1)\n",
        "\n",
        "    return adv_x\n",
        "\n",
        "\n",
        "def attack_pgd(model, x, y, epsilon, alpha=0.2, num_iters=10):\n",
        "    # TODO: Return perturbed input\n",
        "    criterion = nn.CrossEntropyLoss()\n",
        "    pert_x = x.clone().to(device)\n",
        "\n",
        "    for _ in range(num_iters):\n",
        "      pert_x.requires_grad = True\n",
        "      logit = model(pert_x)\n",
        "\n",
        "      model.zero_grad()\n",
        "      loss = criterion(logit, y)\n",
        "      loss.backward()\n",
        "\n",
        "      adv_x = pert_x + alpha*pert_x.grad.data.sign()\n",
        "      eta = torch.clamp(adv_x - x, min=-epsilon, max=epsilon)\n",
        "      pert_x = torch.clamp(x + eta, min=0, max=1).detach_()\n",
        "\n",
        "    return pert_x\n",
        "\n",
        "\n",
        "\n",
        "def test_attack(model, epsilon, attack=attack_fgsm, loader=testloader):\n",
        "    # TODO: Return the robust accuracy for FGSM or PGD\n",
        "    model.eval()\n",
        "\n",
        "    correct = 0\n",
        "    total = 0\n",
        "    with tqdm(iterable=enumerate(loader), total=len(loader)) as pbar:\n",
        "      for i, (img, label) in pbar:\n",
        "        img = img.to(device)\n",
        "        label = label.to(device)\n",
        "\n",
        "        adv_img = attack(model, img, label, epsilon)\n",
        "        logit = model(adv_img)\n",
        "\n",
        "        prob = F.softmax(logit, dim=-1)\n",
        "        correct += torch.sum(prob.argmax(dim=1) == label).item()\n",
        "        total += img.shape[0]\n",
        "\n",
        "    avg_acc = correct / total\n",
        "    return avg_acc\n"
      ],
      "metadata": {
        "id": "axKc8-GExDh1"
      },
      "execution_count": null,
      "outputs": []
    },
    {
      "cell_type": "markdown",
      "source": [
        "Report the robust accuracy of the teacher for `ϵ = [1, 2, 4, 8, 16]`."
      ],
      "metadata": {
        "id": "OqUrHA1D1Oqk"
      }
    },
    {
      "cell_type": "code",
      "source": [
        "epsilons = [1, 2, 4, 8, 16]\n",
        "\n",
        "for eps in epsilons:\n",
        "    print('***********')\n",
        "    fgsm_acc = test_attack(teacher, eps / 255, attack_fgsm)\n",
        "    print(f'FGSM with ϵ={eps}/255 has Accuracy: {100 * fgsm_acc:.2f}%')\n",
        "    pgd_acc = test_attack(teacher, eps / 255, attack_pgd)\n",
        "    print(f'PGD  with ϵ={eps}/255 has Accuracy: {100 * pgd_acc:.2f}%')\n",
        "    print('***********')"
      ],
      "metadata": {
        "id": "1HMqzS21002f",
        "colab": {
          "base_uri": "https://localhost:8080/"
        },
        "outputId": "00c37e30-29eb-4413-e1c6-bc51cf22cc59"
      },
      "execution_count": null,
      "outputs": [
        {
          "output_type": "stream",
          "name": "stdout",
          "text": [
            "***********\n"
          ]
        },
        {
          "output_type": "stream",
          "name": "stderr",
          "text": [
            "100%|██████████| 79/79 [00:04<00:00, 19.48it/s]"
          ]
        },
        {
          "output_type": "stream",
          "name": "stdout",
          "text": [
            "FGSM with ϵ=1/255 has Accuracy: 71.07%\n"
          ]
        },
        {
          "output_type": "stream",
          "name": "stderr",
          "text": [
            "\n",
            "100%|██████████| 79/79 [00:23<00:00,  3.39it/s]"
          ]
        },
        {
          "output_type": "stream",
          "name": "stdout",
          "text": [
            "PGD  with ϵ=1/255 has Accuracy: 70.71%\n",
            "***********\n",
            "***********\n"
          ]
        },
        {
          "output_type": "stream",
          "name": "stderr",
          "text": [
            "\n",
            "100%|██████████| 79/79 [00:03<00:00, 25.23it/s]"
          ]
        },
        {
          "output_type": "stream",
          "name": "stdout",
          "text": [
            "FGSM with ϵ=2/255 has Accuracy: 70.74%\n"
          ]
        },
        {
          "output_type": "stream",
          "name": "stderr",
          "text": [
            "\n",
            "100%|██████████| 79/79 [00:23<00:00,  3.32it/s]"
          ]
        },
        {
          "output_type": "stream",
          "name": "stdout",
          "text": [
            "PGD  with ϵ=2/255 has Accuracy: 70.58%\n",
            "***********\n",
            "***********\n"
          ]
        },
        {
          "output_type": "stream",
          "name": "stderr",
          "text": [
            "\n",
            "100%|██████████| 79/79 [00:03<00:00, 24.67it/s]"
          ]
        },
        {
          "output_type": "stream",
          "name": "stdout",
          "text": [
            "FGSM with ϵ=4/255 has Accuracy: 70.64%\n"
          ]
        },
        {
          "output_type": "stream",
          "name": "stderr",
          "text": [
            "\n",
            "100%|██████████| 79/79 [00:23<00:00,  3.36it/s]"
          ]
        },
        {
          "output_type": "stream",
          "name": "stdout",
          "text": [
            "PGD  with ϵ=4/255 has Accuracy: 70.57%\n",
            "***********\n",
            "***********\n"
          ]
        },
        {
          "output_type": "stream",
          "name": "stderr",
          "text": [
            "\n",
            "100%|██████████| 79/79 [00:03<00:00, 21.37it/s]"
          ]
        },
        {
          "output_type": "stream",
          "name": "stdout",
          "text": [
            "FGSM with ϵ=8/255 has Accuracy: 70.64%\n"
          ]
        },
        {
          "output_type": "stream",
          "name": "stderr",
          "text": [
            "\n",
            "100%|██████████| 79/79 [00:23<00:00,  3.33it/s]"
          ]
        },
        {
          "output_type": "stream",
          "name": "stdout",
          "text": [
            "PGD  with ϵ=8/255 has Accuracy: 70.90%\n",
            "***********\n",
            "***********\n"
          ]
        },
        {
          "output_type": "stream",
          "name": "stderr",
          "text": [
            "\n",
            "100%|██████████| 79/79 [00:03<00:00, 20.23it/s]"
          ]
        },
        {
          "output_type": "stream",
          "name": "stdout",
          "text": [
            "FGSM with ϵ=16/255 has Accuracy: 70.65%\n"
          ]
        },
        {
          "output_type": "stream",
          "name": "stderr",
          "text": [
            "\n",
            "100%|██████████| 79/79 [00:23<00:00,  3.35it/s]"
          ]
        },
        {
          "output_type": "stream",
          "name": "stdout",
          "text": [
            "PGD  with ϵ=16/255 has Accuracy: 71.89%\n",
            "***********\n"
          ]
        },
        {
          "output_type": "stream",
          "name": "stderr",
          "text": [
            "\n"
          ]
        }
      ]
    },
    {
      "cell_type": "markdown",
      "source": [
        "Do the same for the student:"
      ],
      "metadata": {
        "id": "qd0E5Lrf3wyU"
      }
    },
    {
      "cell_type": "code",
      "source": [
        "for eps in epsilons:\n",
        "    print('***********')\n",
        "    fgsm_acc = test_attack(student, eps / 255, attack_fgsm)\n",
        "    print(f'FGSM with ϵ={eps}/255 has Accuracy: {100 * fgsm_acc:.2f}%')\n",
        "    pgd_acc = test_attack(student, eps / 255, attack_pgd)\n",
        "    print(f'PGD  with ϵ={eps}/255 has Accuracy: {100 * pgd_acc:.2f}%')\n",
        "    print('***********')"
      ],
      "metadata": {
        "id": "Bn0oMzvk3wZR",
        "colab": {
          "base_uri": "https://localhost:8080/"
        },
        "outputId": "391c68d9-cd54-428c-8933-232abe172c93"
      },
      "execution_count": null,
      "outputs": [
        {
          "output_type": "stream",
          "name": "stdout",
          "text": [
            "***********\n"
          ]
        },
        {
          "output_type": "stream",
          "name": "stderr",
          "text": [
            "100%|██████████| 79/79 [00:04<00:00, 19.71it/s]"
          ]
        },
        {
          "output_type": "stream",
          "name": "stdout",
          "text": [
            "FGSM with ϵ=1/255 has Accuracy: 69.48%\n"
          ]
        },
        {
          "output_type": "stream",
          "name": "stderr",
          "text": [
            "\n",
            "100%|██████████| 79/79 [00:23<00:00,  3.36it/s]"
          ]
        },
        {
          "output_type": "stream",
          "name": "stdout",
          "text": [
            "PGD  with ϵ=1/255 has Accuracy: 68.84%\n",
            "***********\n",
            "***********\n"
          ]
        },
        {
          "output_type": "stream",
          "name": "stderr",
          "text": [
            "\n",
            "100%|██████████| 79/79 [00:03<00:00, 22.91it/s]"
          ]
        },
        {
          "output_type": "stream",
          "name": "stdout",
          "text": [
            "FGSM with ϵ=2/255 has Accuracy: 68.75%\n"
          ]
        },
        {
          "output_type": "stream",
          "name": "stderr",
          "text": [
            "\n",
            "100%|██████████| 79/79 [00:23<00:00,  3.30it/s]"
          ]
        },
        {
          "output_type": "stream",
          "name": "stdout",
          "text": [
            "PGD  with ϵ=2/255 has Accuracy: 68.46%\n",
            "***********\n",
            "***********\n"
          ]
        },
        {
          "output_type": "stream",
          "name": "stderr",
          "text": [
            "\n",
            "100%|██████████| 79/79 [00:03<00:00, 25.16it/s]"
          ]
        },
        {
          "output_type": "stream",
          "name": "stdout",
          "text": [
            "FGSM with ϵ=4/255 has Accuracy: 68.50%\n"
          ]
        },
        {
          "output_type": "stream",
          "name": "stderr",
          "text": [
            "\n",
            "100%|██████████| 79/79 [00:23<00:00,  3.35it/s]"
          ]
        },
        {
          "output_type": "stream",
          "name": "stdout",
          "text": [
            "PGD  with ϵ=4/255 has Accuracy: 68.35%\n",
            "***********\n",
            "***********\n"
          ]
        },
        {
          "output_type": "stream",
          "name": "stderr",
          "text": [
            "\n",
            "100%|██████████| 79/79 [00:03<00:00, 24.87it/s]\n"
          ]
        },
        {
          "output_type": "stream",
          "name": "stdout",
          "text": [
            "FGSM with ϵ=8/255 has Accuracy: 68.40%\n"
          ]
        },
        {
          "output_type": "stream",
          "name": "stderr",
          "text": [
            "100%|██████████| 79/79 [00:23<00:00,  3.35it/s]"
          ]
        },
        {
          "output_type": "stream",
          "name": "stdout",
          "text": [
            "PGD  with ϵ=8/255 has Accuracy: 68.56%\n",
            "***********\n",
            "***********\n"
          ]
        },
        {
          "output_type": "stream",
          "name": "stderr",
          "text": [
            "\n",
            "100%|██████████| 79/79 [00:03<00:00, 24.99it/s]"
          ]
        },
        {
          "output_type": "stream",
          "name": "stdout",
          "text": [
            "FGSM with ϵ=16/255 has Accuracy: 68.48%\n"
          ]
        },
        {
          "output_type": "stream",
          "name": "stderr",
          "text": [
            "\n",
            "100%|██████████| 79/79 [00:23<00:00,  3.33it/s]"
          ]
        },
        {
          "output_type": "stream",
          "name": "stdout",
          "text": [
            "PGD  with ϵ=16/255 has Accuracy: 69.87%\n",
            "***********\n"
          ]
        },
        {
          "output_type": "stream",
          "name": "stderr",
          "text": [
            "\n"
          ]
        }
      ]
    },
    {
      "cell_type": "markdown",
      "source": [
        "What do you see?\n",
        "\n",
        "`your response:` Defensive distillation made the model robust against fgsm and PGD adversarial examples."
      ],
      "metadata": {
        "id": "GgHqlsaa33j1"
      }
    },
    {
      "cell_type": "markdown",
      "source": [
        "# Transferring Adversarial Examples (15 points)"
      ],
      "metadata": {
        "id": "zFbxKpeM4AR9"
      }
    },
    {
      "cell_type": "markdown",
      "source": [
        "Train yet another model to be used as the surrogate. (set temperature to 1)"
      ],
      "metadata": {
        "id": "T3Vu8xSsLeqN"
      }
    },
    {
      "cell_type": "code",
      "source": [
        "model = resnet(10, False).to(device)\n",
        "\n",
        "train_teacher(model, 15, temp=1)"
      ],
      "metadata": {
        "id": "8qBouBbUKHoI",
        "colab": {
          "base_uri": "https://localhost:8080/"
        },
        "outputId": "c5364ad8-a238-4e6d-9ebf-e5d342a38584"
      },
      "execution_count": null,
      "outputs": [
        {
          "output_type": "stream",
          "name": "stderr",
          "text": [
            "/usr/local/lib/python3.10/dist-packages/torchvision/models/_utils.py:208: UserWarning: The parameter 'pretrained' is deprecated since 0.13 and may be removed in the future, please use 'weights' instead.\n",
            "  warnings.warn(\n",
            "/usr/local/lib/python3.10/dist-packages/torchvision/models/_utils.py:223: UserWarning: Arguments other than a weight enum or `None` for 'weights' are deprecated since 0.13 and may be removed in the future. The current behavior is equivalent to passing `weights=None`.\n",
            "  warnings.warn(msg)\n",
            "100%|██████████| 391/391 [00:21<00:00, 18.31it/s]"
          ]
        },
        {
          "output_type": "stream",
          "name": "stdout",
          "text": [
            "[train] epoch: 1: average loss=0.01, average accuracy=0.32\n"
          ]
        },
        {
          "output_type": "stream",
          "name": "stderr",
          "text": [
            "\n",
            "100%|██████████| 391/391 [00:23<00:00, 16.31it/s]"
          ]
        },
        {
          "output_type": "stream",
          "name": "stdout",
          "text": [
            "[train] epoch: 2: average loss=0.01, average accuracy=0.47\n"
          ]
        },
        {
          "output_type": "stream",
          "name": "stderr",
          "text": [
            "\n",
            "100%|██████████| 391/391 [00:21<00:00, 18.08it/s]"
          ]
        },
        {
          "output_type": "stream",
          "name": "stdout",
          "text": [
            "[train] epoch: 3: average loss=0.01, average accuracy=0.55\n"
          ]
        },
        {
          "output_type": "stream",
          "name": "stderr",
          "text": [
            "\n",
            "100%|██████████| 391/391 [00:21<00:00, 18.50it/s]"
          ]
        },
        {
          "output_type": "stream",
          "name": "stdout",
          "text": [
            "[train] epoch: 4: average loss=0.01, average accuracy=0.61\n"
          ]
        },
        {
          "output_type": "stream",
          "name": "stderr",
          "text": [
            "\n",
            "100%|██████████| 391/391 [00:20<00:00, 18.71it/s]"
          ]
        },
        {
          "output_type": "stream",
          "name": "stdout",
          "text": [
            "[train] epoch: 5: average loss=0.01, average accuracy=0.65\n"
          ]
        },
        {
          "output_type": "stream",
          "name": "stderr",
          "text": [
            "\n",
            "100%|██████████| 391/391 [00:21<00:00, 18.00it/s]"
          ]
        },
        {
          "output_type": "stream",
          "name": "stdout",
          "text": [
            "[train] epoch: 6: average loss=0.01, average accuracy=0.68\n"
          ]
        },
        {
          "output_type": "stream",
          "name": "stderr",
          "text": [
            "\n",
            "100%|██████████| 391/391 [00:22<00:00, 17.37it/s]"
          ]
        },
        {
          "output_type": "stream",
          "name": "stdout",
          "text": [
            "[train] epoch: 7: average loss=0.01, average accuracy=0.71\n"
          ]
        },
        {
          "output_type": "stream",
          "name": "stderr",
          "text": [
            "\n",
            "100%|██████████| 391/391 [00:19<00:00, 19.63it/s]"
          ]
        },
        {
          "output_type": "stream",
          "name": "stdout",
          "text": [
            "[train] epoch: 8: average loss=0.01, average accuracy=0.73\n"
          ]
        },
        {
          "output_type": "stream",
          "name": "stderr",
          "text": [
            "\n",
            "100%|██████████| 391/391 [00:20<00:00, 19.27it/s]"
          ]
        },
        {
          "output_type": "stream",
          "name": "stdout",
          "text": [
            "[train] epoch: 9: average loss=0.01, average accuracy=0.74\n"
          ]
        },
        {
          "output_type": "stream",
          "name": "stderr",
          "text": [
            "\n",
            "100%|██████████| 391/391 [00:21<00:00, 17.99it/s]"
          ]
        },
        {
          "output_type": "stream",
          "name": "stdout",
          "text": [
            "[train] epoch: 10: average loss=0.01, average accuracy=0.76\n"
          ]
        },
        {
          "output_type": "stream",
          "name": "stderr",
          "text": [
            "\n",
            "100%|██████████| 391/391 [00:20<00:00, 19.44it/s]"
          ]
        },
        {
          "output_type": "stream",
          "name": "stdout",
          "text": [
            "[train] epoch: 11: average loss=0.01, average accuracy=0.77\n"
          ]
        },
        {
          "output_type": "stream",
          "name": "stderr",
          "text": [
            "\n",
            "100%|██████████| 391/391 [00:22<00:00, 17.51it/s]"
          ]
        },
        {
          "output_type": "stream",
          "name": "stdout",
          "text": [
            "[train] epoch: 12: average loss=0.01, average accuracy=0.78\n"
          ]
        },
        {
          "output_type": "stream",
          "name": "stderr",
          "text": [
            "\n",
            "100%|██████████| 391/391 [00:19<00:00, 19.86it/s]"
          ]
        },
        {
          "output_type": "stream",
          "name": "stdout",
          "text": [
            "[train] epoch: 13: average loss=0.00, average accuracy=0.78\n"
          ]
        },
        {
          "output_type": "stream",
          "name": "stderr",
          "text": [
            "\n",
            "100%|██████████| 391/391 [00:20<00:00, 18.93it/s]"
          ]
        },
        {
          "output_type": "stream",
          "name": "stdout",
          "text": [
            "[train] epoch: 14: average loss=0.00, average accuracy=0.79\n"
          ]
        },
        {
          "output_type": "stream",
          "name": "stderr",
          "text": [
            "\n",
            "100%|██████████| 391/391 [00:19<00:00, 19.73it/s]"
          ]
        },
        {
          "output_type": "stream",
          "name": "stdout",
          "text": [
            "[train] epoch: 15: average loss=0.00, average accuracy=0.80\n"
          ]
        },
        {
          "output_type": "stream",
          "name": "stderr",
          "text": [
            "\n"
          ]
        }
      ]
    },
    {
      "cell_type": "markdown",
      "source": [
        "Print the surrogate accuracy."
      ],
      "metadata": {
        "id": "3WBJtNiyL8WP"
      }
    },
    {
      "cell_type": "code",
      "source": [
        "print(f'Surrogate Accuracy {100 * test_clean(model):.2f}%')"
      ],
      "metadata": {
        "id": "Jdgr2I-VMCi3",
        "colab": {
          "base_uri": "https://localhost:8080/"
        },
        "outputId": "235eae07-e515-40d7-bbd1-d24fd8f1f58d"
      },
      "execution_count": null,
      "outputs": [
        {
          "output_type": "stream",
          "name": "stderr",
          "text": [
            "100%|██████████| 79/79 [00:01<00:00, 43.21it/s]"
          ]
        },
        {
          "output_type": "stream",
          "name": "stdout",
          "text": [
            "Surrogate Accuracy 76.08%\n"
          ]
        },
        {
          "output_type": "stream",
          "name": "stderr",
          "text": [
            "\n"
          ]
        }
      ]
    },
    {
      "cell_type": "markdown",
      "source": [
        "Report the accuracy of the surrogate for `ϵ = [1, 2, 4, 8, 16]`."
      ],
      "metadata": {
        "id": "YcMBV3o6MC47"
      }
    },
    {
      "cell_type": "code",
      "source": [
        "for eps in epsilons:\n",
        "    print('***********')\n",
        "    fgsm_acc = test_attack(model, eps / 255, attack_fgsm)\n",
        "    print(f'FGSM with ϵ={eps}/255 has Accuracy: {100 * fgsm_acc:.2f}%')\n",
        "    pgd_acc = test_attack(model, eps / 255, attack_pgd)\n",
        "    print(f'PGD  with ϵ={eps}/255 has Accuracy: {100 * pgd_acc:.2f}%')\n",
        "    print('***********')"
      ],
      "metadata": {
        "id": "EALFUBHpMLdA",
        "colab": {
          "base_uri": "https://localhost:8080/"
        },
        "outputId": "9659e994-44e5-4338-f201-79d2185e4c85"
      },
      "execution_count": null,
      "outputs": [
        {
          "output_type": "stream",
          "name": "stdout",
          "text": [
            "***********\n"
          ]
        },
        {
          "output_type": "stream",
          "name": "stderr",
          "text": [
            "100%|██████████| 79/79 [00:03<00:00, 24.42it/s]"
          ]
        },
        {
          "output_type": "stream",
          "name": "stdout",
          "text": [
            "FGSM with ϵ=1/255 has Accuracy: 55.67%\n"
          ]
        },
        {
          "output_type": "stream",
          "name": "stderr",
          "text": [
            "\n",
            "100%|██████████| 79/79 [00:23<00:00,  3.31it/s]"
          ]
        },
        {
          "output_type": "stream",
          "name": "stdout",
          "text": [
            "PGD  with ϵ=1/255 has Accuracy: 54.66%\n",
            "***********\n",
            "***********\n"
          ]
        },
        {
          "output_type": "stream",
          "name": "stderr",
          "text": [
            "\n",
            "100%|██████████| 79/79 [00:03<00:00, 24.60it/s]"
          ]
        },
        {
          "output_type": "stream",
          "name": "stdout",
          "text": [
            "FGSM with ϵ=2/255 has Accuracy: 38.76%\n"
          ]
        },
        {
          "output_type": "stream",
          "name": "stderr",
          "text": [
            "\n",
            "100%|██████████| 79/79 [00:24<00:00,  3.26it/s]"
          ]
        },
        {
          "output_type": "stream",
          "name": "stdout",
          "text": [
            "PGD  with ϵ=2/255 has Accuracy: 36.17%\n",
            "***********\n",
            "***********\n"
          ]
        },
        {
          "output_type": "stream",
          "name": "stderr",
          "text": [
            "\n",
            "100%|██████████| 79/79 [00:03<00:00, 24.64it/s]"
          ]
        },
        {
          "output_type": "stream",
          "name": "stdout",
          "text": [
            "FGSM with ϵ=4/255 has Accuracy: 19.07%\n"
          ]
        },
        {
          "output_type": "stream",
          "name": "stderr",
          "text": [
            "\n",
            "100%|██████████| 79/79 [00:23<00:00,  3.29it/s]"
          ]
        },
        {
          "output_type": "stream",
          "name": "stdout",
          "text": [
            "PGD  with ϵ=4/255 has Accuracy: 17.27%\n",
            "***********\n",
            "***********\n"
          ]
        },
        {
          "output_type": "stream",
          "name": "stderr",
          "text": [
            "\n",
            "100%|██████████| 79/79 [00:03<00:00, 21.64it/s]"
          ]
        },
        {
          "output_type": "stream",
          "name": "stdout",
          "text": [
            "FGSM with ϵ=8/255 has Accuracy: 5.54%\n"
          ]
        },
        {
          "output_type": "stream",
          "name": "stderr",
          "text": [
            "\n",
            "100%|██████████| 79/79 [00:23<00:00,  3.30it/s]"
          ]
        },
        {
          "output_type": "stream",
          "name": "stdout",
          "text": [
            "PGD  with ϵ=8/255 has Accuracy: 6.87%\n",
            "***********\n",
            "***********\n"
          ]
        },
        {
          "output_type": "stream",
          "name": "stderr",
          "text": [
            "\n",
            "100%|██████████| 79/79 [00:03<00:00, 20.82it/s]"
          ]
        },
        {
          "output_type": "stream",
          "name": "stdout",
          "text": [
            "FGSM with ϵ=16/255 has Accuracy: 2.08%\n"
          ]
        },
        {
          "output_type": "stream",
          "name": "stderr",
          "text": [
            "\n",
            "100%|██████████| 79/79 [00:24<00:00,  3.23it/s]"
          ]
        },
        {
          "output_type": "stream",
          "name": "stdout",
          "text": [
            "PGD  with ϵ=16/255 has Accuracy: 5.72%\n",
            "***********\n"
          ]
        },
        {
          "output_type": "stream",
          "name": "stderr",
          "text": [
            "\n"
          ]
        }
      ]
    },
    {
      "cell_type": "markdown",
      "source": [
        "Implement the following functions to transfer attacks from a surrogate model to an oracle."
      ],
      "metadata": {
        "id": "buQG6pvgLsAc"
      }
    },
    {
      "cell_type": "code",
      "source": [
        "def transfer_attack(oracle, model, eps, loader=testloader):\n",
        "    # TODO: Attack the model and report the accuracy of the oracle\n",
        "    oracle.eval()\n",
        "\n",
        "    correct = 0\n",
        "    total = 0\n",
        "    with tqdm(iterable=enumerate(loader), total=len(loader)) as pbar:\n",
        "      for i, (img, label) in pbar:\n",
        "        img = img.to(device)\n",
        "        label = label.to(device)\n",
        "\n",
        "        adv_img = attack_fgsm(model, img, label, eps)\n",
        "        logit = oracle(adv_img)\n",
        "\n",
        "        prob = F.softmax(logit, dim=-1)\n",
        "        correct += torch.sum(prob.argmax(dim=1) == label).item()\n",
        "        total += img.shape[0]\n",
        "\n",
        "    avg_acc = correct / total\n",
        "    return avg_acc"
      ],
      "metadata": {
        "id": "Wu2vy0kY5Rmi"
      },
      "execution_count": null,
      "outputs": []
    },
    {
      "cell_type": "markdown",
      "source": [
        "Transfer attacks for `ϵ = [1, 2, 4, 8, 16]` from your model to the student."
      ],
      "metadata": {
        "id": "qO24bT2p6oyl"
      }
    },
    {
      "cell_type": "code",
      "source": [
        "for eps in epsilons:\n",
        "    acc = transfer_attack(student, model, eps/255)\n",
        "    print(f'FGSM with ϵ={eps}/255 has Accuracy: {100 * acc:.2f}%')"
      ],
      "metadata": {
        "id": "Qfcu7QgD6vtW",
        "colab": {
          "base_uri": "https://localhost:8080/"
        },
        "outputId": "a0993afa-adb2-46a4-85ee-78bf92f653e9"
      },
      "execution_count": null,
      "outputs": [
        {
          "output_type": "stream",
          "name": "stderr",
          "text": [
            "100%|██████████| 79/79 [00:03<00:00, 21.73it/s]"
          ]
        },
        {
          "output_type": "stream",
          "name": "stdout",
          "text": [
            "FGSM with ϵ=1/255 has Accuracy: 73.49%\n"
          ]
        },
        {
          "output_type": "stream",
          "name": "stderr",
          "text": [
            "\n",
            "100%|██████████| 79/79 [00:03<00:00, 25.19it/s]"
          ]
        },
        {
          "output_type": "stream",
          "name": "stdout",
          "text": [
            "FGSM with ϵ=2/255 has Accuracy: 67.78%\n"
          ]
        },
        {
          "output_type": "stream",
          "name": "stderr",
          "text": [
            "\n",
            "100%|██████████| 79/79 [00:03<00:00, 20.00it/s]"
          ]
        },
        {
          "output_type": "stream",
          "name": "stdout",
          "text": [
            "FGSM with ϵ=4/255 has Accuracy: 55.64%\n"
          ]
        },
        {
          "output_type": "stream",
          "name": "stderr",
          "text": [
            "\n",
            "100%|██████████| 79/79 [00:03<00:00, 25.30it/s]"
          ]
        },
        {
          "output_type": "stream",
          "name": "stdout",
          "text": [
            "FGSM with ϵ=8/255 has Accuracy: 35.87%\n"
          ]
        },
        {
          "output_type": "stream",
          "name": "stderr",
          "text": [
            "\n",
            "100%|██████████| 79/79 [00:03<00:00, 25.19it/s]"
          ]
        },
        {
          "output_type": "stream",
          "name": "stdout",
          "text": [
            "FGSM with ϵ=16/255 has Accuracy: 17.26%\n"
          ]
        },
        {
          "output_type": "stream",
          "name": "stderr",
          "text": [
            "\n"
          ]
        }
      ]
    },
    {
      "cell_type": "markdown",
      "source": [
        "- What can be inferred from these results?\n",
        "- How are the accuracies of the student and the surrogate under attack related?\n",
        "- Does Defensive Distillation obfuscate the gradients? Why?\n",
        "\n",
        "`your response:`\n",
        "We can conclude that the Defensive distillation cause obfuscated gradients. Because, black-box attack (trasnferring) was very successful compared to the white-box attack on the student model."
      ],
      "metadata": {
        "id": "RtGOcOmzPO3G"
      }
    },
    {
      "cell_type": "markdown",
      "source": [
        "# ZOO Based Black-Box Attacks (25 points)"
      ],
      "metadata": {
        "id": "aRPjp84p81nn"
      }
    },
    {
      "cell_type": "markdown",
      "source": [
        "Based on [Black-box Adversarial Attacks with Limited Queries and Information](https://arxiv.org/abs/1804.08598) you must first calculate the estimate of the graidents, and next attack the model based on your estimates."
      ],
      "metadata": {
        "id": "7aaXmYSbQ2W_"
      }
    },
    {
      "cell_type": "code",
      "source": [
        "def nes_gradient_estimate(model, x, y, epsilon, num_samples, sigma):\n",
        "    # TODO: Return the estimated gradient\n",
        "    model.eval()\n",
        "    criterion = nn.CrossEntropyLoss()\n",
        "\n",
        "    noise = torch.randn((num_samples * x.shape[0], 3, 32, 32)).squeeze(1).to(device)\n",
        "    x_tile = x.repeat(num_samples, 1, 1, 1, 1, 1).view(-1, 3, 32, 32).to(device)\n",
        "    y_tile = y.repeat(num_samples, 1).view(-1).to(device)\n",
        "\n",
        "    logit = model(x_tile + sigma * noise)\n",
        "    loss = criterion(logit, y_tile)\n",
        "    grad = torch.sum((noise * loss.item()).view((num_samples, x.shape[0], 3, 32, 32)), dim=0)\n",
        "\n",
        "    # logit = model(x_tile - sigma * noise)\n",
        "    # loss = criterion(logit, y_tile)\n",
        "    # grad += torch.sum((-noise * loss.item()).view((num_samples, x.shape[0], 3, 32, 32)), dim=0)\n",
        "\n",
        "    grad /= num_samples * sigma\n",
        "\n",
        "    return grad"
      ],
      "metadata": {
        "id": "Z6PlkF_A-aDS"
      },
      "execution_count": null,
      "outputs": []
    },
    {
      "cell_type": "code",
      "source": [
        "def partial_information_attack(model, x, y, epsilon, num_samples=100, sigma=0.1, num_steps=10, alpha=0.001):\n",
        "  pert_x = x.clone().to(device)\n",
        "\n",
        "  for _ in range(num_steps):\n",
        "    grad = nes_gradient_estimate(model, pert_x, y, epsilon, num_samples, sigma)\n",
        "\n",
        "    adv_x = pert_x + alpha*grad.sign()\n",
        "    eta = torch.clamp(adv_x - x, min=-epsilon, max=epsilon)\n",
        "    pert_x = torch.clamp(x + eta, min=0, max=1).detach_()\n",
        "\n",
        "  return pert_x"
      ],
      "metadata": {
        "id": "yBF7Spoh-nmJ"
      },
      "execution_count": null,
      "outputs": []
    },
    {
      "cell_type": "markdown",
      "source": [
        "Now run this attack on your models and report the results. (You **DON'T** need to run the attack for the entire test dataset as this will take a lot of time!)"
      ],
      "metadata": {
        "id": "Z8XgGVWZRb1P"
      }
    },
    {
      "cell_type": "code",
      "source": [
        "def short_test_attack(model, epsilon, attack, loader=testloader):\n",
        "    # TODO: Return the robust accuracy for FGSM or PGD\n",
        "    model.eval()\n",
        "\n",
        "    correct = 0\n",
        "    total = 0\n",
        "    adv_imgs = []\n",
        "    with tqdm(iterable=enumerate(loader), total=len(loader)) as pbar:\n",
        "      for i, (img, label) in pbar:\n",
        "        if i == 5:\n",
        "          break\n",
        "\n",
        "        img = img.to(device)\n",
        "        label = label.to(device)\n",
        "\n",
        "        adv_img = attack(model, img, label, epsilon)\n",
        "        logit = model(adv_img)\n",
        "\n",
        "        prob = F.softmax(logit, dim=-1)\n",
        "        correct += torch.sum(prob.argmax(dim=1) == label).item()\n",
        "        total += img.shape[0]\n",
        "        adv_imgs.append(adv_img[prob.argmax(dim=1) != label])\n",
        "\n",
        "    avg_acc = correct / total\n",
        "    return adv_imgs, avg_acc"
      ],
      "metadata": {
        "id": "fEp05aHuRtvt"
      },
      "execution_count": null,
      "outputs": []
    },
    {
      "cell_type": "code",
      "source": [
        "adv_imgs, avg_acc = short_test_attack(model, 0.05, partial_information_attack, loader=testloader)\n",
        "print(f'accuracy for reduced testset for partial information attack={avg_acc * 100:.2f}%')"
      ],
      "metadata": {
        "id": "N94Is59sRq8u",
        "colab": {
          "base_uri": "https://localhost:8080/"
        },
        "outputId": "379f5693-f136-4789-b9c2-309e8c7d1d0d"
      },
      "execution_count": null,
      "outputs": [
        {
          "output_type": "stream",
          "name": "stderr",
          "text": [
            "  6%|▋         | 5/79 [00:39<09:49,  7.96s/it]"
          ]
        },
        {
          "output_type": "stream",
          "name": "stdout",
          "text": [
            "accuracy for reduced testset for partial information attack=79.22%\n"
          ]
        },
        {
          "output_type": "stream",
          "name": "stderr",
          "text": [
            "\n"
          ]
        }
      ]
    },
    {
      "cell_type": "code",
      "source": [
        "fig = plt.figure(figsize=(1, 1))\n",
        "plt.imshow(adv_imgs[0][0].cpu().permute(1, 2, 0).numpy())"
      ],
      "metadata": {
        "colab": {
          "base_uri": "https://localhost:8080/",
          "height": 159
        },
        "id": "Cof-QZqcL-oJ",
        "outputId": "a8981b2e-c4a4-45d3-c339-4d75308146d0"
      },
      "execution_count": null,
      "outputs": [
        {
          "output_type": "execute_result",
          "data": {
            "text/plain": [
              "<matplotlib.image.AxesImage at 0x7aadc39cbbb0>"
            ]
          },
          "metadata": {},
          "execution_count": 85
        },
        {
          "output_type": "display_data",
          "data": {
            "text/plain": [
              "<Figure size 100x100 with 1 Axes>"
            ],
            "image/png": "[encoded data removed]"
          },
          "metadata": {}
        }
      ]
    },
    {
      "cell_type": "markdown",
      "source": [
        "# Adversarially Robust Distillation (15 points)"
      ],
      "metadata": {
        "id": "P30qgaIHVFxr"
      }
    },
    {
      "cell_type": "markdown",
      "source": [
        "In this section we are going to test another type of distillation to see if this method is robust. This technique is [Adversarially Robust Distillation](https://arxiv.org/abs/1905.09747).\n",
        "\n",
        "\n",
        "\n",
        "1.   We will try to distill a robsut teacher from [Robust Bench](https://robustbench.github.io/) onto a smaller architecture.\n",
        "2.   We minimize the KL-Divergence between the logits of the student and teacher to ensure fidelity. (You can also incorporate the classification loss as mentioned in the paper but you can choose to ignore it as well)\n",
        "3.   At each step of the distillation you will attack the student (you can use either FGSM or PGD) and find an adversarial example $X + \\delta$ for data point $X$. Next you will minimize $t^2 \\times \\text{KL}(S(X+\\delta), T(X))$ where $S$ and $T$ are the student and teacher networks respectively.\n",
        "\n"
      ],
      "metadata": {
        "id": "QlP5yndiV7Fg"
      }
    },
    {
      "cell_type": "code",
      "source": [
        "! pip install git+https://github.com/RobustBench/robustbench.git"
      ],
      "metadata": {
        "id": "kOHVJtf0V6NT",
        "colab": {
          "base_uri": "https://localhost:8080/"
        },
        "collapsed": true,
        "outputId": "cc0b8670-1069-430f-9db7-07ea3fd13167"
      },
      "execution_count": null,
      "outputs": [
        {
          "output_type": "stream",
          "name": "stdout",
          "text": [
            "Collecting git+https://github.com/RobustBench/robustbench.git\n",
            "  Cloning https://github.com/RobustBench/robustbench.git to /tmp/pip-req-build-wwmma4za\n",
            "  Running command git clone --filter=blob:none --quiet https://github.com/RobustBench/robustbench.git /tmp/pip-req-build-wwmma4za\n",
            "  Resolved https://github.com/RobustBench/robustbench.git to commit 776bc95bb4167827fb102a32ac5aea62e46cfaab\n",
            "  Preparing metadata (setup.py) ... \u001b[?25l\u001b[?25hdone\n",
            "Collecting autoattack@ git+https://github.com/fra31/auto-attack.git@a39220048b3c9f2cca9a4d3a54604793c68eca7e#egg=autoattack (from robustbench==1.1)\n",
            "  Cloning https://github.com/fra31/auto-attack.git (to revision a39220048b3c9f2cca9a4d3a54604793c68eca7e) to /tmp/pip-install-9ife3k8r/autoattack_e20e33ba0bf14418a2787ef72f478f51\n",
            "  Running command git clone --filter=blob:none --quiet https://github.com/fra31/auto-attack.git /tmp/pip-install-9ife3k8r/autoattack_e20e33ba0bf14418a2787ef72f478f51\n",
            "  Running command git rev-parse -q --verify 'sha^a39220048b3c9f2cca9a4d3a54604793c68eca7e'\n",
            "  Running command git fetch -q https://github.com/fra31/auto-attack.git a39220048b3c9f2cca9a4d3a54604793c68eca7e\n",
            "  Resolved https://github.com/fra31/auto-attack.git to commit a39220048b3c9f2cca9a4d3a54604793c68eca7e\n",
            "  Preparing metadata (setup.py) ... \u001b[?25l\u001b[?25hdone\n",
            "Requirement already satisfied: torch>=1.7.1 in /usr/local/lib/python3.10/dist-packages (from robustbench==1.1) (2.5.0+cu121)\n",
            "Requirement already satisfied: torchvision>=0.8.2 in /usr/local/lib/python3.10/dist-packages (from robustbench==1.1) (0.20.0+cu121)\n",
            "Collecting torchdiffeq (from robustbench==1.1)\n",
            "  Downloading torchdiffeq-0.2.4-py3-none-any.whl.metadata (440 bytes)\n",
            "Collecting geotorch (from robustbench==1.1)\n",
            "  Downloading geotorch-0.3.0-py3-none-any.whl.metadata (14 kB)\n",
            "Requirement already satisfied: requests>=2.25.0 in /usr/local/lib/python3.10/dist-packages (from robustbench==1.1) (2.32.3)\n",
            "Requirement already satisfied: numpy>=1.19.4 in /usr/local/lib/python3.10/dist-packages (from robustbench==1.1) (1.26.4)\n",
            "Requirement already satisfied: Jinja2~=3.1.2 in /usr/local/lib/python3.10/dist-packages (from robustbench==1.1) (3.1.4)\n",
            "Requirement already satisfied: tqdm>=4.56.1 in /usr/local/lib/python3.10/dist-packages (from robustbench==1.1) (4.66.6)\n",
            "Requirement already satisfied: pandas>=1.3.5 in /usr/local/lib/python3.10/dist-packages (from robustbench==1.1) (2.2.2)\n",
            "Requirement already satisfied: timm>=0.9.0 in /usr/local/lib/python3.10/dist-packages (from robustbench==1.1) (1.0.11)\n",
            "Collecting gdown==5.1.0 (from robustbench==1.1)\n",
            "  Downloading gdown-5.1.0-py3-none-any.whl.metadata (5.7 kB)\n",
            "Requirement already satisfied: pyyaml in /usr/local/lib/python3.10/dist-packages (from robustbench==1.1) (6.0.2)\n",
            "Requirement already satisfied: beautifulsoup4 in /usr/local/lib/python3.10/dist-packages (from gdown==5.1.0->robustbench==1.1) (4.12.3)\n",
            "Requirement already satisfied: filelock in /usr/local/lib/python3.10/dist-packages (from gdown==5.1.0->robustbench==1.1) (3.16.1)\n",
            "Requirement already satisfied: MarkupSafe>=2.0 in /usr/local/lib/python3.10/dist-packages (from Jinja2~=3.1.2->robustbench==1.1) (3.0.2)\n",
            "Requirement already satisfied: python-dateutil>=2.8.2 in /usr/local/lib/python3.10/dist-packages (from pandas>=1.3.5->robustbench==1.1) (2.8.2)\n",
            "Requirement already satisfied: pytz>=2020.1 in /usr/local/lib/python3.10/dist-packages (from pandas>=1.3.5->robustbench==1.1) (2024.2)\n",
            "Requirement already satisfied: tzdata>=2022.7 in /usr/local/lib/python3.10/dist-packages (from pandas>=1.3.5->robustbench==1.1) (2024.2)\n",
            "Requirement already satisfied: charset-normalizer<4,>=2 in /usr/local/lib/python3.10/dist-packages (from requests>=2.25.0->robustbench==1.1) (3.4.0)\n",
            "Requirement already satisfied: idna<4,>=2.5 in /usr/local/lib/python3.10/dist-packages (from requests>=2.25.0->robustbench==1.1) (3.10)\n",
            "Requirement already satisfied: urllib3<3,>=1.21.1 in /usr/local/lib/python3.10/dist-packages (from requests>=2.25.0->robustbench==1.1) (2.2.3)\n",
            "Requirement already satisfied: certifi>=2017.4.17 in /usr/local/lib/python3.10/dist-packages (from requests>=2.25.0->robustbench==1.1) (2024.8.30)\n",
            "Requirement already satisfied: huggingface_hub in /usr/local/lib/python3.10/dist-packages (from timm>=0.9.0->robustbench==1.1) (0.26.2)\n",
            "Requirement already satisfied: safetensors in /usr/local/lib/python3.10/dist-packages (from timm>=0.9.0->robustbench==1.1) (0.4.5)\n",
            "Requirement already satisfied: typing-extensions>=4.8.0 in /usr/local/lib/python3.10/dist-packages (from torch>=1.7.1->robustbench==1.1) (4.12.2)\n",
            "Requirement already satisfied: networkx in /usr/local/lib/python3.10/dist-packages (from torch>=1.7.1->robustbench==1.1) (3.4.2)\n",
            "Requirement already satisfied: fsspec in /usr/local/lib/python3.10/dist-packages (from torch>=1.7.1->robustbench==1.1) (2024.10.0)\n",
            "Requirement already satisfied: sympy==1.13.1 in /usr/local/lib/python3.10/dist-packages (from torch>=1.7.1->robustbench==1.1) (1.13.1)\n",
            "Requirement already satisfied: mpmath<1.4,>=1.1.0 in /usr/local/lib/python3.10/dist-packages (from sympy==1.13.1->torch>=1.7.1->robustbench==1.1) (1.3.0)\n",
            "Requirement already satisfied: pillow!=8.3.*,>=5.3.0 in /usr/local/lib/python3.10/dist-packages (from torchvision>=0.8.2->robustbench==1.1) (11.0.0)\n",
            "Requirement already satisfied: scipy>=1.4.0 in /usr/local/lib/python3.10/dist-packages (from torchdiffeq->robustbench==1.1) (1.13.1)\n",
            "Requirement already satisfied: six>=1.5 in /usr/local/lib/python3.10/dist-packages (from python-dateutil>=2.8.2->pandas>=1.3.5->robustbench==1.1) (1.16.0)\n",
            "Requirement already satisfied: soupsieve>1.2 in /usr/local/lib/python3.10/dist-packages (from beautifulsoup4->gdown==5.1.0->robustbench==1.1) (2.6)\n",
            "Requirement already satisfied: packaging>=20.9 in /usr/local/lib/python3.10/dist-packages (from huggingface_hub->timm>=0.9.0->robustbench==1.1) (24.2)\n",
            "Requirement already satisfied: PySocks!=1.5.7,>=1.5.6 in /usr/local/lib/python3.10/dist-packages (from requests[socks]->gdown==5.1.0->robustbench==1.1) (1.7.1)\n",
            "Downloading gdown-5.1.0-py3-none-any.whl (17 kB)\n",
            "Downloading geotorch-0.3.0-py3-none-any.whl (54 kB)\n",
            "\u001b[2K   \u001b[90m━━━━━━━━━━━━━━━━━━━━━━━━━━━━━━━━━━━━━━━━\u001b[0m \u001b[32m54.8/54.8 kB\u001b[0m \u001b[31m4.0 MB/s\u001b[0m eta \u001b[36m0:00:00\u001b[0m\n",
            "\u001b[?25hDownloading torchdiffeq-0.2.4-py3-none-any.whl (32 kB)\n",
            "Building wheels for collected packages: robustbench, autoattack\n",
            "  Building wheel for robustbench (setup.py) ... \u001b[?25l\u001b[?25hdone\n",
            "  Created wheel for robustbench: filename=robustbench-1.1-py3-none-any.whl size=164211 sha256=3beca74848170d07f67f699319180b7d83783220e5856aec5170df4c1c947f99\n",
            "  Stored in directory: /tmp/pip-ephem-wheel-cache-oumfi48q/wheels/a6/95/83/6461b55d0c3f761c07216e248dfa511f4d780da4c1e00294b8\n",
            "  Building wheel for autoattack (setup.py) ... \u001b[?25l\u001b[?25hdone\n",
            "  Created wheel for autoattack: filename=autoattack-0.1-py3-none-any.whl size=36229 sha256=95aa7a4d3222975973c550830f4abf1ba6b5c64ba04d2ea63375d2fed13e7491\n",
            "  Stored in directory: /root/.cache/pip/wheels/72/59/98/10a8eb862dabff57be1d1e3b1a3664acc78da7667d2c835584\n",
            "Successfully built robustbench autoattack\n",
            "Installing collected packages: autoattack, torchdiffeq, geotorch, gdown, robustbench\n",
            "  Attempting uninstall: gdown\n",
            "    Found existing installation: gdown 5.2.0\n",
            "    Uninstalling gdown-5.2.0:\n",
            "      Successfully uninstalled gdown-5.2.0\n",
            "Successfully installed autoattack-0.1 gdown-5.1.0 geotorch-0.3.0 robustbench-1.1 torchdiffeq-0.2.4\n"
          ]
        }
      ]
    },
    {
      "cell_type": "code",
      "source": [
        "from robustbench.utils import load_model\n",
        "\n",
        "teacher = load_model(model_name='Gowal2021Improving_R18_ddpm_100m', dataset='cifar10', threat_model='Linf')"
      ],
      "metadata": {
        "id": "nD9wjBojWz_T",
        "colab": {
          "base_uri": "https://localhost:8080/"
        },
        "outputId": "a312f609-894e-4320-9624-d164d5a92e7e"
      },
      "execution_count": null,
      "outputs": [
        {
          "output_type": "stream",
          "name": "stderr",
          "text": [
            "/usr/local/lib/python3.10/dist-packages/timm/models/registry.py:4: FutureWarning: Importing from timm.models.registry is deprecated, please import via timm.models\n",
            "  warnings.warn(f\"Importing from {__name__} is deprecated, please import via timm.models\", FutureWarning)\n",
            "/usr/local/lib/python3.10/dist-packages/timm/models/layers/__init__.py:48: FutureWarning: Importing from timm.models.layers is deprecated, please import via timm.layers\n",
            "  warnings.warn(f\"Importing from {__name__} is deprecated, please import via timm.layers\", FutureWarning)\n",
            "/usr/local/lib/python3.10/dist-packages/timm/models/helpers.py:7: FutureWarning: Importing from timm.models.helpers is deprecated, please import via timm.models\n",
            "  warnings.warn(f\"Importing from {__name__} is deprecated, please import via timm.models\", FutureWarning)\n"
          ]
        },
        {
          "output_type": "stream",
          "name": "stdout",
          "text": [
            "Downloading models/cifar10/Linf/Gowal2021Improving_R18_ddpm_100m.pt (gdrive_id=1-0EuCJashqSXEkkd1DOzFA4tH8KL2kim).\n"
          ]
        },
        {
          "output_type": "stream",
          "name": "stderr",
          "text": [
            "Downloading...\n",
            "From (original): https://drive.google.com/uc?id=1-0EuCJashqSXEkkd1DOzFA4tH8KL2kim\n",
            "From (redirected): https://drive.google.com/uc?id=1-0EuCJashqSXEkkd1DOzFA4tH8KL2kim&confirm=t&uuid=64ba792d-efcc-4128-9a23-a27c7418aedc\n",
            "To: /content/models/cifar10/Linf/Gowal2021Improving_R18_ddpm_100m.pt\n",
            "100%|██████████| 50.3M/50.3M [00:00<00:00, 51.3MB/s]\n",
            "/usr/local/lib/python3.10/dist-packages/robustbench/utils.py:165: FutureWarning: You are using `torch.load` with `weights_only=False` (the current default value), which uses the default pickle module implicitly. It is possible to construct malicious pickle data which will execute arbitrary code during unpickling (See https://github.com/pytorch/pytorch/blob/main/SECURITY.md#untrusted-models for more details). In a future release, the default value for `weights_only` will be flipped to `True`. This limits the functions that could be executed during unpickling. Arbitrary objects will no longer be allowed to be loaded via this mode unless they are explicitly allowlisted by the user via `torch.serialization.add_safe_globals`. We recommend you start setting `weights_only=True` for any use case where you don't have full control of the loaded file. Please open an issue on GitHub for any issues related to this experimental feature.\n",
            "  checkpoint = torch.load(model_path, map_location=torch.device('cpu'))\n"
          ]
        }
      ]
    },
    {
      "cell_type": "code",
      "source": [
        "def ard(student, teacher, dataloader, optimizer, eps, attack):\n",
        "    # TODO\n",
        "    T = 100\n",
        "    student.train()\n",
        "    teacher.eval()\n",
        "\n",
        "    avg_loss = 0\n",
        "    correct = 0\n",
        "    total = 0\n",
        "\n",
        "    with tqdm(iterable=enumerate(dataloader), total=len(dataloader)) as pbar:\n",
        "      for i, (img, label) in pbar:\n",
        "        img = img.to(device)\n",
        "        label = label.to(device)\n",
        "\n",
        "        adv_img = attack(student, img, label, eps)\n",
        "\n",
        "        optimizer.zero_grad()\n",
        "        with torch.no_grad():\n",
        "          teacher_logits = teacher(img)\n",
        "\n",
        "        student_logits = student(adv_img)\n",
        "\n",
        "        soft_targets = F.softmax(teacher_logits / T, dim=-1)\n",
        "        soft_prob = F.log_softmax(student_logits / T, dim=-1)\n",
        "\n",
        "        soft_targets_loss = torch.sum(soft_targets * (soft_targets.log() - soft_prob)) / soft_prob.size()[0] * (T**2)\n",
        "\n",
        "\n",
        "        soft_targets_loss.backward()\n",
        "        optimizer.step()\n",
        "\n",
        "        avg_loss += soft_targets_loss.item()\n",
        "        correct += torch.sum(student_logits.argmax(dim=1) == label).item()\n",
        "        total += img.shape[0]\n",
        "\n",
        "    avg_loss /= total\n",
        "    avg_acc = correct / total\n",
        "    return avg_loss, avg_acc\n",
        "\n",
        "\n",
        "def adv_train_student(model, teacher, n_epochs, eps=8/255, loader=trainloader):\n",
        "  optimizer = Adam(model.parameters(), lr=0.01)\n",
        "\n",
        "  for epoch in range(1, n_epochs + 1):\n",
        "    avg_loss, avg_acc = ard(model, teacher, loader, optimizer, eps, attack_fgsm)\n",
        "    print(f'[ARD train] epoch {epoch}: mean loss: {avg_loss:.2f}, mean accuracy: {100 * avg_acc:.2f}%')"
      ],
      "metadata": {
        "id": "FLGDeE1YY6uO"
      },
      "execution_count": null,
      "outputs": []
    },
    {
      "cell_type": "code",
      "source": [
        "student = mobilenet_v2(weights=None)\n",
        "student.classifier[1] = nn.Linear(1280, 10)\n",
        "student = student.to(device)\n",
        "\n",
        "teacher = teacher.to(device)\n",
        "\n",
        "# TODO: Adjust and train the student\n",
        "\n",
        "adv_train_student(student, teacher, 15)"
      ],
      "metadata": {
        "id": "eAEyoDc-ZUtr",
        "colab": {
          "base_uri": "https://localhost:8080/"
        },
        "outputId": "e23df192-5186-4c99-d567-f30a1d8eea6f"
      },
      "execution_count": null,
      "outputs": [
        {
          "output_type": "stream",
          "name": "stderr",
          "text": [
            "100%|██████████| 391/391 [00:39<00:00,  9.79it/s]"
          ]
        },
        {
          "output_type": "stream",
          "name": "stdout",
          "text": [
            "[ARD train] epoch 1: mean loss: 0.03, mean accuracy: 14.18%\n"
          ]
        },
        {
          "output_type": "stream",
          "name": "stderr",
          "text": [
            "\n",
            "100%|██████████| 391/391 [00:43<00:00,  9.07it/s]"
          ]
        },
        {
          "output_type": "stream",
          "name": "stdout",
          "text": [
            "[ARD train] epoch 2: mean loss: 0.03, mean accuracy: 17.91%\n"
          ]
        },
        {
          "output_type": "stream",
          "name": "stderr",
          "text": [
            "\n",
            "100%|██████████| 391/391 [00:41<00:00,  9.47it/s]"
          ]
        },
        {
          "output_type": "stream",
          "name": "stdout",
          "text": [
            "[ARD train] epoch 3: mean loss: 0.02, mean accuracy: 23.32%\n"
          ]
        },
        {
          "output_type": "stream",
          "name": "stderr",
          "text": [
            "\n",
            "100%|██████████| 391/391 [00:40<00:00,  9.61it/s]"
          ]
        },
        {
          "output_type": "stream",
          "name": "stdout",
          "text": [
            "[ARD train] epoch 4: mean loss: 0.02, mean accuracy: 29.58%\n"
          ]
        },
        {
          "output_type": "stream",
          "name": "stderr",
          "text": [
            "\n",
            "100%|██████████| 391/391 [00:42<00:00,  9.30it/s]"
          ]
        },
        {
          "output_type": "stream",
          "name": "stdout",
          "text": [
            "[ARD train] epoch 5: mean loss: 0.02, mean accuracy: 34.01%\n"
          ]
        },
        {
          "output_type": "stream",
          "name": "stderr",
          "text": [
            "\n",
            "100%|██████████| 391/391 [00:40<00:00,  9.69it/s]"
          ]
        },
        {
          "output_type": "stream",
          "name": "stdout",
          "text": [
            "[ARD train] epoch 6: mean loss: 0.02, mean accuracy: 38.64%\n"
          ]
        },
        {
          "output_type": "stream",
          "name": "stderr",
          "text": [
            "\n",
            "100%|██████████| 391/391 [00:41<00:00,  9.32it/s]"
          ]
        },
        {
          "output_type": "stream",
          "name": "stdout",
          "text": [
            "[ARD train] epoch 7: mean loss: 0.02, mean accuracy: 42.39%\n"
          ]
        },
        {
          "output_type": "stream",
          "name": "stderr",
          "text": [
            "\n",
            "100%|██████████| 391/391 [00:41<00:00,  9.42it/s]"
          ]
        },
        {
          "output_type": "stream",
          "name": "stdout",
          "text": [
            "[ARD train] epoch 8: mean loss: 0.01, mean accuracy: 44.48%\n"
          ]
        },
        {
          "output_type": "stream",
          "name": "stderr",
          "text": [
            "\n",
            "100%|██████████| 391/391 [00:41<00:00,  9.32it/s]"
          ]
        },
        {
          "output_type": "stream",
          "name": "stdout",
          "text": [
            "[ARD train] epoch 9: mean loss: 0.01, mean accuracy: 49.28%\n"
          ]
        },
        {
          "output_type": "stream",
          "name": "stderr",
          "text": [
            "\n",
            "100%|██████████| 391/391 [00:42<00:00,  9.26it/s]"
          ]
        },
        {
          "output_type": "stream",
          "name": "stdout",
          "text": [
            "[ARD train] epoch 10: mean loss: 0.01, mean accuracy: 50.88%\n"
          ]
        },
        {
          "output_type": "stream",
          "name": "stderr",
          "text": [
            "\n",
            "100%|██████████| 391/391 [00:40<00:00,  9.60it/s]"
          ]
        },
        {
          "output_type": "stream",
          "name": "stdout",
          "text": [
            "[ARD train] epoch 11: mean loss: 0.01, mean accuracy: 55.25%\n"
          ]
        },
        {
          "output_type": "stream",
          "name": "stderr",
          "text": [
            "\n",
            "100%|██████████| 391/391 [00:42<00:00,  9.29it/s]"
          ]
        },
        {
          "output_type": "stream",
          "name": "stdout",
          "text": [
            "[ARD train] epoch 12: mean loss: 0.01, mean accuracy: 59.79%\n"
          ]
        },
        {
          "output_type": "stream",
          "name": "stderr",
          "text": [
            "\n",
            "100%|██████████| 391/391 [00:40<00:00,  9.58it/s]"
          ]
        },
        {
          "output_type": "stream",
          "name": "stdout",
          "text": [
            "[ARD train] epoch 13: mean loss: 0.01, mean accuracy: 63.91%\n"
          ]
        },
        {
          "output_type": "stream",
          "name": "stderr",
          "text": [
            "\n",
            "100%|██████████| 391/391 [00:41<00:00,  9.37it/s]"
          ]
        },
        {
          "output_type": "stream",
          "name": "stdout",
          "text": [
            "[ARD train] epoch 14: mean loss: 0.01, mean accuracy: 63.29%\n"
          ]
        },
        {
          "output_type": "stream",
          "name": "stderr",
          "text": [
            "\n",
            "100%|██████████| 391/391 [00:41<00:00,  9.36it/s]"
          ]
        },
        {
          "output_type": "stream",
          "name": "stdout",
          "text": [
            "[ARD train] epoch 15: mean loss: 0.01, mean accuracy: 68.10%\n"
          ]
        },
        {
          "output_type": "stream",
          "name": "stderr",
          "text": [
            "\n"
          ]
        }
      ]
    },
    {
      "cell_type": "markdown",
      "source": [
        "Now report the accuracy of the student on the test dataset."
      ],
      "metadata": {
        "id": "bwVcIMu9ZF12"
      }
    },
    {
      "cell_type": "code",
      "source": [
        "# TODO: Clean accurcy\n",
        "\n",
        "clean_acc = test_clean(student)\n",
        "print(f'clean accuracy = {clean_acc * 100:.2f}%')\n",
        "# TODO: FGSM with eps=8/255\n",
        "\n",
        "fgsm_acc = test_attack(student, 8/255, attack_fgsm)\n",
        "print(f'fgsm accuracy = {fgsm_acc * 100:.2f}%')\n",
        "# TODO: PGD with eps=8/255\n",
        "\n",
        "pgd_acc = test_attack(student, 8/255, attack_pgd)\n",
        "print(f'PGD accuracy = {pgd_acc * 100:.2f}%')"
      ],
      "metadata": {
        "id": "6_tXDzGyZNCW",
        "colab": {
          "base_uri": "https://localhost:8080/"
        },
        "outputId": "87d9894c-30fe-47a7-82a0-c1be39963e41"
      },
      "execution_count": null,
      "outputs": [
        {
          "output_type": "stream",
          "name": "stderr",
          "text": [
            "100%|██████████| 79/79 [00:02<00:00, 33.81it/s]"
          ]
        },
        {
          "output_type": "stream",
          "name": "stdout",
          "text": [
            "clean accuracy = 60.71%\n"
          ]
        },
        {
          "output_type": "stream",
          "name": "stderr",
          "text": [
            "\n",
            "100%|██████████| 79/79 [00:03<00:00, 20.86it/s]"
          ]
        },
        {
          "output_type": "stream",
          "name": "stdout",
          "text": [
            "fgsm accuracy = 50.08%\n"
          ]
        },
        {
          "output_type": "stream",
          "name": "stderr",
          "text": [
            "\n",
            "100%|██████████| 79/79 [00:18<00:00,  4.21it/s]"
          ]
        },
        {
          "output_type": "stream",
          "name": "stdout",
          "text": [
            "PGD accuracy = 44.32%\n"
          ]
        },
        {
          "output_type": "stream",
          "name": "stderr",
          "text": [
            "\n"
          ]
        }
      ]
    },
    {
      "cell_type": "code",
      "source": [],
      "metadata": {
        "id": "WcgLRA6Bl9zg"
      },
      "execution_count": null,
      "outputs": []
    }
  ]
}